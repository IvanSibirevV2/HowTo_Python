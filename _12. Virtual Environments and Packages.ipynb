{
 "cells": [
  {
   "cell_type": "markdown",
   "id": "691603ac",
   "metadata": {},
   "source": [
    "https://docs.python.org/3/tutorial/index.html"
   ]
  },
  {
   "cell_type": "markdown",
   "id": "d3ab684c",
   "metadata": {},
   "source": [
    "_12. Virtual Environments and Packages"
   ]
  },
  {
   "cell_type": "markdown",
   "id": "aefb37cd",
   "metadata": {},
   "source": [
    "# 12. Virtual Environments and Packages\n"
   ]
  },
  {
   "cell_type": "markdown",
   "id": "8b0bf98e",
   "metadata": {},
   "source": [
    "# 12.1. Introduction¶\n"
   ]
  },
  {
   "cell_type": "markdown",
   "id": "0a48d371",
   "metadata": {},
   "source": [
    "Python applications will often use packages and modules that don’t come as part of the standard library. Applications will sometimes need a specific version of a library, because the application may require that a particular bug has been fixed or the application may be written using an obsolete version of the library’s interface.\n",
    "\n",
    "This means it may not be possible for one Python installation to meet the requirements of every application. If application A needs version 1.0 of a particular module but application B needs version 2.0, then the requirements are in conflict and installing either version 1.0 or 2.0 will leave one application unable to run.\n",
    "\n",
    "The solution for this problem is to create a virtual environment, a self-contained directory tree that contains a Python installation for a particular version of Python, plus a number of additional packages.\n",
    "\n",
    "Different applications can then use different virtual environments. To resolve the earlier example of conflicting requirements, application A can have its own virtual environment with version 1.0 installed while application B has another virtual environment with version 2.0. If application B requires a library be upgraded to version 3.0, this will not affect application A’s environment."
   ]
  },
  {
   "cell_type": "markdown",
   "id": "5fe0e839",
   "metadata": {},
   "source": [
    "# 12.2. Creating Virtual Environments¶\n"
   ]
  },
  {
   "cell_type": "markdown",
   "id": "b415dcee",
   "metadata": {},
   "source": [
    "The module used to create and manage virtual environments is called venv. venv will usually install the most recent version of Python that you have available. If you have multiple versions of Python on your system, you can select a specific Python version by running python3 or whichever version you want.\n",
    "\n",
    "To create a virtual environment, decide upon a directory where you want to place it, and run the venv module as a script with the directory path:"
   ]
  },
  {
   "cell_type": "code",
   "execution_count": 2,
   "id": "6455d18d",
   "metadata": {},
   "outputs": [
    {
     "ename": "SyntaxError",
     "evalue": "invalid syntax (3348253930.py, line 1)",
     "output_type": "error",
     "traceback": [
      "\u001b[1;36m  Cell \u001b[1;32mIn[2], line 1\u001b[1;36m\u001b[0m\n\u001b[1;33m    python -m venv tutorial-env\u001b[0m\n\u001b[1;37m              ^\u001b[0m\n\u001b[1;31mSyntaxError\u001b[0m\u001b[1;31m:\u001b[0m invalid syntax\n"
     ]
    }
   ],
   "source": [
    "python -m venv tutorial-env"
   ]
  },
  {
   "cell_type": "markdown",
   "id": "e8f91965",
   "metadata": {},
   "source": [
    "This will create the tutorial-env directory if it doesn’t exist, and also create directories inside it containing a copy of the Python interpreter and various supporting files.\n",
    "\n",
    "A common directory location for a virtual environment is .venv. This name keeps the directory typically hidden in your shell and thus out of the way while giving it a name that explains why the directory exists. It also prevents clashing with .env environment variable definition files that some tooling supports.\n",
    "\n",
    "Once you’ve created a virtual environment, you may activate it.\n",
    "\n",
    "On Windows, run:"
   ]
  },
  {
   "cell_type": "code",
   "execution_count": 3,
   "id": "a5561e54",
   "metadata": {},
   "outputs": [
    {
     "ename": "SyntaxError",
     "evalue": "unexpected character after line continuation character (1593006027.py, line 1)",
     "output_type": "error",
     "traceback": [
      "\u001b[1;36m  Cell \u001b[1;32mIn[3], line 1\u001b[1;36m\u001b[0m\n\u001b[1;33m    tutorial-env\\Scripts\\activate\u001b[0m\n\u001b[1;37m                 ^\u001b[0m\n\u001b[1;31mSyntaxError\u001b[0m\u001b[1;31m:\u001b[0m unexpected character after line continuation character\n"
     ]
    }
   ],
   "source": [
    "tutorial-env\\Scripts\\activate"
   ]
  },
  {
   "cell_type": "markdown",
   "id": "9c9feb4a",
   "metadata": {},
   "source": [
    "On Unix or MacOS, run:"
   ]
  },
  {
   "cell_type": "code",
   "execution_count": 4,
   "id": "72b6ed24",
   "metadata": {},
   "outputs": [
    {
     "ename": "SyntaxError",
     "evalue": "invalid syntax (3509807642.py, line 1)",
     "output_type": "error",
     "traceback": [
      "\u001b[1;36m  Cell \u001b[1;32mIn[4], line 1\u001b[1;36m\u001b[0m\n\u001b[1;33m    source tutorial-env/bin/activate\u001b[0m\n\u001b[1;37m           ^\u001b[0m\n\u001b[1;31mSyntaxError\u001b[0m\u001b[1;31m:\u001b[0m invalid syntax\n"
     ]
    }
   ],
   "source": [
    "source tutorial-env/bin/activate"
   ]
  },
  {
   "cell_type": "markdown",
   "id": "644b797c",
   "metadata": {},
   "source": [
    "(This script is written for the bash shell. If you use the csh or fish shells, there are alternate activate.csh and activate.fish scripts you should use instead.)\n",
    "\n",
    "Activating the virtual environment will change your shell’s prompt to show what virtual environment you’re using, and modify the environment so that running python will get you that particular version and installation of Python. For example:"
   ]
  },
  {
   "cell_type": "code",
   "execution_count": 6,
   "id": "2fdebf4e",
   "metadata": {},
   "outputs": [
    {
     "ename": "SyntaxError",
     "evalue": "invalid syntax (3802776724.py, line 1)",
     "output_type": "error",
     "traceback": [
      "\u001b[1;36m  Cell \u001b[1;32mIn[6], line 1\u001b[1;36m\u001b[0m\n\u001b[1;33m    $ source ~/envs/tutorial-env/bin/activate\u001b[0m\n\u001b[1;37m    ^\u001b[0m\n\u001b[1;31mSyntaxError\u001b[0m\u001b[1;31m:\u001b[0m invalid syntax\n"
     ]
    }
   ],
   "source": [
    "$ source ~/envs/tutorial-env/bin/activate\n",
    "(tutorial-env) $ python\n",
    "Python 3.5.1 (default, May  6 2016, 10:59:36)\n",
    "  ...\n",
    ">>> import sys\n",
    ">>> sys.path\n",
    "['', '/usr/local/lib/python35.zip', ...,\n",
    "'~/envs/tutorial-env/lib/python3.5/site-packages']\n",
    ">>>"
   ]
  },
  {
   "cell_type": "markdown",
   "id": "51e0420c",
   "metadata": {},
   "source": [
    "To deactivate a virtual environment, type:\n",
    "\n"
   ]
  },
  {
   "cell_type": "code",
   "execution_count": 8,
   "id": "e7878737",
   "metadata": {},
   "outputs": [
    {
     "ename": "NameError",
     "evalue": "name 'deactivate' is not defined",
     "output_type": "error",
     "traceback": [
      "\u001b[1;31m---------------------------------------------------------------------------\u001b[0m",
      "\u001b[1;31mNameError\u001b[0m                                 Traceback (most recent call last)",
      "Cell \u001b[1;32mIn[8], line 1\u001b[0m\n\u001b[1;32m----> 1\u001b[0m deactivate\n",
      "\u001b[1;31mNameError\u001b[0m: name 'deactivate' is not defined"
     ]
    }
   ],
   "source": [
    "deactivate"
   ]
  },
  {
   "cell_type": "markdown",
   "id": "969044c8",
   "metadata": {},
   "source": [
    "into the terminal.\n",
    "\n"
   ]
  },
  {
   "cell_type": "markdown",
   "id": "4c503ac3",
   "metadata": {},
   "source": [
    "# 12.3. Managing Packages with pip\n"
   ]
  },
  {
   "cell_type": "markdown",
   "id": "9b967ed7",
   "metadata": {},
   "source": [
    "You can install, upgrade, and remove packages using a program called pip. By default pip will install packages from the Python Package Index. You can browse the Python Package Index by going to it in your web browser.\n",
    "\n",
    "pip has a number of subcommands: “install”, “uninstall”, “freeze”, etc. (Consult the Installing Python Modules guide for complete documentation for pip.)\n",
    "\n",
    "You can install the latest version of a package by specifying a package’s name:"
   ]
  },
  {
   "cell_type": "code",
   "execution_count": 9,
   "id": "1b97ad7a",
   "metadata": {},
   "outputs": [
    {
     "ename": "SyntaxError",
     "evalue": "invalid decimal literal (3604932293.py, line 3)",
     "output_type": "error",
     "traceback": [
      "\u001b[1;36m  Cell \u001b[1;32mIn[9], line 3\u001b[1;36m\u001b[0m\n\u001b[1;33m    Downloading novas-3.1.1.3.tar.gz (136kB)\u001b[0m\n\u001b[1;37m                                        ^\u001b[0m\n\u001b[1;31mSyntaxError\u001b[0m\u001b[1;31m:\u001b[0m invalid decimal literal\n"
     ]
    }
   ],
   "source": [
    "(tutorial-env) $ python -m pip install novas\n",
    "Collecting novas\n",
    "  Downloading novas-3.1.1.3.tar.gz (136kB)\n",
    "Installing collected packages: novas\n",
    "  Running setup.py install for novas\n",
    "Successfully installed novas-3.1.1.3"
   ]
  },
  {
   "cell_type": "markdown",
   "id": "28fffec8",
   "metadata": {},
   "source": [
    "You can also install a specific version of a package by giving the package name followed by == and the version number:"
   ]
  },
  {
   "cell_type": "code",
   "execution_count": 10,
   "id": "a31119e0",
   "metadata": {},
   "outputs": [
    {
     "ename": "SyntaxError",
     "evalue": "invalid syntax (1188850134.py, line 1)",
     "output_type": "error",
     "traceback": [
      "\u001b[1;36m  Cell \u001b[1;32mIn[10], line 1\u001b[1;36m\u001b[0m\n\u001b[1;33m    (tutorial-env) $ python -m pip install requests==2.6.0\u001b[0m\n\u001b[1;37m                   ^\u001b[0m\n\u001b[1;31mSyntaxError\u001b[0m\u001b[1;31m:\u001b[0m invalid syntax\n"
     ]
    }
   ],
   "source": [
    "(tutorial-env) $ python -m pip install requests==2.6.0\n",
    "Collecting requests==2.6.0\n",
    "  Using cached requests-2.6.0-py2.py3-none-any.whl\n",
    "Installing collected packages: requests\n",
    "Successfully installed requests-2.6.0"
   ]
  },
  {
   "cell_type": "markdown",
   "id": "63d91aa3",
   "metadata": {},
   "source": [
    "If you re-run this command, pip will notice that the requested version is already installed and do nothing. You can supply a different version number to get that version, or you can run python -m pip install --upgrade to upgrade the package to the latest version:"
   ]
  },
  {
   "cell_type": "code",
   "execution_count": 11,
   "id": "79cb0be4",
   "metadata": {},
   "outputs": [
    {
     "ename": "SyntaxError",
     "evalue": "invalid syntax (924484310.py, line 1)",
     "output_type": "error",
     "traceback": [
      "\u001b[1;36m  Cell \u001b[1;32mIn[11], line 1\u001b[1;36m\u001b[0m\n\u001b[1;33m    (tutorial-env) $ python -m pip install --upgrade requests\u001b[0m\n\u001b[1;37m                   ^\u001b[0m\n\u001b[1;31mSyntaxError\u001b[0m\u001b[1;31m:\u001b[0m invalid syntax\n"
     ]
    }
   ],
   "source": [
    "(tutorial-env) $ python -m pip install --upgrade requests\n",
    "Collecting requests\n",
    "Installing collected packages: requests\n",
    "  Found existing installation: requests 2.6.0\n",
    "    Uninstalling requests-2.6.0:\n",
    "      Successfully uninstalled requests-2.6.0\n",
    "Successfully installed requests-2.7.0"
   ]
  },
  {
   "cell_type": "markdown",
   "id": "44edc7ca",
   "metadata": {},
   "source": [
    "python -m pip uninstall followed by one or more package names will remove the packages from the virtual environment.\n",
    "\n",
    "python -m pip show will display information about a particular package:"
   ]
  },
  {
   "cell_type": "code",
   "execution_count": 12,
   "id": "e60a6b0f",
   "metadata": {},
   "outputs": [
    {
     "ename": "SyntaxError",
     "evalue": "invalid syntax (154693134.py, line 1)",
     "output_type": "error",
     "traceback": [
      "\u001b[1;36m  Cell \u001b[1;32mIn[12], line 1\u001b[1;36m\u001b[0m\n\u001b[1;33m    (tutorial-env) $ python -m pip show requests\u001b[0m\n\u001b[1;37m                   ^\u001b[0m\n\u001b[1;31mSyntaxError\u001b[0m\u001b[1;31m:\u001b[0m invalid syntax\n"
     ]
    }
   ],
   "source": [
    "(tutorial-env) $ python -m pip show requests\n",
    "---\n",
    "Metadata-Version: 2.0\n",
    "Name: requests\n",
    "Version: 2.7.0\n",
    "Summary: Python HTTP for Humans.\n",
    "Home-page: http://python-requests.org\n",
    "Author: Kenneth Reitz\n",
    "Author-email: me@kennethreitz.com\n",
    "License: Apache 2.0\n",
    "Location: /Users/akuchling/envs/tutorial-env/lib/python3.4/site-packages\n",
    "Requires:"
   ]
  },
  {
   "cell_type": "markdown",
   "id": "e36b94eb",
   "metadata": {},
   "source": [
    "python -m pip list will display all of the packages installed in the virtual environment:\n",
    "\n"
   ]
  },
  {
   "cell_type": "code",
   "execution_count": 14,
   "id": "10d0d89e",
   "metadata": {},
   "outputs": [
    {
     "ename": "SyntaxError",
     "evalue": "invalid syntax (3195572755.py, line 1)",
     "output_type": "error",
     "traceback": [
      "\u001b[1;36m  Cell \u001b[1;32mIn[14], line 1\u001b[1;36m\u001b[0m\n\u001b[1;33m    (tutorial-env) $ python -m pip list\u001b[0m\n\u001b[1;37m                   ^\u001b[0m\n\u001b[1;31mSyntaxError\u001b[0m\u001b[1;31m:\u001b[0m invalid syntax\n"
     ]
    }
   ],
   "source": [
    "(tutorial-env) $ python -m pip list\n",
    "novas (3.1.1.3)\n",
    "numpy (1.9.2)\n",
    "pip (7.0.3)\n",
    "requests (2.7.0)\n",
    "setuptools (16.0)"
   ]
  },
  {
   "cell_type": "markdown",
   "id": "a808da13",
   "metadata": {},
   "source": [
    "python -m pip freeze will produce a similar list of the installed packages, but the output uses the format that python -m pip install expects. A common convention is to put this list in a requirements.txt file:"
   ]
  },
  {
   "cell_type": "code",
   "execution_count": 16,
   "id": "f7ffefd1",
   "metadata": {},
   "outputs": [
    {
     "ename": "SyntaxError",
     "evalue": "invalid syntax (2860083785.py, line 1)",
     "output_type": "error",
     "traceback": [
      "\u001b[1;36m  Cell \u001b[1;32mIn[16], line 1\u001b[1;36m\u001b[0m\n\u001b[1;33m    (tutorial-env) $ python -m pip freeze > requirements.txt\u001b[0m\n\u001b[1;37m                   ^\u001b[0m\n\u001b[1;31mSyntaxError\u001b[0m\u001b[1;31m:\u001b[0m invalid syntax\n"
     ]
    }
   ],
   "source": [
    "(tutorial-env) $ python -m pip freeze > requirements.txt\n",
    "(tutorial-env) $ cat requirements.txt\n",
    "novas==3.1.1.3\n",
    "numpy==1.9.2\n",
    "requests==2.7.0"
   ]
  },
  {
   "cell_type": "markdown",
   "id": "0dc6084d",
   "metadata": {},
   "source": [
    "The requirements.txt can then be committed to version control and shipped as part of an application. Users can then install all the necessary packages with install -r:"
   ]
  },
  {
   "cell_type": "code",
   "execution_count": 17,
   "id": "f468a42a",
   "metadata": {},
   "outputs": [
    {
     "ename": "SyntaxError",
     "evalue": "invalid syntax (4155161299.py, line 1)",
     "output_type": "error",
     "traceback": [
      "\u001b[1;36m  Cell \u001b[1;32mIn[17], line 1\u001b[1;36m\u001b[0m\n\u001b[1;33m    (tutorial-env) $ python -m pip install -r requirements.txt\u001b[0m\n\u001b[1;37m                   ^\u001b[0m\n\u001b[1;31mSyntaxError\u001b[0m\u001b[1;31m:\u001b[0m invalid syntax\n"
     ]
    }
   ],
   "source": [
    "(tutorial-env) $ python -m pip install -r requirements.txt\n",
    "Collecting novas==3.1.1.3 (from -r requirements.txt (line 1))\n",
    "  ...\n",
    "Collecting numpy==1.9.2 (from -r requirements.txt (line 2))\n",
    "  ...\n",
    "Collecting requests==2.7.0 (from -r requirements.txt (line 3))\n",
    "  ...\n",
    "Installing collected packages: novas, numpy, requests\n",
    "  Running setup.py install for novas\n",
    "Successfully installed novas-3.1.1.3 numpy-1.9.2 requests-2.7.0"
   ]
  },
  {
   "cell_type": "markdown",
   "id": "729298bc",
   "metadata": {},
   "source": [
    "pip has many more options. Consult the Installing Python Modules guide for complete documentation for pip. When you’ve written a package and want to make it available on the Python Package Index, consult the Python packaging user guide."
   ]
  },
  {
   "cell_type": "code",
   "execution_count": null,
   "id": "375379de",
   "metadata": {},
   "outputs": [],
   "source": []
  }
 ],
 "metadata": {
  "kernelspec": {
   "display_name": "Python 3 (ipykernel)",
   "language": "python",
   "name": "python3"
  },
  "language_info": {
   "codemirror_mode": {
    "name": "ipython",
    "version": 3
   },
   "file_extension": ".py",
   "mimetype": "text/x-python",
   "name": "python",
   "nbconvert_exporter": "python",
   "pygments_lexer": "ipython3",
   "version": "3.11.4"
  }
 },
 "nbformat": 4,
 "nbformat_minor": 5
}
