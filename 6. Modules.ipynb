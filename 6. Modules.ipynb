{
 "cells": [
  {
   "cell_type": "markdown",
   "id": "c3a0f630",
   "metadata": {},
   "source": [
    "https://docs.python.org/3/tutorial/index.html"
   ]
  },
  {
   "cell_type": "markdown",
   "id": "0bda89ac",
   "metadata": {},
   "source": [
    "# 6.4. Packages\n"
   ]
  },
  {
   "cell_type": "markdown",
   "id": "dd960dd8",
   "metadata": {},
   "source": [
    "Пакеты - это способ структурирования пространства имен модулей Python с помощью “точечных имен модулей”. Например, имя модуля A.B обозначает подмодуль с именем B в пакете с именем A. Точно так же, как использование модулей избавляет авторов разных модулей от необходимости беспокоиться об именах глобальных переменных друг друга, использование точечных имен модулей избавляет авторов многомодульных пакетов, таких как NumPy или Pillow от необходимости беспокоиться об именах модулей друг друга.\n",
    "\n",
    "Предположим, вы хотите разработать набор модулей (“пакет”) для единообразной обработки звуковых файлов и звуковых данных. Существует множество различных форматов звуковых файлов (обычно распознаваемых по их расширению, например: .wav, .aiff, .au), поэтому вам может потребоваться создать и поддерживать постоянно растущую коллекцию модулей для преобразования между различными форматами файлов. Существует также множество различных операций, которые вы, возможно, захотите выполнить со звуковыми данными (например, микширование, добавление эха, применение функции эквалайзера, создание искусственного стереоэффекта), поэтому, кроме того, вам придется писать бесконечный поток модулей для выполнения этих операций. Вот возможная структура вашего пакета (выраженная в терминах иерархической файловой системы).:"
   ]
  },
  {
   "cell_type": "code",
   "execution_count": 23,
   "id": "74348a0f",
   "metadata": {},
   "outputs": [
    {
     "ename": "SyntaxError",
     "evalue": "invalid syntax (2735550917.py, line 1)",
     "output_type": "error",
     "traceback": [
      "\u001b[1;36m  Cell \u001b[1;32mIn[23], line 1\u001b[1;36m\u001b[0m\n\u001b[1;33m    sound/                          Top-level package\u001b[0m\n\u001b[1;37m                                              ^\u001b[0m\n\u001b[1;31mSyntaxError\u001b[0m\u001b[1;31m:\u001b[0m invalid syntax\n"
     ]
    }
   ],
   "source": [
    "sound/                          Top-level package\n",
    "      __init__.py               Initialize the sound package\n",
    "      formats/                  Subpackage for file format conversions\n",
    "              __init__.py\n",
    "              wavread.py\n",
    "              wavwrite.py\n",
    "              aiffread.py\n",
    "              aiffwrite.py\n",
    "              auread.py\n",
    "              auwrite.py\n",
    "              ...\n",
    "      effects/                  Subpackage for sound effects\n",
    "              __init__.py\n",
    "              echo.py\n",
    "              surround.py\n",
    "              reverse.py\n",
    "              ...\n",
    "      filters/                  Subpackage for filters\n",
    "              __init__.py\n",
    "              equalizer.py\n",
    "              vocoder.py\n",
    "              karaoke.py\n",
    "              ..."
   ]
  },
  {
   "cell_type": "markdown",
   "id": "383efb6f",
   "metadata": {},
   "source": [
    "При импорте пакета Python выполняет поиск по каталогам в sys.path в поисках подкаталога пакета.\n",
    "\n",
    "Файлы __init__.py Необходимы для того, чтобы заставить Python рассматривать каталоги, содержащие файл, как пакеты (если только не используется пространство имен package, что является относительно расширенной функцией). Это предотвращает непреднамеренное сокрытие каталогами с общим именем, например string, допустимых модулей, которые встречаются позже в пути поиска модуля. В простейшем случае __init__.py может быть просто пустым файлом, но он также может выполнять код инициализации пакета или устанавливать переменную __all__, описанную ниже.\n",
    "\n",
    "Пользователи пакета могут импортировать отдельные модули из пакета, например:"
   ]
  },
  {
   "cell_type": "code",
   "execution_count": 24,
   "id": "46bf7ccd",
   "metadata": {},
   "outputs": [
    {
     "ename": "ModuleNotFoundError",
     "evalue": "No module named 'sound'",
     "output_type": "error",
     "traceback": [
      "\u001b[1;31m---------------------------------------------------------------------------\u001b[0m",
      "\u001b[1;31mModuleNotFoundError\u001b[0m                       Traceback (most recent call last)",
      "Cell \u001b[1;32mIn[24], line 1\u001b[0m\n\u001b[1;32m----> 1\u001b[0m \u001b[38;5;28;01mimport\u001b[39;00m \u001b[38;5;21;01msound\u001b[39;00m\u001b[38;5;21;01m.\u001b[39;00m\u001b[38;5;21;01meffects\u001b[39;00m\u001b[38;5;21;01m.\u001b[39;00m\u001b[38;5;21;01mecho\u001b[39;00m\n",
      "\u001b[1;31mModuleNotFoundError\u001b[0m: No module named 'sound'"
     ]
    }
   ],
   "source": [
    "import sound.effects.echo\n"
   ]
  },
  {
   "cell_type": "markdown",
   "id": "3ca48f9e",
   "metadata": {},
   "source": [
    "\n",
    "При этом загружается подмодуль sound.effects.echo. Для ссылки на него необходимо указать его полное название.\n"
   ]
  },
  {
   "cell_type": "code",
   "execution_count": 25,
   "id": "2e0c632d",
   "metadata": {},
   "outputs": [
    {
     "ename": "NameError",
     "evalue": "name 'sound' is not defined",
     "output_type": "error",
     "traceback": [
      "\u001b[1;31m---------------------------------------------------------------------------\u001b[0m",
      "\u001b[1;31mNameError\u001b[0m                                 Traceback (most recent call last)",
      "Cell \u001b[1;32mIn[25], line 1\u001b[0m\n\u001b[1;32m----> 1\u001b[0m sound\u001b[38;5;241m.\u001b[39meffects\u001b[38;5;241m.\u001b[39mecho\u001b[38;5;241m.\u001b[39mechofilter(\u001b[38;5;28minput\u001b[39m, output, delay\u001b[38;5;241m=\u001b[39m\u001b[38;5;241m0.7\u001b[39m, atten\u001b[38;5;241m=\u001b[39m\u001b[38;5;241m4\u001b[39m)\n",
      "\u001b[1;31mNameError\u001b[0m: name 'sound' is not defined"
     ]
    }
   ],
   "source": [
    "sound.effects.echo.echofilter(input, output, delay=0.7, atten=4)\n"
   ]
  },
  {
   "cell_type": "markdown",
   "id": "e7cfeefe",
   "metadata": {},
   "source": [
    "\n",
    "Альтернативным способом импорта подмодуля является:\n"
   ]
  },
  {
   "cell_type": "code",
   "execution_count": 26,
   "id": "674bccac",
   "metadata": {},
   "outputs": [
    {
     "ename": "ModuleNotFoundError",
     "evalue": "No module named 'sound'",
     "output_type": "error",
     "traceback": [
      "\u001b[1;31m---------------------------------------------------------------------------\u001b[0m",
      "\u001b[1;31mModuleNotFoundError\u001b[0m                       Traceback (most recent call last)",
      "Cell \u001b[1;32mIn[26], line 1\u001b[0m\n\u001b[1;32m----> 1\u001b[0m \u001b[38;5;28;01mfrom\u001b[39;00m \u001b[38;5;21;01msound\u001b[39;00m\u001b[38;5;21;01m.\u001b[39;00m\u001b[38;5;21;01meffects\u001b[39;00m \u001b[38;5;28;01mimport\u001b[39;00m echo\n",
      "\u001b[1;31mModuleNotFoundError\u001b[0m: No module named 'sound'"
     ]
    }
   ],
   "source": [
    "from sound.effects import echo\n"
   ]
  },
  {
   "cell_type": "markdown",
   "id": "8d911072",
   "metadata": {},
   "source": [
    "Это также загружает подмодуль echo и делает его доступным без префикса пакета, поэтому его можно использовать следующим образом:"
   ]
  },
  {
   "cell_type": "code",
   "execution_count": 28,
   "id": "e5657789",
   "metadata": {},
   "outputs": [
    {
     "ename": "NameError",
     "evalue": "name 'echo' is not defined",
     "output_type": "error",
     "traceback": [
      "\u001b[1;31m---------------------------------------------------------------------------\u001b[0m",
      "\u001b[1;31mNameError\u001b[0m                                 Traceback (most recent call last)",
      "Cell \u001b[1;32mIn[28], line 1\u001b[0m\n\u001b[1;32m----> 1\u001b[0m echo\u001b[38;5;241m.\u001b[39mechofilter(\u001b[38;5;28minput\u001b[39m, output, delay\u001b[38;5;241m=\u001b[39m\u001b[38;5;241m0.7\u001b[39m, atten\u001b[38;5;241m=\u001b[39m\u001b[38;5;241m4\u001b[39m)\n",
      "\u001b[1;31mNameError\u001b[0m: name 'echo' is not defined"
     ]
    }
   ],
   "source": [
    "echo.echofilter(input, output, delay=0.7, atten=4)\n"
   ]
  },
  {
   "cell_type": "markdown",
   "id": "4c94af21",
   "metadata": {},
   "source": [
    "\n",
    "Еще одним вариантом является прямой импорт нужной функции или переменной:\n"
   ]
  },
  {
   "cell_type": "code",
   "execution_count": 29,
   "id": "ed728cbd",
   "metadata": {},
   "outputs": [
    {
     "ename": "ModuleNotFoundError",
     "evalue": "No module named 'sound'",
     "output_type": "error",
     "traceback": [
      "\u001b[1;31m---------------------------------------------------------------------------\u001b[0m",
      "\u001b[1;31mModuleNotFoundError\u001b[0m                       Traceback (most recent call last)",
      "Cell \u001b[1;32mIn[29], line 1\u001b[0m\n\u001b[1;32m----> 1\u001b[0m \u001b[38;5;28;01mfrom\u001b[39;00m \u001b[38;5;21;01msound\u001b[39;00m\u001b[38;5;21;01m.\u001b[39;00m\u001b[38;5;21;01meffects\u001b[39;00m\u001b[38;5;21;01m.\u001b[39;00m\u001b[38;5;21;01mecho\u001b[39;00m \u001b[38;5;28;01mimport\u001b[39;00m echofilter\n",
      "\u001b[1;31mModuleNotFoundError\u001b[0m: No module named 'sound'"
     ]
    }
   ],
   "source": [
    "from sound.effects.echo import echofilter\n"
   ]
  },
  {
   "cell_type": "markdown",
   "id": "afedf154",
   "metadata": {},
   "source": [
    "Опять же, это загружает подмодуль echo, но делает его функцию echo filter() доступной напрямую:\n",
    "\n"
   ]
  },
  {
   "cell_type": "code",
   "execution_count": 30,
   "id": "0384a01c",
   "metadata": {},
   "outputs": [
    {
     "ename": "NameError",
     "evalue": "name 'echofilter' is not defined",
     "output_type": "error",
     "traceback": [
      "\u001b[1;31m---------------------------------------------------------------------------\u001b[0m",
      "\u001b[1;31mNameError\u001b[0m                                 Traceback (most recent call last)",
      "Cell \u001b[1;32mIn[30], line 1\u001b[0m\n\u001b[1;32m----> 1\u001b[0m echofilter(\u001b[38;5;28minput\u001b[39m, output, delay\u001b[38;5;241m=\u001b[39m\u001b[38;5;241m0.7\u001b[39m, atten\u001b[38;5;241m=\u001b[39m\u001b[38;5;241m4\u001b[39m)\n",
      "\u001b[1;31mNameError\u001b[0m: name 'echofilter' is not defined"
     ]
    }
   ],
   "source": [
    "echofilter(input, output, delay=0.7, atten=4)\n"
   ]
  },
  {
   "cell_type": "markdown",
   "id": "8734964c",
   "metadata": {},
   "source": [
    "Обратите внимание, что при использовании элемента импорта из пакета элемент может быть либо подмодулем (или подпакетом) пакета, либо каким-либо другим именем, определенным в пакете, например функцией, классом или переменной. Оператор import сначала проверяет, определен ли элемент в пакете; если нет, он предполагает, что это модуль, и пытается загрузить его. Если ему не удается его найти, возникает исключение ImportError.\n",
    "\n",
    "Напротив, при использовании синтаксиса, подобного import item.subitem.subsubitem, каждый элемент, за исключением последнего, должен быть пакетом; последний элемент может быть модулем или пакетом, но не может быть классом, функцией или переменной, определенными в предыдущем элементе."
   ]
  },
  {
   "cell_type": "markdown",
   "id": "7da25546",
   "metadata": {},
   "source": [
    "# 6.4.1. Importing * From a Package\n"
   ]
  },
  {
   "cell_type": "markdown",
   "id": "ae7f2819",
   "metadata": {},
   "source": [
    "Теперь, что происходит, когда пользователь записывает данные из sound.effects import *? В идеале, можно было бы надеяться, что это каким-то образом доберется до файловой системы, найдет, какие подмодули присутствуют в пакете, и импортирует их все. Это может занять много времени, а импорт подмодулей может привести к нежелательным побочным эффектам, которые должны возникать только при явном импорте подмодуля.\n",
    "\n"
   ]
  },
  {
   "cell_type": "markdown",
   "id": "6e1a124b",
   "metadata": {},
   "source": [
    "Единственное решение для автора пакета состоит в том, чтобы указать явный индекс пакета. В инструкции import используется следующее соглашение: если код пакета __init__.py определяет список с именем __all__, то он принимается за список имен модулей, которые должны быть импортированы при обнаружении from package import *. Автор пакета обязан обновлять этот список при выпуске новой версии пакета. Авторы пакета также могут отказаться от его поддержки, если они не видят смысла в импорте * из своего пакета. Например, файл sound/effects/__init__.py может содержать следующий код:\n"
   ]
  },
  {
   "cell_type": "code",
   "execution_count": 31,
   "id": "a60ffc55",
   "metadata": {},
   "outputs": [],
   "source": [
    "__all__ = [\"echo\", \"surround\", \"reverse\"]\n"
   ]
  },
  {
   "cell_type": "markdown",
   "id": "accf2fb0",
   "metadata": {},
   "source": [
    "Это означало бы, что из sound.effects import * будут импортированы три именованных подмодуля пакета sound.effects.\n",
    "\n",
    "Имейте в виду, что подмодули могут быть скрыты локально определенными именами. Например, если вы добавили функцию reverse в файл sound/effects/__init__.py, импорт из sound.effects * приведет только к импорту двух подмодулей echo и surround, но не к импорту reverse, поскольку он затенен локально определенной функцией reverse:"
   ]
  },
  {
   "cell_type": "code",
   "execution_count": 32,
   "id": "379929fe",
   "metadata": {},
   "outputs": [],
   "source": [
    "__all__ = [\n",
    "    \"echo\",      # refers to the 'echo.py' file\n",
    "    \"surround\",  # refers to the 'surround.py' file\n",
    "    \"reverse\",   # !!! refers to the 'reverse' function now !!!\n",
    "]\n",
    "\n",
    "def reverse(msg: str):  # <-- this name shadows the 'reverse.py' submodule\n",
    "    return msg[::-1]    #     in the case of a 'from sound.effects import *'"
   ]
  },
  {
   "cell_type": "markdown",
   "id": "08e16590",
   "metadata": {},
   "source": [
    "Если __all__ не определено, инструкция из sound.effects import * не импортирует все подмодули из пакета sound.effects в текущее пространство имен; она только гарантирует, что пакет sound.effects был импортирован (возможно, выполняется какой-либо код инициализации в __init__.py ), а затем импортирует любые имена, определенные в пакете. Это включает в себя любые имена, определенные (и явно загруженные подмодули) с помощью __init__.py. Это также включает в себя любые подмодули пакета, которые были явно загружены предыдущими инструкциями import. Рассмотрим этот код:"
   ]
  },
  {
   "cell_type": "code",
   "execution_count": 33,
   "id": "8e64c345",
   "metadata": {},
   "outputs": [
    {
     "ename": "ModuleNotFoundError",
     "evalue": "No module named 'sound'",
     "output_type": "error",
     "traceback": [
      "\u001b[1;31m---------------------------------------------------------------------------\u001b[0m",
      "\u001b[1;31mModuleNotFoundError\u001b[0m                       Traceback (most recent call last)",
      "Cell \u001b[1;32mIn[33], line 1\u001b[0m\n\u001b[1;32m----> 1\u001b[0m \u001b[38;5;28;01mimport\u001b[39;00m \u001b[38;5;21;01msound\u001b[39;00m\u001b[38;5;21;01m.\u001b[39;00m\u001b[38;5;21;01meffects\u001b[39;00m\u001b[38;5;21;01m.\u001b[39;00m\u001b[38;5;21;01mecho\u001b[39;00m\n\u001b[0;32m      2\u001b[0m \u001b[38;5;28;01mimport\u001b[39;00m \u001b[38;5;21;01msound\u001b[39;00m\u001b[38;5;21;01m.\u001b[39;00m\u001b[38;5;21;01meffects\u001b[39;00m\u001b[38;5;21;01m.\u001b[39;00m\u001b[38;5;21;01msurround\u001b[39;00m\n\u001b[0;32m      3\u001b[0m \u001b[38;5;28;01mfrom\u001b[39;00m \u001b[38;5;21;01msound\u001b[39;00m\u001b[38;5;21;01m.\u001b[39;00m\u001b[38;5;21;01meffects\u001b[39;00m \u001b[38;5;28;01mimport\u001b[39;00m \u001b[38;5;241m*\u001b[39m\n",
      "\u001b[1;31mModuleNotFoundError\u001b[0m: No module named 'sound'"
     ]
    }
   ],
   "source": [
    "import sound.effects.echo\n",
    "import sound.effects.surround\n",
    "from sound.effects import *"
   ]
  },
  {
   "cell_type": "markdown",
   "id": "de8766f1",
   "metadata": {},
   "source": [
    "В этом примере модули echo и surround импортируются в текущее пространство имен, поскольку они определены в пакете sound.effects при выполнении инструкции from...import. (Это также работает, когда определено значение __all__).\n",
    "\n",
    "Хотя некоторые модули предназначены для экспорта только имен, которые соответствуют определенным шаблонам, когда вы используете import *, это по-прежнему считается плохой практикой в производственном коде.\n",
    "\n",
    "Помните, что нет ничего плохого в использовании параметра from package import specific_submodule! На самом деле, это рекомендуемое обозначение, если только импортирующему модулю не нужно использовать подмодули с одинаковыми именами из разных пакетов."
   ]
  },
  {
   "cell_type": "markdown",
   "id": "a5320428",
   "metadata": {},
   "source": [
    "# 6.4.2. Intra-package References\n"
   ]
  },
  {
   "cell_type": "markdown",
   "id": "0931a77a",
   "metadata": {},
   "source": [
    "Когда пакеты структурированы в подпакеты (как в примере с пакетом sound), вы можете использовать абсолютный импорт для ссылки на подмодули пакетов-аналогов. Например, если модуль sound.filters.vocoder должен использовать модуль echo в пакете sound.effects, он может использовать функцию from sound.effects import echo.\n",
    "\n",
    "Вы также можете ввести относительный импорт, указав в инструкции import название from module import. При таком импорте начальные точки используются для обозначения текущего и родительского пакетов, участвующих в соответствующем импорте. Например, в модуле surround вы можете использовать:"
   ]
  },
  {
   "cell_type": "code",
   "execution_count": 35,
   "id": "4ab7ff44",
   "metadata": {},
   "outputs": [
    {
     "ename": "ImportError",
     "evalue": "attempted relative import with no known parent package",
     "output_type": "error",
     "traceback": [
      "\u001b[1;31m---------------------------------------------------------------------------\u001b[0m",
      "\u001b[1;31mImportError\u001b[0m                               Traceback (most recent call last)",
      "Cell \u001b[1;32mIn[35], line 1\u001b[0m\n\u001b[1;32m----> 1\u001b[0m \u001b[38;5;28;01mfrom\u001b[39;00m \u001b[38;5;21;01m.\u001b[39;00m \u001b[38;5;28;01mimport\u001b[39;00m echo\n\u001b[0;32m      2\u001b[0m \u001b[38;5;28;01mfrom\u001b[39;00m \u001b[38;5;21;01m.\u001b[39;00m\u001b[38;5;21;01m.\u001b[39;00m \u001b[38;5;28;01mimport\u001b[39;00m formats\n\u001b[0;32m      3\u001b[0m \u001b[38;5;28;01mfrom\u001b[39;00m \u001b[38;5;21;01m.\u001b[39;00m\u001b[38;5;21;01m.\u001b[39;00m\u001b[38;5;21;01mfilters\u001b[39;00m \u001b[38;5;28;01mimport\u001b[39;00m equalizer\n",
      "\u001b[1;31mImportError\u001b[0m: attempted relative import with no known parent package"
     ]
    }
   ],
   "source": [
    "from . import echo\n",
    "from .. import formats\n",
    "from ..filters import equalizer"
   ]
  },
  {
   "cell_type": "markdown",
   "id": "d196b6f8",
   "metadata": {},
   "source": [
    "Обратите внимание, что относительный импорт основан на имени текущего модуля. Поскольку имя основного модуля всегда \"__main__\", модули, предназначенные для использования в качестве основного модуля приложения на Python, всегда должны использовать абсолютный импорт.\n",
    "\n"
   ]
  },
  {
   "cell_type": "markdown",
   "id": "0a2a79da",
   "metadata": {},
   "source": [
    "6.4.3. Пакеты в нескольких каталогах\n",
    "Пакеты поддерживают еще один специальный атрибут, __path__. Этот атрибут инициализируется как список, содержащий имя каталога, в котором находится ___ пакетаinit__.py перед выполнением кода в этом файле. Эту переменную можно изменить; это повлияет на дальнейший поиск модулей и подпакетов, содержащихся в пакете.\n",
    "\n",
    "Хотя эта функция не часто требуется, ее можно использовать для расширения набора модулей, найденных в пакете.\n",
    "\n",
    "Примечания\n",
    "\n",
    "[1]\n",
    "На самом деле определения функций также являются \"операторами\", которые \"выполняются\"; выполнение определения функции на уровне модуля добавляет имя функции в глобальное пространство имен модуля."
   ]
  },
  {
   "cell_type": "code",
   "execution_count": null,
   "id": "958ac0cb",
   "metadata": {},
   "outputs": [],
   "source": []
  }
 ],
 "metadata": {
  "kernelspec": {
   "display_name": "Python 3 (ipykernel)",
   "language": "python",
   "name": "python3"
  },
  "language_info": {
   "codemirror_mode": {
    "name": "ipython",
    "version": 3
   },
   "file_extension": ".py",
   "mimetype": "text/x-python",
   "name": "python",
   "nbconvert_exporter": "python",
   "pygments_lexer": "ipython3",
   "version": "3.11.4"
  }
 },
 "nbformat": 4,
 "nbformat_minor": 5
}
