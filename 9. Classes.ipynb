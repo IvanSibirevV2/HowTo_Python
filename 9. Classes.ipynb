{
 "cells": [
  {
   "cell_type": "markdown",
   "id": "54aaf250",
   "metadata": {},
   "source": [
    "https://docs.python.org/3/tutorial/index.html"
   ]
  },
  {
   "cell_type": "markdown",
   "id": "e195d530",
   "metadata": {},
   "source": [
    "# 9.3.2. Class Objects\n"
   ]
  },
  {
   "cell_type": "markdown",
   "id": "40eb1ac5",
   "metadata": {},
   "source": [
    "Объекты класса поддерживают два вида операций: ссылки на атрибуты и создание экземпляров.\n",
    "\n",
    "В ссылках на атрибуты используется стандартный синтаксис, используемый для всех ссылок на атрибуты в Python: obj.name. Допустимыми именами атрибутов являются все имена, которые были в пространстве имен класса при создании объекта класса. Итак, если бы определение класса выглядело следующим образом:"
   ]
  },
  {
   "cell_type": "code",
   "execution_count": 6,
   "id": "5d0aa567",
   "metadata": {},
   "outputs": [],
   "source": [
    "class MyClass:\n",
    "    \"\"\"A simple example class\"\"\"\n",
    "    i = 12345\n",
    "\n",
    "    def f(self):\n",
    "        return 'hello world'"
   ]
  },
  {
   "cell_type": "markdown",
   "id": "a1cb5e7c",
   "metadata": {},
   "source": [
    "затем My Class.i и My Class.содержат допустимые ссылки на атрибуты, возвращающие целое число и функциональный объект соответственно. Атрибуты класса также могут быть назначены, поэтому вы можете изменить значение MyClass.i путем присвоения. __doc__ также является допустимым атрибутом, возвращающим строку документации, принадлежащую классу: \"Простой пример класса\".\n",
    "\n",
    "При создании экземпляра класса используется функциональная нотация. Просто представьте, что объект класса - это функция без параметров, которая возвращает новый экземпляр класса. Например (при условии использования вышеуказанного класса):"
   ]
  },
  {
   "cell_type": "code",
   "execution_count": 7,
   "id": "34a62b99",
   "metadata": {},
   "outputs": [],
   "source": [
    "x = MyClass()"
   ]
  },
  {
   "cell_type": "markdown",
   "id": "b900d5c1",
   "metadata": {},
   "source": [
    "создает новый экземпляр класса и присваивает этому объекту локальную переменную x.\n",
    "\n",
    "Операция создания экземпляра (“вызов” объекта класса) создает пустой объект. Многим классам нравится создавать объекты с экземплярами, настроенными на определенное начальное состояние. Поэтому класс может определить специальный метод с именем __init__(), например:"
   ]
  },
  {
   "cell_type": "code",
   "execution_count": 8,
   "id": "cd55e8ec",
   "metadata": {},
   "outputs": [],
   "source": [
    "def __init__(self):\n",
    "    self.data = []"
   ]
  },
  {
   "cell_type": "markdown",
   "id": "9549e346",
   "metadata": {},
   "source": [
    "Когда класс определяет метод __init__(), при создании экземпляра класса автоматически вызывается __init__() для вновь созданного экземпляра класса. Таким образом, в этом примере новый инициализированный экземпляр может быть получен с помощью:"
   ]
  },
  {
   "cell_type": "code",
   "execution_count": 9,
   "id": "a673b9d6",
   "metadata": {},
   "outputs": [],
   "source": [
    "x = MyClass()"
   ]
  },
  {
   "cell_type": "markdown",
   "id": "1268d24a",
   "metadata": {},
   "source": [
    "Конечно, метод __init__() может иметь аргументы для большей гибкости. В этом случае аргументы, передаваемые оператору создания экземпляра класса, передаются в __init__(). Например,"
   ]
  },
  {
   "cell_type": "code",
   "execution_count": 10,
   "id": "3ce99e14",
   "metadata": {},
   "outputs": [
    {
     "data": {
      "text/plain": [
       "(3.0, -4.5)"
      ]
     },
     "execution_count": 10,
     "metadata": {},
     "output_type": "execute_result"
    }
   ],
   "source": [
    "class Complex:\n",
    "    def __init__(self, realpart, imagpart):\n",
    "        self.r = realpart\n",
    "        self.i = imagpart\n",
    "\n",
    "x = Complex(3.0, -4.5)\n",
    "x.r, x.i\n",
    "(3.0, -4.5)"
   ]
  },
  {
   "cell_type": "markdown",
   "id": "45543fb2",
   "metadata": {},
   "source": [
    "# 9.3.3. Instance Objects\n"
   ]
  },
  {
   "cell_type": "markdown",
   "id": "0ff2e08c",
   "metadata": {},
   "source": [
    "Теперь, что мы можем делать с объектами-экземплярами? Единственными операциями, понятными для объектов-экземпляров, являются ссылки на атрибуты. Существует два вида допустимых имен атрибутов: атрибуты данных и методы.\n",
    "\n",
    "атрибуты данных соответствуют “переменным экземпляра” в Smalltalk и “элементам данных” в C++. Атрибуты данных необязательно объявлять; как и локальные переменные, они возникают, когда им впервые присваивается значение. Например, если x является экземпляром MyClass, созданным выше, следующий фрагмент кода выведет значение 16, не оставляя следов:"
   ]
  },
  {
   "cell_type": "code",
   "execution_count": 11,
   "id": "d99c051a",
   "metadata": {},
   "outputs": [
    {
     "name": "stdout",
     "output_type": "stream",
     "text": [
      "16\n"
     ]
    }
   ],
   "source": [
    "x.counter = 1\n",
    "while x.counter < 10:\n",
    "    x.counter = x.counter * 2\n",
    "print(x.counter)\n",
    "del x.counter"
   ]
  },
  {
   "cell_type": "markdown",
   "id": "064b4f98",
   "metadata": {},
   "source": [
    "Другой тип ссылки на атрибут экземпляра - это метод. Метод - это функция, которая “принадлежит” объекту. (В Python термин \"метод\" не является уникальным для экземпляров класса: другие типы объектов также могут иметь методы. Например, у объектов list есть методы, которые называются append, insert, remove, sort и так далее. Однако в дальнейшем обсуждении мы будем использовать термин method исключительно для обозначения методов объектов-экземпляров класса, если явно не указано иное.)\n",
    "\n",
    "Допустимые имена методов экземпляра объекта зависят от его класса. По определению, все атрибуты класса, которые являются функциональными объектами, определяют соответствующие методы его экземпляров. Итак, в нашем примере x.f является допустимой ссылкой на метод, поскольку MyClass.f - это функция, но x.i - нет, поскольку мой Class.i - нет. Но x.f — это не то же самое, что MyClass.f - это объект метода, а не объект функции."
   ]
  },
  {
   "cell_type": "markdown",
   "id": "b02a51b2",
   "metadata": {},
   "source": [
    "# 9.3.4. Method Objects¶\n"
   ]
  },
  {
   "cell_type": "markdown",
   "id": "51445f2e",
   "metadata": {},
   "source": [
    "Обычно метод вызывается сразу после его привязки:"
   ]
  },
  {
   "cell_type": "code",
   "execution_count": 13,
   "id": "93cc9c2b",
   "metadata": {},
   "outputs": [
    {
     "ename": "AttributeError",
     "evalue": "'Complex' object has no attribute 'f'",
     "output_type": "error",
     "traceback": [
      "\u001b[1;31m---------------------------------------------------------------------------\u001b[0m",
      "\u001b[1;31mAttributeError\u001b[0m                            Traceback (most recent call last)",
      "Cell \u001b[1;32mIn[13], line 1\u001b[0m\n\u001b[1;32m----> 1\u001b[0m x\u001b[38;5;241m.\u001b[39mf()\n",
      "\u001b[1;31mAttributeError\u001b[0m: 'Complex' object has no attribute 'f'"
     ]
    }
   ],
   "source": [
    "x.f()"
   ]
  },
  {
   "cell_type": "markdown",
   "id": "60162fc4",
   "metadata": {},
   "source": [
    "В примере с MyClass это вернет строку \"hello world\". Однако нет необходимости вызывать метод сразу: x.f - это объект method, который можно сохранить и вызвать позже. Например:"
   ]
  },
  {
   "cell_type": "code",
   "execution_count": 14,
   "id": "cddde5b9",
   "metadata": {},
   "outputs": [
    {
     "ename": "AttributeError",
     "evalue": "'Complex' object has no attribute 'f'",
     "output_type": "error",
     "traceback": [
      "\u001b[1;31m---------------------------------------------------------------------------\u001b[0m",
      "\u001b[1;31mAttributeError\u001b[0m                            Traceback (most recent call last)",
      "Cell \u001b[1;32mIn[14], line 1\u001b[0m\n\u001b[1;32m----> 1\u001b[0m xf \u001b[38;5;241m=\u001b[39m x\u001b[38;5;241m.\u001b[39mf\n\u001b[0;32m      2\u001b[0m \u001b[38;5;28;01mwhile\u001b[39;00m \u001b[38;5;28;01mTrue\u001b[39;00m:\n\u001b[0;32m      3\u001b[0m     \u001b[38;5;28mprint\u001b[39m(xf())\n",
      "\u001b[1;31mAttributeError\u001b[0m: 'Complex' object has no attribute 'f'"
     ]
    }
   ],
   "source": [
    "xf = x.f\n",
    "while True:\n",
    "    print(xf())"
   ]
  },
  {
   "cell_type": "markdown",
   "id": "defb99a0",
   "metadata": {},
   "source": [
    "будет продолжать выводить hello world до скончания веков.\n",
    "\n",
    "Что именно происходит при вызове метода? Возможно, вы заметили, что x.f() была вызвана без аргумента, хотя в определении функции для f() был указан аргумент. Что случилось с аргументом? Конечно, Python создает исключение, когда функция, требующая аргумента, вызывается без него — даже если аргумент на самом деле не используется…"
   ]
  },
  {
   "cell_type": "markdown",
   "id": "c565b057",
   "metadata": {},
   "source": [
    "На самом деле, вы, наверное, уже догадались об ответе: особенность методов в том, что объект экземпляра передается в качестве первого аргумента функции. В нашем примере вызов x.f() в точности эквивалентен вызову MyClass.f(x). В общем случае вызов метода со списком из n аргументов эквивалентен вызову соответствующей функции со списком аргументов, который создается путем вставки объекта экземпляра метода перед первым аргументом.\n",
    "\n",
    "В общем, методы работают следующим образом. При обращении к атрибуту экземпляра, не относящемуся к данным, выполняется поиск по классу экземпляра. Если имя указывает на допустимый атрибут класса, который является функциональным объектом, ссылки как на объект экземпляра, так и на объект функции упаковываются в объект метода. Когда объект метода вызывается со списком аргументов, новый список аргументов создается из объекта экземпляра и списка аргументов, и объект функции вызывается с этим новым списком аргументов."
   ]
  },
  {
   "cell_type": "markdown",
   "id": "d9b8a14a",
   "metadata": {},
   "source": [
    "# 9.3.5. Class and Instance Variables\n"
   ]
  },
  {
   "cell_type": "markdown",
   "id": "b9b867d6",
   "metadata": {},
   "source": [
    "Вообще говоря, переменные экземпляра предназначены для данных, уникальных для каждого экземпляра, а переменные класса - для атрибутов и методов, общих для всех экземпляров класса:"
   ]
  },
  {
   "cell_type": "code",
   "execution_count": 16,
   "id": "d52ad637",
   "metadata": {},
   "outputs": [
    {
     "ename": "SyntaxError",
     "evalue": "invalid syntax (2145209091.py, line 8)",
     "output_type": "error",
     "traceback": [
      "\u001b[1;36m  Cell \u001b[1;32mIn[16], line 8\u001b[1;36m\u001b[0m\n\u001b[1;33m    >>> d = Dog('Fido')\u001b[0m\n\u001b[1;37m    ^\u001b[0m\n\u001b[1;31mSyntaxError\u001b[0m\u001b[1;31m:\u001b[0m invalid syntax\n"
     ]
    }
   ],
   "source": [
    "class Dog:\n",
    "\n",
    "    kind = 'canine'         # class variable shared by all instances\n",
    "\n",
    "    def __init__(self, name):\n",
    "        self.name = name    # instance variable unique to each instance\n",
    "\n",
    ">>> d = Dog('Fido')\n",
    ">>> e = Dog('Buddy')\n",
    ">>> d.kind                  # shared by all dogs\n",
    "'canine'\n",
    ">>> e.kind                  # shared by all dogs\n",
    "'canine'\n",
    ">>> d.name                  # unique to d\n",
    "'Fido'\n",
    ">>> e.name                  # unique to e\n",
    "'Buddy'"
   ]
  },
  {
   "cell_type": "markdown",
   "id": "55253200",
   "metadata": {},
   "source": [
    "\n",
    "Как обсуждалось в разделе \"Несколько слов об именах и объектах\", общие данные могут иметь неожиданные последствия при использовании изменяемых объектов, таких как списки и словари. Например, список трюков в следующем коде не следует использовать в качестве переменной класса, потому что только один список будет общим для всех экземпляров Dog:\n"
   ]
  },
  {
   "cell_type": "code",
   "execution_count": 17,
   "id": "5bb9b382",
   "metadata": {},
   "outputs": [
    {
     "ename": "SyntaxError",
     "evalue": "invalid syntax (2496267524.py, line 11)",
     "output_type": "error",
     "traceback": [
      "\u001b[1;36m  Cell \u001b[1;32mIn[17], line 11\u001b[1;36m\u001b[0m\n\u001b[1;33m    >>> d = Dog('Fido')\u001b[0m\n\u001b[1;37m    ^\u001b[0m\n\u001b[1;31mSyntaxError\u001b[0m\u001b[1;31m:\u001b[0m invalid syntax\n"
     ]
    }
   ],
   "source": [
    "class Dog:\n",
    "\n",
    "    tricks = []             # mistaken use of a class variable\n",
    "\n",
    "    def __init__(self, name):\n",
    "        self.name = name\n",
    "\n",
    "    def add_trick(self, trick):\n",
    "        self.tricks.append(trick)\n",
    "\n",
    ">>> d = Dog('Fido')\n",
    ">>> e = Dog('Buddy')\n",
    ">>> d.add_trick('roll over')\n",
    ">>> e.add_trick('play dead')\n",
    ">>> d.tricks                # unexpectedly shared by all dogs\n",
    "['roll over', 'play dead']"
   ]
  },
  {
   "cell_type": "markdown",
   "id": "f8caf8db",
   "metadata": {},
   "source": [
    "При правильном проектировании класса вместо этого следует использовать переменную экземпляра:"
   ]
  },
  {
   "cell_type": "code",
   "execution_count": 18,
   "id": "e268145e",
   "metadata": {},
   "outputs": [
    {
     "ename": "SyntaxError",
     "evalue": "invalid syntax (2141920013.py, line 10)",
     "output_type": "error",
     "traceback": [
      "\u001b[1;36m  Cell \u001b[1;32mIn[18], line 10\u001b[1;36m\u001b[0m\n\u001b[1;33m    >>> d = Dog('Fido')\u001b[0m\n\u001b[1;37m    ^\u001b[0m\n\u001b[1;31mSyntaxError\u001b[0m\u001b[1;31m:\u001b[0m invalid syntax\n"
     ]
    }
   ],
   "source": [
    "class Dog:\n",
    "\n",
    "    def __init__(self, name):\n",
    "        self.name = name\n",
    "        self.tricks = []    # creates a new empty list for each dog\n",
    "\n",
    "    def add_trick(self, trick):\n",
    "        self.tricks.append(trick)\n",
    "\n",
    ">>> d = Dog('Fido')\n",
    ">>> e = Dog('Buddy')\n",
    ">>> d.add_trick('roll over')\n",
    ">>> e.add_trick('play dead')\n",
    ">>> d.tricks\n",
    "['roll over']\n",
    ">>> e.tricks\n",
    "['play dead']"
   ]
  },
  {
   "cell_type": "markdown",
   "id": "c5ba0261",
   "metadata": {},
   "source": [
    "# 9.4. Random Remarks\n"
   ]
  },
  {
   "cell_type": "markdown",
   "id": "399c8f44",
   "metadata": {},
   "source": [
    "If the same attribute name occurs in both an instance and in a class, then attribute lookup prioritizes the instance:\n",
    "\n"
   ]
  },
  {
   "cell_type": "code",
   "execution_count": 20,
   "id": "356226fc",
   "metadata": {},
   "outputs": [
    {
     "ename": "SyntaxError",
     "evalue": "invalid syntax (3013116568.py, line 7)",
     "output_type": "error",
     "traceback": [
      "\u001b[1;36m  Cell \u001b[1;32mIn[20], line 7\u001b[1;36m\u001b[0m\n\u001b[1;33m    storage west\u001b[0m\n\u001b[1;37m            ^\u001b[0m\n\u001b[1;31mSyntaxError\u001b[0m\u001b[1;31m:\u001b[0m invalid syntax\n"
     ]
    }
   ],
   "source": [
    "class Warehouse:\n",
    "   purpose = 'storage'\n",
    "   region = 'west'\n",
    "\n",
    "w1 = Warehouse()\n",
    "print(w1.purpose, w1.region)\n",
    "storage west\n",
    "w2 = Warehouse()\n",
    "w2.region = 'east'\n",
    "print(w2.purpose, w2.region)\n",
    "storage east"
   ]
  },
  {
   "cell_type": "markdown",
   "id": "14167932",
   "metadata": {},
   "source": [
    "Data attributes may be referenced by methods as well as by ordinary users (“clients”) of an object. In other words, classes are not usable to implement pure abstract data types. In fact, nothing in Python makes it possible to enforce data hiding — it is all based upon convention. (On the other hand, the Python implementation, written in C, can completely hide implementation details and control access to an object if necessary; this can be used by extensions to Python written in C.)\n",
    "\n"
   ]
  },
  {
   "cell_type": "markdown",
   "id": "34723c73",
   "metadata": {},
   "source": [
    "Clients should use data attributes with care — clients may mess up invariants maintained by the methods by stamping on their data attributes. Note that clients may add data attributes of their own to an instance object without affecting the validity of the methods, as long as name conflicts are avoided — again, a naming convention can save a lot of headaches here.\n",
    "\n"
   ]
  },
  {
   "cell_type": "markdown",
   "id": "1e432fac",
   "metadata": {},
   "source": [
    "There is no shorthand for referencing data attributes (or other methods!) from within methods. I find that this actually increases the readability of methods: there is no chance of confusing local variables and instance variables when glancing through a method.\n",
    "\n"
   ]
  },
  {
   "cell_type": "markdown",
   "id": "1c7df2d1",
   "metadata": {},
   "source": [
    "Often, the first argument of a method is called self. This is nothing more than a convention: the name self has absolutely no special meaning to Python. Note, however, that by not following the convention your code may be less readable to other Python programmers, and it is also conceivable that a class browser program might be written that relies upon such a convention.\n",
    "\n"
   ]
  },
  {
   "cell_type": "markdown",
   "id": "1b8dacf7",
   "metadata": {},
   "source": [
    "Any function object that is a class attribute defines a method for instances of that class. It is not necessary that the function definition is textually enclosed in the class definition: assigning a function object to a local variable in the class is also ok. For example:\n",
    "\n"
   ]
  },
  {
   "cell_type": "code",
   "execution_count": 21,
   "id": "9fc87024",
   "metadata": {},
   "outputs": [],
   "source": [
    "# Function defined outside the class\n",
    "def f1(self, x, y):\n",
    "    return min(x, x+y)\n",
    "\n",
    "class C:\n",
    "    f = f1\n",
    "\n",
    "    def g(self):\n",
    "        return 'hello world'\n",
    "\n",
    "    h = g"
   ]
  },
  {
   "cell_type": "markdown",
   "id": "bf37c3c6",
   "metadata": {},
   "source": [
    "Now f, g and h are all attributes of class C that refer to function objects, and consequently they are all methods of instances of C — h being exactly equivalent to g. Note that this practice usually only serves to confuse the reader of a program.\n",
    "\n"
   ]
  },
  {
   "cell_type": "markdown",
   "id": "016e4c23",
   "metadata": {},
   "source": [
    "Methods may call other methods by using method attributes of the self argument:\n",
    "\n"
   ]
  },
  {
   "cell_type": "code",
   "execution_count": 22,
   "id": "2c861c88",
   "metadata": {},
   "outputs": [],
   "source": [
    "class Bag:\n",
    "    def __init__(self):\n",
    "        self.data = []\n",
    "\n",
    "    def add(self, x):\n",
    "        self.data.append(x)\n",
    "\n",
    "    def addtwice(self, x):\n",
    "        self.add(x)\n",
    "        self.add(x)"
   ]
  },
  {
   "cell_type": "markdown",
   "id": "cac5bcb1",
   "metadata": {},
   "source": [
    "Methods may reference global names in the same way as ordinary functions. The global scope associated with a method is the module containing its definition. (A class is never used as a global scope.) While one rarely encounters a good reason for using global data in a method, there are many legitimate uses of the global scope: for one thing, functions and modules imported into the global scope can be used by methods, as well as functions and classes defined in it. Usually, the class containing the method is itself defined in this global scope, and in the next section we’ll find some good reasons why a method would want to reference its own class.\n",
    "\n",
    "Each value is an object, and therefore has a class (also called its type). It is stored as object.__class__."
   ]
  },
  {
   "cell_type": "markdown",
   "id": "900235d7",
   "metadata": {},
   "source": [
    "# 9.5. Inheritance¶\n"
   ]
  },
  {
   "cell_type": "markdown",
   "id": "218f89ce",
   "metadata": {},
   "source": [
    "Of course, a language feature would not be worthy of the name “class” without supporting inheritance. The syntax for a derived class definition looks like this:\n",
    "\n"
   ]
  },
  {
   "cell_type": "code",
   "execution_count": 23,
   "id": "fff2e83f",
   "metadata": {},
   "outputs": [
    {
     "ename": "SyntaxError",
     "evalue": "invalid syntax (330746952.py, line 2)",
     "output_type": "error",
     "traceback": [
      "\u001b[1;36m  Cell \u001b[1;32mIn[23], line 2\u001b[1;36m\u001b[0m\n\u001b[1;33m    <statement-1>\u001b[0m\n\u001b[1;37m    ^\u001b[0m\n\u001b[1;31mSyntaxError\u001b[0m\u001b[1;31m:\u001b[0m invalid syntax\n"
     ]
    }
   ],
   "source": [
    "class DerivedClassName(BaseClassName):\n",
    "    <statement-1>\n",
    "    .\n",
    "    .\n",
    "    .\n",
    "    <statement-N>"
   ]
  },
  {
   "cell_type": "markdown",
   "id": "fdc9f177",
   "metadata": {},
   "source": [
    "The name BaseClassName must be defined in a namespace accessible from the scope containing the derived class definition. In place of a base class name, other arbitrary expressions are also allowed. This can be useful, for example, when the base class is defined in another module:\n",
    "\n"
   ]
  },
  {
   "cell_type": "code",
   "execution_count": 24,
   "id": "6fb4b75c",
   "metadata": {},
   "outputs": [
    {
     "ename": "SyntaxError",
     "evalue": "incomplete input (2014452799.py, line 1)",
     "output_type": "error",
     "traceback": [
      "\u001b[1;36m  Cell \u001b[1;32mIn[24], line 1\u001b[1;36m\u001b[0m\n\u001b[1;33m    class DerivedClassName(modname.BaseClassName):\u001b[0m\n\u001b[1;37m                                                  ^\u001b[0m\n\u001b[1;31mSyntaxError\u001b[0m\u001b[1;31m:\u001b[0m incomplete input\n"
     ]
    }
   ],
   "source": [
    "class DerivedClassName(modname.BaseClassName):\n"
   ]
  },
  {
   "cell_type": "markdown",
   "id": "4acca439",
   "metadata": {},
   "source": [
    "Execution of a derived class definition proceeds the same as for a base class. When the class object is constructed, the base class is remembered. This is used for resolving attribute references: if a requested attribute is not found in the class, the search proceeds to look in the base class. This rule is applied recursively if the base class itself is derived from some other class.\n",
    "\n"
   ]
  },
  {
   "cell_type": "markdown",
   "id": "52bdb93c",
   "metadata": {},
   "source": [
    "There’s nothing special about instantiation of derived classes: DerivedClassName() creates a new instance of the class. Method references are resolved as follows: the corresponding class attribute is searched, descending down the chain of base classes if necessary, and the method reference is valid if this yields a function object.\n",
    "\n"
   ]
  },
  {
   "cell_type": "markdown",
   "id": "65277818",
   "metadata": {},
   "source": [
    "Derived classes may override methods of their base classes. Because methods have no special privileges when calling other methods of the same object, a method of a base class that calls another method defined in the same base class may end up calling a method of a derived class that overrides it. (For C++ programmers: all methods in Python are effectively virtual.)\n",
    "\n"
   ]
  },
  {
   "cell_type": "markdown",
   "id": "9c636bf1",
   "metadata": {},
   "source": [
    "An overriding method in a derived class may in fact want to extend rather than simply replace the base class method of the same name. There is a simple way to call the base class method directly: just call BaseClassName.methodname(self, arguments). This is occasionally useful to clients as well. (Note that this only works if the base class is accessible as BaseClassName in the global scope.)\n",
    "\n"
   ]
  },
  {
   "cell_type": "markdown",
   "id": "9bf420b8",
   "metadata": {},
   "source": [
    "Python has two built-in functions that work with inheritance:\n",
    "\n"
   ]
  },
  {
   "cell_type": "markdown",
   "id": "067709c7",
   "metadata": {},
   "source": [
    "Use isinstance() to check an instance’s type: isinstance(obj, int) will be True only if obj.__class__ is int or some class derived from int.\n",
    "\n",
    "Use issubclass() to check class inheritance: issubclass(bool, int) is True since bool is a subclass of int. However, issubclass(float, int) is False since float is not a subclass of int."
   ]
  },
  {
   "cell_type": "markdown",
   "id": "c39f240d",
   "metadata": {},
   "source": [
    "# 9.5.1. Multiple Inheritance\n"
   ]
  },
  {
   "cell_type": "markdown",
   "id": "3bf3985b",
   "metadata": {},
   "source": [
    "Python supports a form of multiple inheritance as well. A class definition with multiple base classes looks like this:\n",
    "\n"
   ]
  },
  {
   "cell_type": "code",
   "execution_count": 1,
   "id": "87038e27",
   "metadata": {},
   "outputs": [
    {
     "ename": "SyntaxError",
     "evalue": "invalid syntax (3094464628.py, line 2)",
     "output_type": "error",
     "traceback": [
      "\u001b[1;36m  Cell \u001b[1;32mIn[1], line 2\u001b[1;36m\u001b[0m\n\u001b[1;33m    <statement-1>\u001b[0m\n\u001b[1;37m    ^\u001b[0m\n\u001b[1;31mSyntaxError\u001b[0m\u001b[1;31m:\u001b[0m invalid syntax\n"
     ]
    }
   ],
   "source": [
    "class DerivedClassName(Base1, Base2, Base3):\n",
    "    <statement-1>\n",
    "    .\n",
    "    .\n",
    "    .\n",
    "    <statement-N>"
   ]
  },
  {
   "cell_type": "markdown",
   "id": "d0bc096c",
   "metadata": {},
   "source": [
    "For most purposes, in the simplest cases, you can think of the search for attributes inherited from a parent class as depth-first, left-to-right, not searching twice in the same class where there is an overlap in the hierarchy. Thus, if an attribute is not found in DerivedClassName, it is searched for in Base1, then (recursively) in the base classes of Base1, and if it was not found there, it was searched for in Base2, and so on.\n",
    "\n"
   ]
  },
  {
   "cell_type": "markdown",
   "id": "21bd14be",
   "metadata": {},
   "source": [
    "In fact, it is slightly more complex than that; the method resolution order changes dynamically to support cooperative calls to super(). This approach is known in some other multiple-inheritance languages as call-next-method and is more powerful than the super call found in single-inheritance languages.\n",
    "\n"
   ]
  },
  {
   "cell_type": "markdown",
   "id": "6d8cd2d1",
   "metadata": {},
   "source": [
    "Dynamic ordering is necessary because all cases of multiple inheritance exhibit one or more diamond relationships (where at least one of the parent classes can be accessed through multiple paths from the bottommost class). For example, all classes inherit from object, so any case of multiple inheritance provides more than one path to reach object. To keep the base classes from being accessed more than once, the dynamic algorithm linearizes the search order in a way that preserves the left-to-right ordering specified in each class, that calls each parent only once, and that is monotonic (meaning that a class can be subclassed without affecting the precedence order of its parents). Taken together, these properties make it possible to design reliable and extensible classes with multiple inheritance. For more detail, see https://www.python.org/download/releases/2.3/mro/.\n",
    "\n"
   ]
  },
  {
   "cell_type": "markdown",
   "id": "5a5b0f17",
   "metadata": {},
   "source": [
    "# 9.6. Private Variables\n"
   ]
  },
  {
   "cell_type": "markdown",
   "id": "9df15855",
   "metadata": {},
   "source": [
    "“Private” instance variables that cannot be accessed except from inside an object don’t exist in Python. However, there is a convention that is followed by most Python code: a name prefixed with an underscore (e.g. _spam) should be treated as a non-public part of the API (whether it is a function, a method or a data member). It should be considered an implementation detail and subject to change without notice.\n",
    "\n"
   ]
  },
  {
   "cell_type": "markdown",
   "id": "7594e979",
   "metadata": {},
   "source": [
    "Since there is a valid use-case for class-private members (namely to avoid name clashes of names with names defined by subclasses), there is limited support for such a mechanism, called name mangling. Any identifier of the form __spam (at least two leading underscores, at most one trailing underscore) is textually replaced with _classname__spam, where classname is the current class name with leading underscore(s) stripped. This mangling is done without regard to the syntactic position of the identifier, as long as it occurs within the definition of a class.\n",
    "\n"
   ]
  },
  {
   "cell_type": "markdown",
   "id": "47d6e439",
   "metadata": {},
   "source": [
    "Name mangling is helpful for letting subclasses override methods without breaking intraclass method calls. For example:\n",
    "\n"
   ]
  },
  {
   "cell_type": "code",
   "execution_count": 2,
   "id": "e3ef9e91",
   "metadata": {},
   "outputs": [],
   "source": [
    "class Mapping:\n",
    "    def __init__(self, iterable):\n",
    "        self.items_list = []\n",
    "        self.__update(iterable)\n",
    "\n",
    "    def update(self, iterable):\n",
    "        for item in iterable:\n",
    "            self.items_list.append(item)\n",
    "\n",
    "    __update = update   # private copy of original update() method\n",
    "\n",
    "class MappingSubclass(Mapping):\n",
    "\n",
    "    def update(self, keys, values):\n",
    "        # provides new signature for update()\n",
    "        # but does not break __init__()\n",
    "        for item in zip(keys, values):\n",
    "            self.items_list.append(item)"
   ]
  },
  {
   "cell_type": "markdown",
   "id": "694e6f2a",
   "metadata": {},
   "source": [
    "The above example would work even if MappingSubclass were to introduce a __update identifier since it is replaced with _Mapping__update in the Mapping class and _MappingSubclass__update in the MappingSubclass class respectively.\n",
    "\n"
   ]
  },
  {
   "cell_type": "markdown",
   "id": "428e6cfe",
   "metadata": {},
   "source": [
    "Note that the mangling rules are designed mostly to avoid accidents; it still is possible to access or modify a variable that is considered private. This can even be useful in special circumstances, such as in the debugger.\n",
    "\n"
   ]
  },
  {
   "cell_type": "markdown",
   "id": "9f2cf2cb",
   "metadata": {},
   "source": [
    "Notice that code passed to exec() or eval() does not consider the classname of the invoking class to be the current class; this is similar to the effect of the global statement, the effect of which is likewise restricted to code that is byte-compiled together. The same restriction applies to getattr(), setattr() and delattr(), as well as when referencing __dict__ directly.\n",
    "\n"
   ]
  },
  {
   "cell_type": "markdown",
   "id": "15e5de0c",
   "metadata": {},
   "source": [
    "# 9.7. Odds and Ends\n"
   ]
  },
  {
   "cell_type": "markdown",
   "id": "cdd73b7b",
   "metadata": {},
   "source": [
    "Sometimes it is useful to have a data type similar to the Pascal “record” or C “struct”, bundling together a few named data items. The idiomatic approach is to use dataclasses for this purpose:\n",
    "\n"
   ]
  },
  {
   "cell_type": "code",
   "execution_count": 3,
   "id": "834510f7",
   "metadata": {},
   "outputs": [],
   "source": [
    "from dataclasses import dataclass\n",
    "\n",
    "@dataclass\n",
    "class Employee:\n",
    "    name: str\n",
    "    dept: str\n",
    "    salary: int"
   ]
  },
  {
   "cell_type": "code",
   "execution_count": 4,
   "id": "453d7e7f",
   "metadata": {},
   "outputs": [
    {
     "data": {
      "text/plain": [
       "1000"
      ]
     },
     "execution_count": 4,
     "metadata": {},
     "output_type": "execute_result"
    }
   ],
   "source": [
    "john = Employee('john', 'computer lab', 1000)\n",
    "john.dept\n",
    "'computer lab'\n",
    "john.salary\n",
    "1000"
   ]
  },
  {
   "cell_type": "markdown",
   "id": "7c8de726",
   "metadata": {},
   "source": [
    "A piece of Python code that expects a particular abstract data type can often be passed a class that emulates the methods of that data type instead. For instance, if you have a function that formats some data from a file object, you can define a class with methods read() and readline() that get the data from a string buffer instead, and pass it as an argument."
   ]
  },
  {
   "cell_type": "markdown",
   "id": "5b9be2de",
   "metadata": {},
   "source": [
    "Instance method objects have attributes, too: m.__self__ is the instance object with the method m(), and m.__func__ is the function object corresponding to the method.\n",
    "\n"
   ]
  },
  {
   "cell_type": "markdown",
   "id": "f0dcebcf",
   "metadata": {},
   "source": [
    "# 9.8. Iterators\n"
   ]
  },
  {
   "cell_type": "markdown",
   "id": "1cadb1e2",
   "metadata": {},
   "source": [
    "By now you have probably noticed that most container objects can be looped over using a for statement:\n",
    "\n"
   ]
  },
  {
   "cell_type": "code",
   "execution_count": 5,
   "id": "18c012c7",
   "metadata": {},
   "outputs": [
    {
     "name": "stdout",
     "output_type": "stream",
     "text": [
      "1\n",
      "2\n",
      "3\n",
      "1\n",
      "2\n",
      "3\n",
      "one\n",
      "two\n",
      "1\n",
      "2\n",
      "3\n"
     ]
    },
    {
     "ename": "FileNotFoundError",
     "evalue": "[Errno 2] No such file or directory: 'myfile.txt'",
     "output_type": "error",
     "traceback": [
      "\u001b[1;31m---------------------------------------------------------------------------\u001b[0m",
      "\u001b[1;31mFileNotFoundError\u001b[0m                         Traceback (most recent call last)",
      "Cell \u001b[1;32mIn[5], line 9\u001b[0m\n\u001b[0;32m      7\u001b[0m \u001b[38;5;28;01mfor\u001b[39;00m char \u001b[38;5;129;01min\u001b[39;00m \u001b[38;5;124m\"\u001b[39m\u001b[38;5;124m123\u001b[39m\u001b[38;5;124m\"\u001b[39m:\n\u001b[0;32m      8\u001b[0m     \u001b[38;5;28mprint\u001b[39m(char)\n\u001b[1;32m----> 9\u001b[0m \u001b[38;5;28;01mfor\u001b[39;00m line \u001b[38;5;129;01min\u001b[39;00m \u001b[38;5;28mopen\u001b[39m(\u001b[38;5;124m\"\u001b[39m\u001b[38;5;124mmyfile.txt\u001b[39m\u001b[38;5;124m\"\u001b[39m):\n\u001b[0;32m     10\u001b[0m     \u001b[38;5;28mprint\u001b[39m(line, end\u001b[38;5;241m=\u001b[39m\u001b[38;5;124m'\u001b[39m\u001b[38;5;124m'\u001b[39m)\n",
      "File \u001b[1;32m~\\anaconda3\\Lib\\site-packages\\IPython\\core\\interactiveshell.py:286\u001b[0m, in \u001b[0;36m_modified_open\u001b[1;34m(file, *args, **kwargs)\u001b[0m\n\u001b[0;32m    279\u001b[0m \u001b[38;5;28;01mif\u001b[39;00m file \u001b[38;5;129;01min\u001b[39;00m {\u001b[38;5;241m0\u001b[39m, \u001b[38;5;241m1\u001b[39m, \u001b[38;5;241m2\u001b[39m}:\n\u001b[0;32m    280\u001b[0m     \u001b[38;5;28;01mraise\u001b[39;00m \u001b[38;5;167;01mValueError\u001b[39;00m(\n\u001b[0;32m    281\u001b[0m         \u001b[38;5;124mf\u001b[39m\u001b[38;5;124m\"\u001b[39m\u001b[38;5;124mIPython won\u001b[39m\u001b[38;5;124m'\u001b[39m\u001b[38;5;124mt let you open fd=\u001b[39m\u001b[38;5;132;01m{\u001b[39;00mfile\u001b[38;5;132;01m}\u001b[39;00m\u001b[38;5;124m by default \u001b[39m\u001b[38;5;124m\"\u001b[39m\n\u001b[0;32m    282\u001b[0m         \u001b[38;5;124m\"\u001b[39m\u001b[38;5;124mas it is likely to crash IPython. If you know what you are doing, \u001b[39m\u001b[38;5;124m\"\u001b[39m\n\u001b[0;32m    283\u001b[0m         \u001b[38;5;124m\"\u001b[39m\u001b[38;5;124myou can use builtins\u001b[39m\u001b[38;5;124m'\u001b[39m\u001b[38;5;124m open.\u001b[39m\u001b[38;5;124m\"\u001b[39m\n\u001b[0;32m    284\u001b[0m     )\n\u001b[1;32m--> 286\u001b[0m \u001b[38;5;28;01mreturn\u001b[39;00m io_open(file, \u001b[38;5;241m*\u001b[39margs, \u001b[38;5;241m*\u001b[39m\u001b[38;5;241m*\u001b[39mkwargs)\n",
      "\u001b[1;31mFileNotFoundError\u001b[0m: [Errno 2] No such file or directory: 'myfile.txt'"
     ]
    }
   ],
   "source": [
    "for element in [1, 2, 3]:\n",
    "    print(element)\n",
    "for element in (1, 2, 3):\n",
    "    print(element)\n",
    "for key in {'one':1, 'two':2}:\n",
    "    print(key)\n",
    "for char in \"123\":\n",
    "    print(char)\n",
    "for line in open(\"myfile.txt\"):\n",
    "    print(line, end='')"
   ]
  },
  {
   "cell_type": "markdown",
   "id": "cf97d974",
   "metadata": {},
   "source": [
    "This style of access is clear, concise, and convenient. The use of iterators pervades and unifies Python. Behind the scenes, the for statement calls iter() on the container object. The function returns an iterator object that defines the method __next__() which accesses elements in the container one at a time. When there are no more elements, __next__() raises a StopIteration exception which tells the for loop to terminate. You can call the __next__() method using the next() built-in function; this example shows how it all works:\n",
    "\n"
   ]
  },
  {
   "cell_type": "code",
   "execution_count": 6,
   "id": "0ebdb34e",
   "metadata": {},
   "outputs": [
    {
     "ename": "SyntaxError",
     "evalue": "invalid syntax (654447479.py, line 4)",
     "output_type": "error",
     "traceback": [
      "\u001b[1;36m  Cell \u001b[1;32mIn[6], line 4\u001b[1;36m\u001b[0m\n\u001b[1;33m    <str_iterator object at 0x10c90e650>\u001b[0m\n\u001b[1;37m    ^\u001b[0m\n\u001b[1;31mSyntaxError\u001b[0m\u001b[1;31m:\u001b[0m invalid syntax\n"
     ]
    }
   ],
   "source": [
    "s = 'abc'\n",
    "it = iter(s)\n",
    "it\n",
    "<str_iterator object at 0x10c90e650>\n",
    "next(it)\n",
    "'a'\n",
    "next(it)\n",
    "'b'\n",
    "next(it)\n",
    "'c'\n",
    "next(it)\n",
    "Traceback (most recent call last):\n",
    "  File \"<stdin>\", line 1, in <module>\n",
    "    next(it)\n",
    "StopIteration"
   ]
  },
  {
   "cell_type": "markdown",
   "id": "4e0a157c",
   "metadata": {},
   "source": [
    "Having seen the mechanics behind the iterator protocol, it is easy to add iterator behavior to your classes. Define an __iter__() method which returns an object with a __next__() method. If the class defines __next__(), then __iter__() can just return self:\n",
    "\n"
   ]
  },
  {
   "cell_type": "code",
   "execution_count": 7,
   "id": "a1c22674",
   "metadata": {},
   "outputs": [],
   "source": [
    "class Reverse:\n",
    "    \"\"\"Iterator for looping over a sequence backwards.\"\"\"\n",
    "    def __init__(self, data):\n",
    "        self.data = data\n",
    "        self.index = len(data)\n",
    "\n",
    "    def __iter__(self):\n",
    "        return self\n",
    "\n",
    "    def __next__(self):\n",
    "        if self.index == 0:\n",
    "            raise StopIteration\n",
    "        self.index = self.index - 1\n",
    "        return self.data[self.index]"
   ]
  },
  {
   "cell_type": "code",
   "execution_count": 8,
   "id": "43190b91",
   "metadata": {},
   "outputs": [
    {
     "ename": "SyntaxError",
     "evalue": "invalid syntax (1683641927.py, line 3)",
     "output_type": "error",
     "traceback": [
      "\u001b[1;36m  Cell \u001b[1;32mIn[8], line 3\u001b[1;36m\u001b[0m\n\u001b[1;33m    <__main__.Reverse object at 0x00A1DB50>\u001b[0m\n\u001b[1;37m    ^\u001b[0m\n\u001b[1;31mSyntaxError\u001b[0m\u001b[1;31m:\u001b[0m invalid syntax\n"
     ]
    }
   ],
   "source": [
    "rev = Reverse('spam')\n",
    "iter(rev)\n",
    "<__main__.Reverse object at 0x00A1DB50>\n",
    "for char in rev:\n",
    "    print(char)\n",
    "\n",
    "m\n",
    "a\n",
    "p\n",
    "s"
   ]
  },
  {
   "cell_type": "markdown",
   "id": "8327c8ca",
   "metadata": {},
   "source": [
    "# 9.9. Generators\n"
   ]
  },
  {
   "cell_type": "markdown",
   "id": "d53d6854",
   "metadata": {},
   "source": [
    "Generators are a simple and powerful tool for creating iterators. They are written like regular functions but use the yield statement whenever they want to return data. Each time next() is called on it, the generator resumes where it left off (it remembers all the data values and which statement was last executed). An example shows that generators can be trivially easy to create:\n",
    "\n"
   ]
  },
  {
   "cell_type": "code",
   "execution_count": 9,
   "id": "9bf03cce",
   "metadata": {},
   "outputs": [],
   "source": [
    "def reverse(data):\n",
    "    for index in range(len(data)-1, -1, -1):\n",
    "        yield data[index]"
   ]
  },
  {
   "cell_type": "code",
   "execution_count": 10,
   "id": "32079beb",
   "metadata": {},
   "outputs": [
    {
     "name": "stdout",
     "output_type": "stream",
     "text": [
      "f\n",
      "l\n",
      "o\n",
      "g\n"
     ]
    },
    {
     "ename": "NameError",
     "evalue": "name 'f' is not defined",
     "output_type": "error",
     "traceback": [
      "\u001b[1;31m---------------------------------------------------------------------------\u001b[0m",
      "\u001b[1;31mNameError\u001b[0m                                 Traceback (most recent call last)",
      "Cell \u001b[1;32mIn[10], line 4\u001b[0m\n\u001b[0;32m      1\u001b[0m \u001b[38;5;28;01mfor\u001b[39;00m char \u001b[38;5;129;01min\u001b[39;00m reverse(\u001b[38;5;124m'\u001b[39m\u001b[38;5;124mgolf\u001b[39m\u001b[38;5;124m'\u001b[39m):\n\u001b[0;32m      2\u001b[0m     \u001b[38;5;28mprint\u001b[39m(char)\n\u001b[1;32m----> 4\u001b[0m f\n\u001b[0;32m      5\u001b[0m l\n\u001b[0;32m      6\u001b[0m o\n",
      "\u001b[1;31mNameError\u001b[0m: name 'f' is not defined"
     ]
    }
   ],
   "source": [
    "for char in reverse('golf'):\n",
    "    print(char)\n",
    "\n",
    "f\n",
    "l\n",
    "o\n",
    "g"
   ]
  },
  {
   "cell_type": "markdown",
   "id": "db823ddb",
   "metadata": {},
   "source": [
    "Anything that can be done with generators can also be done with class-based iterators as described in the previous section. What makes generators so compact is that the __iter__() and __next__() methods are created automatically.\n",
    "\n"
   ]
  },
  {
   "cell_type": "markdown",
   "id": "fcc781c9",
   "metadata": {},
   "source": [
    "Another key feature is that the local variables and execution state are automatically saved between calls. This made the function easier to write and much more clear than an approach using instance variables like self.index and self.data.\n",
    "\n"
   ]
  },
  {
   "cell_type": "markdown",
   "id": "bf7f5a6a",
   "metadata": {},
   "source": [
    "In addition to automatic method creation and saving program state, when generators terminate, they automatically raise StopIteration. In combination, these features make it easy to create iterators with no more effort than writing a regular function.\n",
    "\n"
   ]
  },
  {
   "cell_type": "markdown",
   "id": "808759c2",
   "metadata": {},
   "source": [
    "# 9.10. Generator Expressions\n"
   ]
  },
  {
   "cell_type": "markdown",
   "id": "3910fc16",
   "metadata": {},
   "source": [
    "Some simple generators can be coded succinctly as expressions using a syntax similar to list comprehensions but with parentheses instead of square brackets. These expressions are designed for situations where the generator is used right away by an enclosing function. Generator expressions are more compact but less versatile than full generator definitions and tend to be more memory friendly than equivalent list comprehensions.\n",
    "\n",
    "\n",
    "Examples:\n",
    "\n"
   ]
  },
  {
   "cell_type": "code",
   "execution_count": 12,
   "id": "2fed8d86",
   "metadata": {},
   "outputs": [
    {
     "ename": "NameError",
     "evalue": "name 'page' is not defined",
     "output_type": "error",
     "traceback": [
      "\u001b[1;31m---------------------------------------------------------------------------\u001b[0m",
      "\u001b[1;31mNameError\u001b[0m                                 Traceback (most recent call last)",
      "Cell \u001b[1;32mIn[12], line 9\u001b[0m\n\u001b[0;32m      6\u001b[0m \u001b[38;5;28msum\u001b[39m(x\u001b[38;5;241m*\u001b[39my \u001b[38;5;28;01mfor\u001b[39;00m x,y \u001b[38;5;129;01min\u001b[39;00m \u001b[38;5;28mzip\u001b[39m(xvec, yvec))         \u001b[38;5;66;03m# dot product\u001b[39;00m\n\u001b[0;32m      7\u001b[0m \u001b[38;5;241m260\u001b[39m\n\u001b[1;32m----> 9\u001b[0m unique_words \u001b[38;5;241m=\u001b[39m \u001b[38;5;28mset\u001b[39m(word \u001b[38;5;28;01mfor\u001b[39;00m line \u001b[38;5;129;01min\u001b[39;00m page  \u001b[38;5;28;01mfor\u001b[39;00m word \u001b[38;5;129;01min\u001b[39;00m line\u001b[38;5;241m.\u001b[39msplit())\n\u001b[0;32m     11\u001b[0m valedictorian \u001b[38;5;241m=\u001b[39m \u001b[38;5;28mmax\u001b[39m((student\u001b[38;5;241m.\u001b[39mgpa, student\u001b[38;5;241m.\u001b[39mname) \u001b[38;5;28;01mfor\u001b[39;00m student \u001b[38;5;129;01min\u001b[39;00m graduates)\n\u001b[0;32m     13\u001b[0m data \u001b[38;5;241m=\u001b[39m \u001b[38;5;124m'\u001b[39m\u001b[38;5;124mgolf\u001b[39m\u001b[38;5;124m'\u001b[39m\n",
      "\u001b[1;31mNameError\u001b[0m: name 'page' is not defined"
     ]
    }
   ],
   "source": [
    "sum(i*i for i in range(10))                 # sum of squares\n",
    "285\n",
    "\n",
    "xvec = [10, 20, 30]\n",
    "yvec = [7, 5, 3]\n",
    "sum(x*y for x,y in zip(xvec, yvec))         # dot product\n",
    "260\n",
    "\n",
    "unique_words = set(word for line in page  for word in line.split())\n",
    "\n",
    "valedictorian = max((student.gpa, student.name) for student in graduates)\n",
    "\n",
    "data = 'golf'\n",
    "list(data[i] for i in range(len(data)-1, -1, -1))\n",
    "['f', 'l', 'o', 'g']"
   ]
  },
  {
   "cell_type": "markdown",
   "id": "71458682",
   "metadata": {},
   "source": [
    "Footnotes\n",
    "\n",
    "[1]\n",
    "Except for one thing. Module objects have a secret read-only attribute called __dict__ which returns the dictionary used to implement the module’s namespace; the name __dict__ is an attribute but not a global name. Obviously, using this violates the abstraction of namespace implementation, and should be restricted to things like post-mortem debuggers."
   ]
  },
  {
   "cell_type": "code",
   "execution_count": null,
   "id": "e841c937",
   "metadata": {},
   "outputs": [],
   "source": []
  }
 ],
 "metadata": {
  "kernelspec": {
   "display_name": "Python 3 (ipykernel)",
   "language": "python",
   "name": "python3"
  },
  "language_info": {
   "codemirror_mode": {
    "name": "ipython",
    "version": 3
   },
   "file_extension": ".py",
   "mimetype": "text/x-python",
   "name": "python",
   "nbconvert_exporter": "python",
   "pygments_lexer": "ipython3",
   "version": "3.11.4"
  }
 },
 "nbformat": 4,
 "nbformat_minor": 5
}
