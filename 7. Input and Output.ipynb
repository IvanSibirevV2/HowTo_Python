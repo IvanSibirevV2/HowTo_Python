{
 "cells": [
  {
   "cell_type": "markdown",
   "id": "427c8b86",
   "metadata": {},
   "source": [
    "https://docs.python.org/3/tutorial/index.html"
   ]
  },
  {
   "cell_type": "markdown",
   "id": "8f117646",
   "metadata": {},
   "source": []
  },
  {
   "cell_type": "code",
   "execution_count": 2,
   "id": "f0caf279",
   "metadata": {},
   "outputs": [],
   "source": [
    "my_file = open(\"BabyFile.txt\", \"a+\")\n",
    "my_file.write(\"и еще кое-что!\")\n",
    "my_file.close()"
   ]
  },
  {
   "cell_type": "markdown",
   "id": "b0a159e0",
   "metadata": {},
   "source": [
    "# 7.2. Reading and Writing Files¶\n"
   ]
  },
  {
   "cell_type": "markdown",
   "id": "ea7097dd",
   "metadata": {},
   "source": [
    "\n",
    "функция open() возвращает файловый объект и чаще всего используется с двумя позиционными аргументами и одним ключевым словом: open(имя файла, режим, кодировка=Нет)"
   ]
  },
  {
   "cell_type": "code",
   "execution_count": 14,
   "id": "262351c1",
   "metadata": {},
   "outputs": [],
   "source": [
    "f = open('workfile', 'w', encoding=\"utf-8\")"
   ]
  },
  {
   "cell_type": "markdown",
   "id": "335a5079",
   "metadata": {},
   "source": [
    "Первый аргумент - это строка, содержащая имя файла. Второй аргумент - это еще одна строка, содержащая несколько символов, описывающих способ использования файла. режим может быть \"r\", когда файл будет доступен только для чтения, \"w\" - только для записи (существующий файл с таким же именем будет удален), а \"a\" открывает файл для добавления; любые данные, записанные в файл, автоматически добавляются в конец. \"r+\" открывает файл как для чтения, так и для записи. Аргумент mode является необязательным; значение 'r' будет приниматься, если оно опущено."
   ]
  },
  {
   "cell_type": "markdown",
   "id": "9e68857b",
   "metadata": {},
   "source": [
    "Обычно файлы открываются в текстовом режиме, что означает, что вы читаете и записываете строки из файла и в сам файл, которые закодированы в определенной кодировке. Если кодировка не указана, то по умолчанию она зависит от платформы (см. open()). Поскольку UTF-8 является современным стандартом де-факто, рекомендуется использовать encoding=\"utf-8\", если только вы не знаете, что вам нужно использовать другую кодировку. Добавление \"b\" к mode открывает файл в двоичном режиме. Данные в двоичном режиме считываются и записываются в виде объектов bytes. Вы не можете указать кодировку при открытии файла в двоичном режиме."
   ]
  },
  {
   "cell_type": "markdown",
   "id": "ff14062d",
   "metadata": {},
   "source": [
    "В текстовом режиме при чтении по умолчанию используется преобразование окончаний строк, зависящих от платформы (\\n в Unix, \\r\\n в Windows), в просто \\n. При записи в текстовом режиме по умолчанию используется преобразование вхождений \\n обратно в окончания строк, зависящие от платформы. Такая скрытая модификация файловых данных подходит для текстовых файлов, но может привести к повреждению двоичных данных, как в файлах JPEG или EXE. Будьте очень осторожны при использовании двоичного режима при чтении и записи таких файлов."
   ]
  },
  {
   "cell_type": "markdown",
   "id": "264c5d14",
   "metadata": {},
   "source": [
    "\n",
    "Рекомендуется использовать ключевое слово with при работе с файловыми объектами. Преимущество заключается в том, что файл корректно закрывается после завершения его обработки, даже если в какой-то момент возникает исключение. Использование with также намного короче, чем написание эквивалентных блоков try-finally:\n",
    "\n",
    "\n"
   ]
  },
  {
   "cell_type": "code",
   "execution_count": 15,
   "id": "5d581186",
   "metadata": {},
   "outputs": [
    {
     "data": {
      "text/plain": [
       "True"
      ]
     },
     "execution_count": 15,
     "metadata": {},
     "output_type": "execute_result"
    }
   ],
   "source": [
    "with open('workfile', encoding=\"utf-8\") as f:\n",
    "    read_data = f.read()\n",
    "\n",
    "# We can check that the file has been automatically closed.\n",
    "f.closed\n",
    "True"
   ]
  },
  {
   "cell_type": "markdown",
   "id": "3d2f7296",
   "metadata": {},
   "source": [
    "Если вы не используете ключевое слово with, то вам следует вызвать функцию f.close(), чтобы закрыть файл и немедленно освободить все используемые им системные ресурсы.\n",
    "\n",
    "Предупреждение: вызов функции f.write() без использования ключевого слова with или вызов функции f.close() может привести к тому, что аргументы функции f.write() не будут полностью записаны на диск, даже если программа завершит работу успешно.\n",
    "После закрытия файлового объекта с помощью инструкции with или вызова функции f.close() попытки использования файлового объекта автоматически завершаются неудачей."
   ]
  },
  {
   "cell_type": "code",
   "execution_count": 16,
   "id": "7bfcd08b",
   "metadata": {},
   "outputs": [
    {
     "ename": "SyntaxError",
     "evalue": "invalid syntax. Perhaps you forgot a comma? (987387078.py, line 3)",
     "output_type": "error",
     "traceback": [
      "\u001b[1;36m  Cell \u001b[1;32mIn[16], line 3\u001b[1;36m\u001b[0m\n\u001b[1;33m    Traceback (most recent call last):\u001b[0m\n\u001b[1;37m               ^\u001b[0m\n\u001b[1;31mSyntaxError\u001b[0m\u001b[1;31m:\u001b[0m invalid syntax. Perhaps you forgot a comma?\n"
     ]
    }
   ],
   "source": [
    "f.close()\n",
    "f.read()\n",
    "Traceback (most recent call last):\n",
    "  File \"<stdin>\", line 1, in <module>\n",
    "ValueError: I/O operation on closed file."
   ]
  },
  {
   "cell_type": "markdown",
   "id": "f4ccdfb3",
   "metadata": {},
   "source": [
    "# 7.2.1. Methods of File Objects\n"
   ]
  },
  {
   "cell_type": "markdown",
   "id": "db781884",
   "metadata": {},
   "source": [
    "В остальных примерах этого раздела предполагается, что файловый объект с именем f уже создан.\n",
    "\n",
    "Чтобы прочитать содержимое файла, вызовите функцию f.read(size), которая считывает некоторое количество данных и возвращает их в виде строки (в текстовом режиме) или байтового объекта (в двоичном режиме). размер - необязательный числовой аргумент. Если значение size не указано или оно отрицательное, все содержимое файла будет считано и возвращено обратно; это ваша проблема, если размер файла в два раза превышает объем памяти вашего компьютера. В противном случае считывается и возвращается не более символов (в текстовом режиме) или байтов (в двоичном режиме). Если достигнут конец файла, функция f.read() вернет пустую строку (\")."
   ]
  },
  {
   "cell_type": "code",
   "execution_count": 1,
   "id": "11df2602",
   "metadata": {},
   "outputs": [
    {
     "ename": "NameError",
     "evalue": "name 'f' is not defined",
     "output_type": "error",
     "traceback": [
      "\u001b[1;31m---------------------------------------------------------------------------\u001b[0m",
      "\u001b[1;31mNameError\u001b[0m                                 Traceback (most recent call last)",
      "Cell \u001b[1;32mIn[1], line 1\u001b[0m\n\u001b[1;32m----> 1\u001b[0m f\u001b[38;5;241m.\u001b[39mread()\n\u001b[0;32m      2\u001b[0m \u001b[38;5;124m'\u001b[39m\u001b[38;5;124mThis is the entire file.\u001b[39m\u001b[38;5;130;01m\\n\u001b[39;00m\u001b[38;5;124m'\u001b[39m\n\u001b[0;32m      3\u001b[0m f\u001b[38;5;241m.\u001b[39mread()\n",
      "\u001b[1;31mNameError\u001b[0m: name 'f' is not defined"
     ]
    }
   ],
   "source": [
    "f.read()\n",
    "'This is the entire file.\\n'\n",
    "f.read()\n",
    "''"
   ]
  },
  {
   "cell_type": "markdown",
   "id": "e122c49b",
   "metadata": {},
   "source": [
    "f.функция readline() считывает одну строку из файла; символ новой строки (\\n) остается в конце строки и опускается только в последней строке файла, если файл не заканчивается новой строкой. Это делает возвращаемое значение однозначным; если функция f.readline() возвращает пустую строку, значит, достигнут конец файла, в то время как пустая строка представлена символом '\\n', строкой, содержащей только одну новую строку."
   ]
  },
  {
   "cell_type": "code",
   "execution_count": 2,
   "id": "af802dee",
   "metadata": {},
   "outputs": [
    {
     "ename": "NameError",
     "evalue": "name 'f' is not defined",
     "output_type": "error",
     "traceback": [
      "\u001b[1;31m---------------------------------------------------------------------------\u001b[0m",
      "\u001b[1;31mNameError\u001b[0m                                 Traceback (most recent call last)",
      "Cell \u001b[1;32mIn[2], line 1\u001b[0m\n\u001b[1;32m----> 1\u001b[0m f\u001b[38;5;241m.\u001b[39mreadline()\n\u001b[0;32m      2\u001b[0m \u001b[38;5;124m'\u001b[39m\u001b[38;5;124mThis is the first line of the file.\u001b[39m\u001b[38;5;130;01m\\n\u001b[39;00m\u001b[38;5;124m'\u001b[39m\n\u001b[0;32m      3\u001b[0m f\u001b[38;5;241m.\u001b[39mreadline()\n",
      "\u001b[1;31mNameError\u001b[0m: name 'f' is not defined"
     ]
    }
   ],
   "source": [
    "f.readline()\n",
    "'This is the first line of the file.\\n'\n",
    "f.readline()\n",
    "'Second line of the file\\n'\n",
    "f.readline()\n",
    "''"
   ]
  },
  {
   "cell_type": "markdown",
   "id": "ed52dbb5",
   "metadata": {},
   "source": [
    "Для чтения строк из файла вы можете выполнить цикл по файловому объекту. Это экономит память, работает быстро и позволяет создавать простой код:"
   ]
  },
  {
   "cell_type": "code",
   "execution_count": 3,
   "id": "1a5147bf",
   "metadata": {},
   "outputs": [
    {
     "ename": "SyntaxError",
     "evalue": "invalid syntax (1965385298.py, line 4)",
     "output_type": "error",
     "traceback": [
      "\u001b[1;36m  Cell \u001b[1;32mIn[3], line 4\u001b[1;36m\u001b[0m\n\u001b[1;33m    This is the first line of the file.\u001b[0m\n\u001b[1;37m                ^\u001b[0m\n\u001b[1;31mSyntaxError\u001b[0m\u001b[1;31m:\u001b[0m invalid syntax\n"
     ]
    }
   ],
   "source": [
    "for line in f:\n",
    "    print(line, end='')\n",
    "\n",
    "This is the first line of the file.\n",
    "Second line of the file"
   ]
  },
  {
   "cell_type": "markdown",
   "id": "cbd4eebb",
   "metadata": {},
   "source": [
    "Если вы хотите прочитать все строки файла в виде списка, вы также можете использовать list(f) или f.readlines().\n",
    "\n",
    "f.write(string) записывает содержимое строки в файл, возвращая количество записанных символов."
   ]
  },
  {
   "cell_type": "code",
   "execution_count": 4,
   "id": "70185308",
   "metadata": {
    "scrolled": true
   },
   "outputs": [
    {
     "ename": "NameError",
     "evalue": "name 'f' is not defined",
     "output_type": "error",
     "traceback": [
      "\u001b[1;31m---------------------------------------------------------------------------\u001b[0m",
      "\u001b[1;31mNameError\u001b[0m                                 Traceback (most recent call last)",
      "Cell \u001b[1;32mIn[4], line 1\u001b[0m\n\u001b[1;32m----> 1\u001b[0m f\u001b[38;5;241m.\u001b[39mwrite(\u001b[38;5;124m'\u001b[39m\u001b[38;5;124mThis is a test\u001b[39m\u001b[38;5;130;01m\\n\u001b[39;00m\u001b[38;5;124m'\u001b[39m)\n\u001b[0;32m      2\u001b[0m \u001b[38;5;241m15\u001b[39m\n",
      "\u001b[1;31mNameError\u001b[0m: name 'f' is not defined"
     ]
    }
   ],
   "source": [
    "f.write('This is a test\\n')\n",
    "15"
   ]
  },
  {
   "cell_type": "markdown",
   "id": "5e81c7ba",
   "metadata": {},
   "source": [
    "Другие типы объектов необходимо преобразовать – либо в строку (в текстовом режиме), либо в байтовый объект (в двоичном режиме) – перед их записью:\n"
   ]
  },
  {
   "cell_type": "code",
   "execution_count": 5,
   "id": "ac2ad212",
   "metadata": {},
   "outputs": [
    {
     "ename": "NameError",
     "evalue": "name 'f' is not defined",
     "output_type": "error",
     "traceback": [
      "\u001b[1;31m---------------------------------------------------------------------------\u001b[0m",
      "\u001b[1;31mNameError\u001b[0m                                 Traceback (most recent call last)",
      "Cell \u001b[1;32mIn[5], line 3\u001b[0m\n\u001b[0;32m      1\u001b[0m value \u001b[38;5;241m=\u001b[39m (\u001b[38;5;124m'\u001b[39m\u001b[38;5;124mthe answer\u001b[39m\u001b[38;5;124m'\u001b[39m, \u001b[38;5;241m42\u001b[39m)\n\u001b[0;32m      2\u001b[0m s \u001b[38;5;241m=\u001b[39m \u001b[38;5;28mstr\u001b[39m(value)  \u001b[38;5;66;03m# convert the tuple to string\u001b[39;00m\n\u001b[1;32m----> 3\u001b[0m f\u001b[38;5;241m.\u001b[39mwrite(s)\n\u001b[0;32m      4\u001b[0m \u001b[38;5;241m18\u001b[39m\n",
      "\u001b[1;31mNameError\u001b[0m: name 'f' is not defined"
     ]
    }
   ],
   "source": [
    "value = ('the answer', 42)\n",
    "s = str(value)  # convert the tuple to string\n",
    "f.write(s)\n",
    "18"
   ]
  },
  {
   "cell_type": "markdown",
   "id": "b3d8f9f6",
   "metadata": {},
   "source": [
    "f.tell() возвращает целое число, указывающее текущее положение файлового объекта в файле, представленное в виде числа байт от начала файла в двоичном режиме и непрозрачного числа в текстовом режиме.\n",
    "\n",
    "Чтобы изменить положение файлового объекта, используйте f.seek(смещение, откуда). Положение вычисляется путем добавления смещения к опорной точке; опорная точка выбирается с помощью аргумента where. Значение where, равное 0, отсчитывается от начала файла, 1 использует текущее положение файла, а 2 использует конец файла в качестве точки отсчета. значение where может быть опущено и по умолчанию равно 0, при этом в качестве точки отсчета используется начало файла."
   ]
  },
  {
   "cell_type": "code",
   "execution_count": 6,
   "id": "21fac69e",
   "metadata": {},
   "outputs": [
    {
     "data": {
      "text/plain": [
       "b'd'"
      ]
     },
     "execution_count": 6,
     "metadata": {},
     "output_type": "execute_result"
    }
   ],
   "source": [
    "f = open('workfile', 'rb+')\n",
    "f.write(b'0123456789abcdef')\n",
    "16\n",
    "f.seek(5)      # Go to the 6th byte in the file\n",
    "5\n",
    "f.read(1)\n",
    "b'5'\n",
    "f.seek(-3, 2)  # Go to the 3rd byte before the end\n",
    "13\n",
    "f.read(1)\n",
    "b'd'"
   ]
  },
  {
   "cell_type": "markdown",
   "id": "a170b2c0",
   "metadata": {},
   "source": [
    "В текстовых файлах (тех, которые открываются без буквы b в строке mode) разрешен поиск только относительно начала файла (исключение составляет поиск в самом конце файла с помощью seek(0, 2)), и единственными допустимыми значениями смещения являются те, которые возвращаются из f.tell(), или ноль. Любое другое значение смещения приводит к неопределенному поведению.\n",
    "\n",
    "Файловые объекты имеют некоторые дополнительные методы, такие как isatty() и truncate(), которые используются реже; обратитесь к библиотечному справочнику для получения полного руководства по файловым объектам."
   ]
  },
  {
   "cell_type": "markdown",
   "id": "a97c138c",
   "metadata": {},
   "source": [
    "# 7.2.2. Saving structured data with json\n"
   ]
  },
  {
   "cell_type": "markdown",
   "id": "99ab8d71",
   "metadata": {},
   "source": [
    "Строки могут быть легко записаны в файл и считаны из него. С числами требуется немного больше усилий, поскольку метод read() возвращает только строки, которые должны быть переданы функции типа int(), которая принимает строку типа '123' и возвращает ее числовое значение 123. Когда вы хотите сохранить более сложные типы данных, такие как вложенные списки и словари, ручной разбор и сериализация усложняются."
   ]
  },
  {
   "cell_type": "markdown",
   "id": "a53508ae",
   "metadata": {},
   "source": [
    "Вместо того чтобы заставлять пользователей постоянно писать и отлаживать код для сохранения сложных типов данных в файлах, Python позволяет использовать популярный формат обмена данными, называемый JSON (JavaScript Object Notation). Стандартный модуль, называемый json, может использовать иерархии данных Python и преобразовывать их в строковые представления; этот процесс называется сериализацией. Восстановление данных из строкового представления называется десериализацией. Между сериализацией и десериализацией строка, представляющая объект, могла быть сохранена в файле или данных или отправлена по сетевому соединению на какой-либо удаленный компьютер."
   ]
  },
  {
   "cell_type": "markdown",
   "id": "d508ec13",
   "metadata": {},
   "source": [
    "Обратите внимание, что формат JSON широко используется современными приложениями для обмена данными. Многие программисты уже знакомы с ним, что делает его хорошим выбором для обеспечения взаимодействия.\n",
    "Если у вас есть объект x, вы можете просмотреть его строковое представление в формате JSON с помощью простой строки кода:"
   ]
  },
  {
   "cell_type": "markdown",
   "id": "e8f7f4e9",
   "metadata": {},
   "source": [
    "import json\n",
    "x = [1, 'simple', 'list']\n",
    "json.dumps(x)\n",
    "'[1, \"simple\", \"list\"]'"
   ]
  },
  {
   "cell_type": "markdown",
   "id": "7c3d6723",
   "metadata": {},
   "source": [
    "\n",
    "Другой вариант функции dumps(), называемый dump(), просто преобразует объект в текстовый файл. Итак, если f - это объект текстового файла, открытый для записи, мы можем сделать это:"
   ]
  },
  {
   "cell_type": "code",
   "execution_count": 7,
   "id": "74b72211",
   "metadata": {},
   "outputs": [
    {
     "ename": "NameError",
     "evalue": "name 'json' is not defined",
     "output_type": "error",
     "traceback": [
      "\u001b[1;31m---------------------------------------------------------------------------\u001b[0m",
      "\u001b[1;31mNameError\u001b[0m                                 Traceback (most recent call last)",
      "Cell \u001b[1;32mIn[7], line 1\u001b[0m\n\u001b[1;32m----> 1\u001b[0m json\u001b[38;5;241m.\u001b[39mdump(x, f)\n",
      "\u001b[1;31mNameError\u001b[0m: name 'json' is not defined"
     ]
    }
   ],
   "source": [
    "json.dump(x, f)"
   ]
  },
  {
   "cell_type": "markdown",
   "id": "6737640c",
   "metadata": {},
   "source": [
    "\n",
    "Чтобы снова расшифровать объект, если f - это двоичный файл или текстовый файловый объект, который был открыт для чтения:"
   ]
  },
  {
   "cell_type": "code",
   "execution_count": 8,
   "id": "241eb5b0",
   "metadata": {},
   "outputs": [
    {
     "ename": "NameError",
     "evalue": "name 'json' is not defined",
     "output_type": "error",
     "traceback": [
      "\u001b[1;31m---------------------------------------------------------------------------\u001b[0m",
      "\u001b[1;31mNameError\u001b[0m                                 Traceback (most recent call last)",
      "Cell \u001b[1;32mIn[8], line 1\u001b[0m\n\u001b[1;32m----> 1\u001b[0m x \u001b[38;5;241m=\u001b[39m json\u001b[38;5;241m.\u001b[39mload(f)\n",
      "\u001b[1;31mNameError\u001b[0m: name 'json' is not defined"
     ]
    }
   ],
   "source": [
    "x = json.load(f)"
   ]
  },
  {
   "cell_type": "markdown",
   "id": "bab0bffb",
   "metadata": {},
   "source": [
    "Обратите внимание, что файлы JSON должны быть закодированы в UTF-8. Используйте encoding=\"utf-8\" при открытии файла JSON как текстового файла как для чтения, так и для записи.\n",
    "Этот простой метод сериализации позволяет обрабатывать списки и словари, но сериализация экземпляров произвольных классов в формате JSON требует дополнительных усилий. Ссылка на модуль json содержит объяснение этого.\n",
    "\n",
    "Смотрите также pickle - модуль pickle\n",
    "В отличие от JSON, pickle - это протокол, который позволяет сериализовать сколь угодно сложные объекты Python. Как таковой, он специфичен для Python и не может использоваться для взаимодействия с приложениями, написанными на других языках. Это также небезопасно по умолчанию: десериализация данных pickle, поступающих из ненадежного источника, может привести к выполнению произвольного кода, если данные были созданы опытным злоумышленником."
   ]
  },
  {
   "cell_type": "code",
   "execution_count": null,
   "id": "e40c6555",
   "metadata": {},
   "outputs": [],
   "source": []
  }
 ],
 "metadata": {
  "kernelspec": {
   "display_name": "Python 3 (ipykernel)",
   "language": "python",
   "name": "python3"
  },
  "language_info": {
   "codemirror_mode": {
    "name": "ipython",
    "version": 3
   },
   "file_extension": ".py",
   "mimetype": "text/x-python",
   "name": "python",
   "nbconvert_exporter": "python",
   "pygments_lexer": "ipython3",
   "version": "3.11.4"
  }
 },
 "nbformat": 4,
 "nbformat_minor": 5
}
