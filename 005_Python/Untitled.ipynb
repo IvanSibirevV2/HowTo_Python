{
 "cells": [
  {
   "cell_type": "markdown",
   "metadata": {},
   "source": [
    "# Python\n",
    "Когда учите новый язык программирования,то скорее всего идете по какому-то заранее заготовленному плану или списку небольших задач. или списку тренировочных задач...<BR/>\n",
    "Что нужно сделать... Написать свой вариант лекции Python? Можно в Jupyter Notebook (anaconda3).<BR/>\n",
    "Что ожидается туда будет входить:\n",
    "- 1) Привет Мир.\n",
    "- 2) Чтение запись консоль.\n",
    "- 3) Создание функций.\n",
    "- 4) Перечисление базовых типов данных. Примеры работы с ними.\n",
    "- 5) Циклы с пред/пост ветвлением, со счетчиком.Ветвления\n",
    "- 6) Строки полный обзор.\n",
    "    - Нахождение длинны строки.\n",
    "    - Посимвольный перебор строки.\n",
    "    - Вырезание символа из строки.\n",
    "    - Глубокая копия строки.\n",
    "    - Нахождение позиции символа.\n",
    "    - Нахождение позиции подстроки.\n",
    "    \n",
    "Начнем..."
   ]
  },
  {
   "cell_type": "markdown",
   "metadata": {},
   "source": [
    "# 1) Привет Мир."
   ]
  },
  {
   "cell_type": "code",
   "execution_count": 5,
   "metadata": {},
   "outputs": [
    {
     "name": "stdout",
     "output_type": "stream",
     "text": [
      "Hello, World!\n",
      "A B C\n",
      "A#B#C\n",
      "i: 0\n",
      "i: 1\n",
      "i: 2\n",
      "123\n",
      "123\n",
      "12123\n",
      "12123\n"
     ]
    }
   ],
   "source": [
    "print(\"Hello, World!\")\n",
    "print(\"A\", \"B\", \"C\")\n",
    "print(\"A\", \"B\", \"C\", sep=\"#\")\n",
    "for i in range(3):\n",
    "    print(\"i: \" + str(i))"
   ]
  },
  {
   "cell_type": "markdown",
   "metadata": {},
   "source": [
    "# 2) Чтение запись консоль."
   ]
  },
  {
   "cell_type": "code",
   "execution_count": 1,
   "metadata": {
    "ExecuteTime": {
     "end_time": "2021-04-27T05:32:50.088881Z",
     "start_time": "2021-04-27T05:32:45.955237Z"
    }
   },
   "outputs": [
    {
     "name": "stdout",
     "output_type": "stream",
     "text": [
      "аывавы\n",
      "аывавы\n",
      "вфывфы\n",
      "вфывфы\n"
     ]
    }
   ],
   "source": [
    "print(input())\n",
    "a = input()\n",
    "print(a)"
   ]
  },
  {
   "cell_type": "code",
   "execution_count": 8,
   "metadata": {},
   "outputs": [
    {
     "name": "stdout",
     "output_type": "stream",
     "text": [
      "input number: 232112\n",
      "232112\n"
     ]
    }
   ],
   "source": [
    "tv = int(input(\"input number: \"))\n",
    "print(tv)"
   ]
  },
  {
   "cell_type": "code",
   "execution_count": 9,
   "metadata": {},
   "outputs": [
    {
     "name": "stdout",
     "output_type": "stream",
     "text": [
      "1 2 3 4 5\n",
      "['1', '2', '3', '4', '5']\n"
     ]
    }
   ],
   "source": [
    "l = input().split()\n",
    "print(l)"
   ]
  },
  {
   "cell_type": "code",
   "execution_count": 10,
   "metadata": {},
   "outputs": [
    {
     "name": "stdout",
     "output_type": "stream",
     "text": [
      "1-2-3-4-5\n",
      "['1', '2', '3', '4', '5']\n"
     ]
    }
   ],
   "source": [
    "l = input().split(\"-\")\n",
    "print(l)"
   ]
  },
  {
   "cell_type": "code",
   "execution_count": 13,
   "metadata": {},
   "outputs": [
    {
     "name": "stdout",
     "output_type": "stream",
     "text": [
      "1 2 3 5 6 7\n",
      "[1, 2, 3, 5, 6, 7]\n"
     ]
    }
   ],
   "source": [
    "#Для считывания списка чисел с одновременным приведением их к типу int можно воспользоваться вот такой конструкцией.\n",
    "nums = map(int, input().split())\n",
    "print(list(nums))"
   ]
  },
  {
   "cell_type": "markdown",
   "metadata": {},
   "source": [
    "# 3) Создание функций.\n",
    "http://pythonicway.com/python-functions"
   ]
  },
  {
   "cell_type": "code",
   "execution_count": 15,
   "metadata": {},
   "outputs": [
    {
     "name": "stdout",
     "output_type": "stream",
     "text": [
      "argument\n"
     ]
    }
   ],
   "source": [
    "def my_function(argument):\n",
    "    print(argument)\n",
    "\n",
    "my_function(\"argument\")"
   ]
  },
  {
   "cell_type": "code",
   "execution_count": 18,
   "metadata": {},
   "outputs": [
    {
     "name": "stdout",
     "output_type": "stream",
     "text": [
      "6\n"
     ]
    },
    {
     "ename": "TypeError",
     "evalue": "bigger() missing 2 required positional arguments: 'a' and 'b'",
     "output_type": "error",
     "traceback": [
      "\u001b[1;31m---------------------------------------------------------------------------\u001b[0m",
      "\u001b[1;31mTypeError\u001b[0m                                 Traceback (most recent call last)",
      "\u001b[1;32m<ipython-input-18-821839af079d>\u001b[0m in \u001b[0;36m<module>\u001b[1;34m\u001b[0m\n\u001b[0;32m      9\u001b[0m \u001b[1;33m\u001b[0m\u001b[0m\n\u001b[0;32m     10\u001b[0m \u001b[1;31m# Некорректное использование функции\u001b[0m\u001b[1;33m\u001b[0m\u001b[1;33m\u001b[0m\u001b[1;33m\u001b[0m\u001b[0m\n\u001b[1;32m---> 11\u001b[1;33m \u001b[0mbigger\u001b[0m\u001b[1;33m(\u001b[0m\u001b[1;33m)\u001b[0m\u001b[1;33m\u001b[0m\u001b[1;33m\u001b[0m\u001b[0m\n\u001b[0m\u001b[0;32m     12\u001b[0m \u001b[0mbigger\u001b[0m\u001b[1;33m(\u001b[0m\u001b[1;36m3\u001b[0m\u001b[1;33m)\u001b[0m\u001b[1;33m\u001b[0m\u001b[1;33m\u001b[0m\u001b[0m\n\u001b[0;32m     13\u001b[0m \u001b[0mbigger\u001b[0m\u001b[1;33m(\u001b[0m\u001b[1;36m12\u001b[0m\u001b[1;33m,\u001b[0m\u001b[1;36m7\u001b[0m\u001b[1;33m,\u001b[0m\u001b[1;36m3\u001b[0m\u001b[1;33m)\u001b[0m\u001b[1;33m\u001b[0m\u001b[1;33m\u001b[0m\u001b[0m\n",
      "\u001b[1;31mTypeError\u001b[0m: bigger() missing 2 required positional arguments: 'a' and 'b'"
     ]
    }
   ],
   "source": [
    "#Обязательные аргументы функции:\n",
    "def bigger(a,b):\n",
    "    if a > b:\n",
    "        print(a)\n",
    "    else:\n",
    "        print(b)\n",
    "# Корректное использование функции\n",
    "bigger(5,6)\n",
    " \n",
    "# Некорректное использование функции\n",
    "bigger()\n",
    "bigger(3)\n",
    "bigger(12,7,3) "
   ]
  },
  {
   "cell_type": "code",
   "execution_count": 19,
   "metadata": {},
   "outputs": [
    {
     "name": "stdout",
     "output_type": "stream",
     "text": [
      "John is 23 years old\n"
     ]
    }
   ],
   "source": [
    "#Аргументы - ключевые слова\n",
    "def person(name, age):\n",
    "    print(name, \"is\", age, \"years old\")\n",
    "# Хотя в описании функции первым аргументом идет имя, мы можем вызвать функцию вот так\n",
    "person(age=23, name=\"John\")"
   ]
  },
  {
   "cell_type": "code",
   "execution_count": 20,
   "metadata": {},
   "outputs": [
    {
     "name": "stdout",
     "output_type": "stream",
     "text": [
      "Mars is orbiting a Star\n",
      "Mars is orbiting a Black Hole\n"
     ]
    }
   ],
   "source": [
    "#Аргументы, заданные по-умолчанию\n",
    "def space(planet_name, center=\"Star\"):\n",
    "    print(planet_name, \"is orbiting a\", center) \n",
    "# Можно вызвать функцию space так:\n",
    "space(\"Mars\")\n",
    "# В результате получим: Mars is orbiting a Star\n",
    "# Можно вызвать функцию space иначе:\n",
    "space(\"Mars\", \"Black Hole\")\n",
    "# В результате получим: Mars is orbiting a Black Hole"
   ]
  },
  {
   "cell_type": "code",
   "execution_count": 21,
   "metadata": {},
   "outputs": [
    {
     "name": "stdout",
     "output_type": "stream",
     "text": [
      "hello\n",
      "world\n",
      "1\n",
      "2\n",
      "3\n",
      "4\n",
      "5\n"
     ]
    }
   ],
   "source": [
    "#Аргументы произвольной длины\n",
    "def unknown(*args):\n",
    "    for argument in args:\n",
    "        print(argument) \n",
    "unknown(\"hello\",\"world\") # напечатает оба слова, каждое с новой строки\n",
    "unknown(1,2,3,4,5) # напечатает все числа, каждое с новой строки\n",
    "unknown() # ничего не выведет"
   ]
  },
  {
   "cell_type": "code",
   "execution_count": 24,
   "metadata": {},
   "outputs": [
    {
     "name": "stdout",
     "output_type": "stream",
     "text": [
      "42\n"
     ]
    }
   ],
   "source": [
    "#Ключевое слово return\n",
    "def bigger(a,b):\n",
    "    if a > b:\n",
    "        return a # Если a больше чем b, то возвращаем a и прекращаем выполнение функции\n",
    "    return b # Незачем использовать else. Если мы дошли до этой строки, то b, точно не меньше чем a\n",
    "# присваиваем результат функции bigger переменной num\n",
    "num = bigger(23,42)\n",
    "print(num)"
   ]
  },
  {
   "cell_type": "code",
   "execution_count": 25,
   "metadata": {},
   "outputs": [
    {
     "name": "stdout",
     "output_type": "stream",
     "text": [
      "44\n",
      "22\n"
     ]
    }
   ],
   "source": [
    "#Область видимости\n",
    "# глобальная переменная age\n",
    "age = 44\n",
    "def info():\n",
    "    print(age)# Печатаем глобальную переменную age\n",
    "def local_info():\n",
    "    age = 22 # создаем локальную переменную age \n",
    "    print(age)\n",
    "info() # напечатает 44\n",
    "local_info() # напечатает 22"
   ]
  },
  {
   "cell_type": "code",
   "execution_count": 28,
   "metadata": {},
   "outputs": [
    {
     "name": "stdout",
     "output_type": "stream",
     "text": [
      "13\n",
      "14\n"
     ]
    }
   ],
   "source": [
    "# глобальная переменная age\n",
    "age = 13\n",
    "# функция изменяющая глобальную переменную\n",
    "def get_older():\n",
    "    global age\n",
    "    age += 1\n",
    "print(age)# напечатает 13\n",
    "get_older() # увеличиваем age на 1\n",
    "print(age)# напечатает 14"
   ]
  },
  {
   "cell_type": "markdown",
   "metadata": {},
   "source": [
    "# 4) Перечисление базовых типов данных. Примеры работы с ними.\n",
    "https://tproger.ru/translations/python-data-types/"
   ]
  },
  {
   "cell_type": "code",
   "execution_count": 2,
   "metadata": {},
   "outputs": [
    {
     "name": "stdout",
     "output_type": "stream",
     "text": [
      "5\n",
      "<class 'int'>\n",
      "<class 'type'>\n",
      "5\n",
      "<class 'int'>\n"
     ]
    }
   ],
   "source": [
    "a=5\n",
    "print(a)\n",
    "print(type(a))\n",
    "print(type(type(a)))\n",
    "a= int(5)\n",
    "print(a)\n",
    "print(type(a))"
   ]
  },
  {
   "cell_type": "code",
   "execution_count": 4,
   "metadata": {},
   "outputs": [
    {
     "name": "stdout",
     "output_type": "stream",
     "text": [
      "5.5\n",
      "<class 'float'>\n",
      "<class 'type'>\n",
      "5.5\n",
      "<class 'float'>\n"
     ]
    }
   ],
   "source": [
    "a=5.5\n",
    "print(a)\n",
    "print(type(a))\n",
    "print(type(type(a)))\n",
    "a= float(5)\n",
    "print(a)\n",
    "print(type(a))"
   ]
  },
  {
   "cell_type": "code",
   "execution_count": 10,
   "metadata": {},
   "outputs": [
    {
     "name": "stdout",
     "output_type": "stream",
     "text": [
      "a\n",
      "<class 'str'>\n",
      "<class 'type'>\n",
      "b\n",
      "<class 'str'>\n"
     ]
    }
   ],
   "source": [
    "a=\"a\"\n",
    "print(a)\n",
    "print(type(a))\n",
    "print(type(type(a)))\n",
    "a= str(\"b\")\n",
    "print(a)\n",
    "print(type(a))"
   ]
  },
  {
   "cell_type": "code",
   "execution_count": 11,
   "metadata": {},
   "outputs": [
    {
     "name": "stdout",
     "output_type": "stream",
     "text": [
      "a\n",
      "<class 'str'>\n",
      "<class 'type'>\n",
      "b\n",
      "<class 'str'>\n"
     ]
    }
   ],
   "source": [
    "a='a'\n",
    "print(a)\n",
    "print(type(a))\n",
    "print(type(type(a)))\n",
    "a= str(\"b\")\n",
    "print(a)\n",
    "print(type(a))"
   ]
  },
  {
   "cell_type": "markdown",
   "metadata": {},
   "source": [
    "# Списки List\n",
    "https://pythonworld.ru/tipy-dannyx-v-python/spiski-list-funkcii-i-metody-spiskov.html"
   ]
  },
  {
   "cell_type": "code",
   "execution_count": 14,
   "metadata": {},
   "outputs": [
    {
     "name": "stdout",
     "output_type": "stream",
     "text": [
      "qwe\n",
      "['qwe']\n",
      "<class 'list'>\n",
      "['с', 'п', 'и', 'с', 'о', 'к']\n",
      "<class 'list'>\n"
     ]
    }
   ],
   "source": [
    "a=input().split()\n",
    "print(a)\n",
    "print(type(a))\n",
    "a= ['с', 'п', 'и', 'с', 'о', 'к']\n",
    "print(a)\n",
    "print(type(a))"
   ]
  },
  {
   "cell_type": "code",
   "execution_count": 15,
   "metadata": {},
   "outputs": [
    {
     "name": "stdout",
     "output_type": "stream",
     "text": [
      "['с', 'п', 'и', 'с', 'о', 'к']\n",
      "<class 'list'>\n"
     ]
    }
   ],
   "source": [
    "a= list(['с', 'п', 'и', 'с', 'о', 'к'])\n",
    "print(a)\n",
    "print(type(a))"
   ]
  },
  {
   "cell_type": "code",
   "execution_count": 3,
   "metadata": {
    "ExecuteTime": {
     "end_time": "2022-03-30T18:31:35.175264Z",
     "start_time": "2022-03-30T18:31:35.168659Z"
    }
   },
   "outputs": [
    {
     "name": "stdout",
     "output_type": "stream",
     "text": [
      "<class 'list'>\n",
      "[1, 2, 3, 'r']\n"
     ]
    }
   ],
   "source": [
    "aqw= [1,2,3,'r']\n",
    "print(type(aqw))\n",
    "print(aqw)"
   ]
  },
  {
   "cell_type": "markdown",
   "metadata": {},
   "source": [
    "# 5) Циклы с пред/пост ветвлением, со счетчиком.Ветвления"
   ]
  },
  {
   "cell_type": "markdown",
   "metadata": {},
   "source": [
    "# 6) Кортежи"
   ]
  },
  {
   "cell_type": "code",
   "execution_count": null,
   "metadata": {},
   "outputs": [],
   "source": []
  }
 ],
 "metadata": {
  "kernelspec": {
   "display_name": "Python 3",
   "language": "python",
   "name": "python3"
  },
  "language_info": {
   "codemirror_mode": {
    "name": "ipython",
    "version": 3
   },
   "file_extension": ".py",
   "mimetype": "text/x-python",
   "name": "python",
   "nbconvert_exporter": "python",
   "pygments_lexer": "ipython3",
   "version": "3.8.5"
  }
 },
 "nbformat": 4,
 "nbformat_minor": 4
}
