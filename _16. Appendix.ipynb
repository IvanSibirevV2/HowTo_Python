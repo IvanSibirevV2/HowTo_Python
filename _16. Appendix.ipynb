{
 "cells": [
  {
   "cell_type": "markdown",
   "id": "25ff24e0",
   "metadata": {},
   "source": [
    "https://docs.python.org/3/tutorial/index.html"
   ]
  },
  {
   "cell_type": "markdown",
   "id": "cf6a3ad5",
   "metadata": {},
   "source": [
    "_16. Appendix"
   ]
  },
  {
   "cell_type": "markdown",
   "id": "78b6761b",
   "metadata": {},
   "source": [
    "# 16. Appendix\n"
   ]
  },
  {
   "cell_type": "markdown",
   "id": "86c0e4d3",
   "metadata": {},
   "source": [
    "# 16.1. Interactive Mode\n"
   ]
  },
  {
   "cell_type": "markdown",
   "id": "4e35d544",
   "metadata": {},
   "source": [
    "# 16.1.1. Error Handling\n"
   ]
  },
  {
   "cell_type": "markdown",
   "id": "448670d4",
   "metadata": {},
   "source": [
    "When an error occurs, the interpreter prints an error message and a stack trace. In interactive mode, it then returns to the primary prompt; when input came from a file, it exits with a nonzero exit status after printing the stack trace. (Exceptions handled by an except clause in a try statement are not errors in this context.) Some errors are unconditionally fatal and cause an exit with a nonzero exit status; this applies to internal inconsistencies and some cases of running out of memory. All error messages are written to the standard error stream; normal output from executed commands is written to standard output."
   ]
  },
  {
   "cell_type": "markdown",
   "id": "2f2bfb39",
   "metadata": {},
   "source": [
    "Typing the interrupt character (usually Control-C or Delete) to the primary or secondary prompt cancels the input and returns to the primary prompt. [1] Typing an interrupt while a command is executing raises the KeyboardInterrupt exception, which may be handled by a try statement.\n",
    "\n"
   ]
  },
  {
   "cell_type": "markdown",
   "id": "ed490252",
   "metadata": {},
   "source": [
    "# 16.1.2. Executable Python Scripts\n"
   ]
  },
  {
   "cell_type": "markdown",
   "id": "961dc6fc",
   "metadata": {},
   "source": [
    "On BSD’ish Unix systems, Python scripts can be made directly executable, like shell scripts, by putting the line\n",
    "\n"
   ]
  },
  {
   "cell_type": "code",
   "execution_count": 1,
   "id": "220ee46f",
   "metadata": {},
   "outputs": [],
   "source": [
    "#!/usr/bin/env python3.5"
   ]
  },
  {
   "cell_type": "markdown",
   "id": "a5eca6da",
   "metadata": {},
   "source": [
    "(assuming that the interpreter is on the user’s PATH) at the beginning of the script and giving the file an executable mode. The #! must be the first two characters of the file. On some platforms, this first line must end with a Unix-style line ending ('\\n'), not a Windows ('\\r\\n') line ending. Note that the hash, or pound, character, '#', is used to start a comment in Python.\n",
    "\n"
   ]
  },
  {
   "cell_type": "markdown",
   "id": "26c30a02",
   "metadata": {},
   "source": [
    "The script can be given an executable mode, or permission, using the chmod command.\n",
    "\n"
   ]
  },
  {
   "cell_type": "code",
   "execution_count": 2,
   "id": "42d3b8d3",
   "metadata": {},
   "outputs": [],
   "source": [
    "# $ chmod +x myscript.py"
   ]
  },
  {
   "cell_type": "markdown",
   "id": "adeab74c",
   "metadata": {},
   "source": [
    "On Windows systems, there is no notion of an “executable mode”. The Python installer automatically associates .py files with python.exe so that a double-click on a Python file will run it as a script. The extension can also be .pyw, in that case, the console window that normally appears is suppressed.\n",
    "\n"
   ]
  },
  {
   "cell_type": "markdown",
   "id": "1dbaf553",
   "metadata": {},
   "source": [
    "# 16.1.3. The Interactive Startup File¶\n"
   ]
  },
  {
   "cell_type": "markdown",
   "id": "e46dfbb7",
   "metadata": {},
   "source": [
    "When you use Python interactively, it is frequently handy to have some standard commands executed every time the interpreter is started. You can do this by setting an environment variable named PYTHONSTARTUP to the name of a file containing your start-up commands. This is similar to the .profile feature of the Unix shells.\n",
    "\n"
   ]
  },
  {
   "cell_type": "markdown",
   "id": "66336ba3",
   "metadata": {},
   "source": [
    "This file is only read in interactive sessions, not when Python reads commands from a script, and not when /dev/tty is given as the explicit source of commands (which otherwise behaves like an interactive session). It is executed in the same namespace where interactive commands are executed, so that objects that it defines or imports can be used without qualification in the interactive session. You can also change the prompts sys.ps1 and sys.ps2 in this file.\n",
    "\n"
   ]
  },
  {
   "cell_type": "markdown",
   "id": "686c479c",
   "metadata": {},
   "source": [
    "If you want to read an additional start-up file from the current directory, you can program this in the global start-up file using code like if os.path.isfile('.pythonrc.py'): exec(open('.pythonrc.py').read()). If you want to use the startup file in a script, you must do this explicitly in the script:\n",
    "\n"
   ]
  },
  {
   "cell_type": "code",
   "execution_count": 1,
   "id": "e6fd1606",
   "metadata": {},
   "outputs": [],
   "source": [
    "import os\n",
    "filename = os.environ.get('PYTHONSTARTUP')\n",
    "if filename and os.path.isfile(filename):\n",
    "    with open(filename) as fobj:\n",
    "        startup_file = fobj.read()\n",
    "    exec(startup_file)"
   ]
  },
  {
   "cell_type": "markdown",
   "id": "48a0a639",
   "metadata": {},
   "source": [
    "# 16.1.4. The Customization Modules\n"
   ]
  },
  {
   "cell_type": "markdown",
   "id": "64358f90",
   "metadata": {},
   "source": [
    "Python provides two hooks to let you customize it: sitecustomize and usercustomize. To see how it works, you need first to find the location of your user site-packages directory. Start Python and run this code:\n",
    "\n"
   ]
  },
  {
   "cell_type": "code",
   "execution_count": 2,
   "id": "625d4b86",
   "metadata": {},
   "outputs": [
    {
     "data": {
      "text/plain": [
       "'/home/user/.local/lib/python3.5/site-packages'"
      ]
     },
     "execution_count": 2,
     "metadata": {},
     "output_type": "execute_result"
    }
   ],
   "source": [
    "import site\n",
    "site.getusersitepackages()\n",
    "'/home/user/.local/lib/python3.5/site-packages'"
   ]
  },
  {
   "cell_type": "markdown",
   "id": "b080cf8f",
   "metadata": {},
   "source": [
    "Now you can create a file named usercustomize.py in that directory and put anything you want in it. It will affect every invocation of Python, unless it is started with the -s option to disable the automatic import.\n",
    "\n",
    "sitecustomize works in the same way, but is typically created by an administrator of the computer in the global site-packages directory, and is imported before usercustomize. See the documentation of the site module for more details.\n",
    "\n",
    "Footnotes\n",
    "\n",
    "[1]\n",
    "A problem with the GNU Readline package may prevent this."
   ]
  },
  {
   "cell_type": "code",
   "execution_count": null,
   "id": "78bfae90",
   "metadata": {},
   "outputs": [],
   "source": []
  }
 ],
 "metadata": {
  "kernelspec": {
   "display_name": "Python 3 (ipykernel)",
   "language": "python",
   "name": "python3"
  },
  "language_info": {
   "codemirror_mode": {
    "name": "ipython",
    "version": 3
   },
   "file_extension": ".py",
   "mimetype": "text/x-python",
   "name": "python",
   "nbconvert_exporter": "python",
   "pygments_lexer": "ipython3",
   "version": "3.11.4"
  }
 },
 "nbformat": 4,
 "nbformat_minor": 5
}
