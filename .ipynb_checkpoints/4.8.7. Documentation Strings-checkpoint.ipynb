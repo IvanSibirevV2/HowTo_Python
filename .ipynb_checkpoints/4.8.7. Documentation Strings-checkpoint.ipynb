{
 "cells": [
  {
   "cell_type": "markdown",
   "id": "2a3a6ae9",
   "metadata": {},
   "source": [
    "https://docs.python.org/3/tutorial/index.html"
   ]
  },
  {
   "cell_type": "markdown",
   "id": "0703cc8b",
   "metadata": {},
   "source": [
    "_4.8.7. Documentation Strings\n"
   ]
  },
  {
   "cell_type": "markdown",
   "id": "e12e11ef",
   "metadata": {},
   "source": [
    "# 4.8.7. Строки документации\n",
    "Вот некоторые соглашения о содержании и форматировании строк документации.\n"
   ]
  },
  {
   "cell_type": "markdown",
   "id": "7f9787fe",
   "metadata": {},
   "source": [
    "Первая строка всегда должна быть кратким изложением назначения объекта. Для краткости в ней не следует явно указывать имя или тип объекта, поскольку они доступны другими способами (за исключением случаев, когда имя является глаголом, описывающим работу функции). Эта строка должна начинаться с заглавной буквы и заканчиваться точкой.\n"
   ]
  },
  {
   "cell_type": "markdown",
   "id": "7295d92f",
   "metadata": {},
   "source": [
    "Если в строке документации больше строк, вторая строка должна быть пустой, визуально отделяя краткое изложение от остальной части описания. Следующие строки должны представлять собой один или несколько абзацев, описывающих соглашения о вызове объекта, его побочные эффекты и т.д.\n"
   ]
  },
  {
   "cell_type": "markdown",
   "id": "b94ac342",
   "metadata": {},
   "source": [
    "Синтаксический анализатор Python не удаляет отступы из многострочных строковых литералов в Python, поэтому инструменты, обрабатывающие документацию, при желании должны удалять отступы. Это делается с использованием следующего соглашения. Первая непустая строка после первой строки строки определяет величину отступа для всей строки документации. (Мы не можем использовать первую строку, поскольку она обычно примыкает к открывающим строку кавычкам, поэтому ее отступ не виден в строковом литерале.) Пробел, “эквивалентный” этому отступу, затем удаляется из начала всех строк строки. Строки с меньшим отступом встречаться не должны, но если они встречаются, то все их начальные пробелы должны быть удалены. Эквивалентность пробелов следует проверять после расширения табуляции (обычно до 8 пробелов).\n",
    "\n"
   ]
  },
  {
   "cell_type": "markdown",
   "id": "e1067c97",
   "metadata": {},
   "source": [
    "Вот пример многострочной строки документации:\n",
    "\n"
   ]
  },
  {
   "cell_type": "code",
   "execution_count": 2,
   "id": "5bc72fef",
   "metadata": {},
   "outputs": [
    {
     "name": "stdout",
     "output_type": "stream",
     "text": [
      "Do nothing, but document it.\n",
      "\n",
      "    No, really, it doesn't do anything.\n",
      "    \n"
     ]
    }
   ],
   "source": [
    "def my_function():\n",
    "    \"\"\"Do nothing, but document it.\n",
    "\n",
    "    No, really, it doesn't do anything.\n",
    "    \"\"\"\n",
    "    pass\n",
    "print(my_function.__doc__)\n"
   ]
  },
  {
   "cell_type": "code",
   "execution_count": null,
   "id": "f70e532b",
   "metadata": {},
   "outputs": [],
   "source": []
  }
 ],
 "metadata": {
  "kernelspec": {
   "display_name": "Python 3 (ipykernel)",
   "language": "python",
   "name": "python3"
  },
  "language_info": {
   "codemirror_mode": {
    "name": "ipython",
    "version": 3
   },
   "file_extension": ".py",
   "mimetype": "text/x-python",
   "name": "python",
   "nbconvert_exporter": "python",
   "pygments_lexer": "ipython3",
   "version": "3.11.4"
  }
 },
 "nbformat": 4,
 "nbformat_minor": 5
}
