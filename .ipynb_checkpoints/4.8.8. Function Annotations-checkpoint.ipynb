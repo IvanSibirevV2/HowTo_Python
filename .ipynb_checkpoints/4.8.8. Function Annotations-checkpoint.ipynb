{
 "cells": [
  {
   "cell_type": "markdown",
   "id": "0cb0db63",
   "metadata": {},
   "source": [
    "https://docs.python.org/3/tutorial/index.html"
   ]
  },
  {
   "cell_type": "markdown",
   "id": "7991d798",
   "metadata": {},
   "source": [
    "_4.8.8. Function Annotations\n"
   ]
  },
  {
   "cell_type": "markdown",
   "id": "27f15377",
   "metadata": {},
   "source": [
    "# 4.8.8. Аннотации функций"
   ]
  },
  {
   "cell_type": "markdown",
   "id": "e94dba46",
   "metadata": {},
   "source": [
    "Аннотации функций - это совершенно необязательная информация метаданных о типах, используемых пользовательскими функциями (дополнительную информацию смотрите в PEP 3107 и PEP 484).\n"
   ]
  },
  {
   "cell_type": "markdown",
   "id": "894454ff",
   "metadata": {},
   "source": [
    "Аннотации хранятся в атрибуте __annotations__ функции в виде словаря и не влияют ни на какую другую часть функции. Аннотации параметров определяются двоеточием после имени параметра, за которым следует выражение, вычисляющее значение аннотации. Аннотации возврата определяются литералом ->, за которым следует выражение, между списком параметров и двоеточием, обозначающим конец инструкции def. В следующем примере есть обязательный аргумент, необязательный аргумент и аннотированное возвращаемое значение:\n",
    "\n"
   ]
  },
  {
   "cell_type": "code",
   "execution_count": 1,
   "id": "a4f07a3d",
   "metadata": {},
   "outputs": [
    {
     "ename": "SyntaxError",
     "evalue": "invalid syntax (397623360.py, line 7)",
     "output_type": "error",
     "traceback": [
      "\u001b[1;36m  Cell \u001b[1;32mIn[1], line 7\u001b[1;36m\u001b[0m\n\u001b[1;33m    Annotations: {'ham': <class 'str'>, 'return': <class 'str'>, 'eggs': <class 'str'>}\u001b[0m\n\u001b[1;37m                         ^\u001b[0m\n\u001b[1;31mSyntaxError\u001b[0m\u001b[1;31m:\u001b[0m invalid syntax\n"
     ]
    }
   ],
   "source": [
    "def f(ham: str, eggs: str = 'eggs') -> str:\n",
    "    print(\"Annotations:\", f.__annotations__)\n",
    "    print(\"Arguments:\", ham, eggs)\n",
    "    return ham + ' and ' + eggs\n",
    "\n",
    "f('spam')\n"
   ]
  },
  {
   "cell_type": "code",
   "execution_count": null,
   "id": "59f04b80",
   "metadata": {},
   "outputs": [],
   "source": []
  }
 ],
 "metadata": {
  "kernelspec": {
   "display_name": "Python 3 (ipykernel)",
   "language": "python",
   "name": "python3"
  },
  "language_info": {
   "codemirror_mode": {
    "name": "ipython",
    "version": 3
   },
   "file_extension": ".py",
   "mimetype": "text/x-python",
   "name": "python",
   "nbconvert_exporter": "python",
   "pygments_lexer": "ipython3",
   "version": "3.11.4"
  }
 },
 "nbformat": 4,
 "nbformat_minor": 5
}
