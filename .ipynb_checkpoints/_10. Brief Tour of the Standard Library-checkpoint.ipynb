{
 "cells": [
  {
   "cell_type": "markdown",
   "id": "5862ae02",
   "metadata": {},
   "source": [
    "https://docs.python.org/3/tutorial/index.html"
   ]
  },
  {
   "cell_type": "markdown",
   "id": "6489c88f",
   "metadata": {},
   "source": [
    "_10. Brief Tour of the Standard Library\n"
   ]
  },
  {
   "cell_type": "markdown",
   "id": "fe15bf9b",
   "metadata": {},
   "source": [
    "# 10. Brief Tour of the Standard Library\n"
   ]
  },
  {
   "cell_type": "markdown",
   "id": "e3acd71e",
   "metadata": {},
   "source": [
    "# 10.1. Operating System Interface\n"
   ]
  },
  {
   "cell_type": "markdown",
   "id": "d79bb6df",
   "metadata": {},
   "source": [
    "The os module provides dozens of functions for interacting with the operating system:\n",
    "\n"
   ]
  },
  {
   "cell_type": "code",
   "execution_count": 1,
   "id": "ac4d480b",
   "metadata": {},
   "outputs": [
    {
     "ename": "FileNotFoundError",
     "evalue": "[WinError 3] Системе не удается найти указанный путь: '/server/accesslogs'",
     "output_type": "error",
     "traceback": [
      "\u001b[1;31m---------------------------------------------------------------------------\u001b[0m",
      "\u001b[1;31mFileNotFoundError\u001b[0m                         Traceback (most recent call last)",
      "Cell \u001b[1;32mIn[1], line 4\u001b[0m\n\u001b[0;32m      2\u001b[0m os\u001b[38;5;241m.\u001b[39mgetcwd()      \u001b[38;5;66;03m# Return the current working directory\u001b[39;00m\n\u001b[0;32m      3\u001b[0m \u001b[38;5;124m'\u001b[39m\u001b[38;5;124mC:\u001b[39m\u001b[38;5;130;01m\\\\\u001b[39;00m\u001b[38;5;124mPython312\u001b[39m\u001b[38;5;124m'\u001b[39m\n\u001b[1;32m----> 4\u001b[0m os\u001b[38;5;241m.\u001b[39mchdir(\u001b[38;5;124m'\u001b[39m\u001b[38;5;124m/server/accesslogs\u001b[39m\u001b[38;5;124m'\u001b[39m)   \u001b[38;5;66;03m# Change current working directory\u001b[39;00m\n\u001b[0;32m      5\u001b[0m os\u001b[38;5;241m.\u001b[39msystem(\u001b[38;5;124m'\u001b[39m\u001b[38;5;124mmkdir today\u001b[39m\u001b[38;5;124m'\u001b[39m)   \u001b[38;5;66;03m# Run the command mkdir in the system shell\u001b[39;00m\n\u001b[0;32m      6\u001b[0m \u001b[38;5;241m0\u001b[39m\n",
      "\u001b[1;31mFileNotFoundError\u001b[0m: [WinError 3] Системе не удается найти указанный путь: '/server/accesslogs'"
     ]
    }
   ],
   "source": [
    "import os\n",
    "os.getcwd()      # Return the current working directory\n",
    "'C:\\\\Python312'\n",
    "os.chdir('/server/accesslogs')   # Change current working directory\n",
    "os.system('mkdir today')   # Run the command mkdir in the system shell\n",
    "0"
   ]
  },
  {
   "cell_type": "markdown",
   "id": "2f9ee0ea",
   "metadata": {},
   "source": [
    "Be sure to use the import os style instead of from os import *. This will keep os.open() from shadowing the built-in open() function which operates much differently.\n",
    "\n"
   ]
  },
  {
   "cell_type": "markdown",
   "id": "428aa0f5",
   "metadata": {},
   "source": [
    "The built-in dir() and help() functions are useful as interactive aids for working with large modules like os:\n",
    "\n"
   ]
  },
  {
   "cell_type": "code",
   "execution_count": 2,
   "id": "2512d47f",
   "metadata": {},
   "outputs": [
    {
     "ename": "SyntaxError",
     "evalue": "unterminated string literal (detected at line 5) (557623890.py, line 5)",
     "output_type": "error",
     "traceback": [
      "\u001b[1;36m  Cell \u001b[1;32mIn[2], line 5\u001b[1;36m\u001b[0m\n\u001b[1;33m    <returns an extensive manual page created from the module's docstrings>\u001b[0m\n\u001b[1;37m                                                             ^\u001b[0m\n\u001b[1;31mSyntaxError\u001b[0m\u001b[1;31m:\u001b[0m unterminated string literal (detected at line 5)\n"
     ]
    }
   ],
   "source": [
    "import os\n",
    "dir(os)\n",
    "<returns a list of all module functions>\n",
    "help(os)\n",
    "<returns an extensive manual page created from the module's docstrings>"
   ]
  },
  {
   "cell_type": "markdown",
   "id": "47e69f9b",
   "metadata": {},
   "source": [
    "For daily file and directory management tasks, the shutil module provides a higher level interface that is easier to use:\n",
    "\n"
   ]
  },
  {
   "cell_type": "code",
   "execution_count": 3,
   "id": "15da97bb",
   "metadata": {},
   "outputs": [
    {
     "ename": "FileNotFoundError",
     "evalue": "[Errno 2] No such file or directory: 'data.db'",
     "output_type": "error",
     "traceback": [
      "\u001b[1;31m---------------------------------------------------------------------------\u001b[0m",
      "\u001b[1;31mFileNotFoundError\u001b[0m                         Traceback (most recent call last)",
      "Cell \u001b[1;32mIn[3], line 2\u001b[0m\n\u001b[0;32m      1\u001b[0m \u001b[38;5;28;01mimport\u001b[39;00m \u001b[38;5;21;01mshutil\u001b[39;00m\n\u001b[1;32m----> 2\u001b[0m shutil\u001b[38;5;241m.\u001b[39mcopyfile(\u001b[38;5;124m'\u001b[39m\u001b[38;5;124mdata.db\u001b[39m\u001b[38;5;124m'\u001b[39m, \u001b[38;5;124m'\u001b[39m\u001b[38;5;124marchive.db\u001b[39m\u001b[38;5;124m'\u001b[39m)\n\u001b[0;32m      3\u001b[0m \u001b[38;5;124m'\u001b[39m\u001b[38;5;124marchive.db\u001b[39m\u001b[38;5;124m'\u001b[39m\n\u001b[0;32m      4\u001b[0m shutil\u001b[38;5;241m.\u001b[39mmove(\u001b[38;5;124m'\u001b[39m\u001b[38;5;124m/build/executables\u001b[39m\u001b[38;5;124m'\u001b[39m, \u001b[38;5;124m'\u001b[39m\u001b[38;5;124minstalldir\u001b[39m\u001b[38;5;124m'\u001b[39m)\n",
      "File \u001b[1;32m~\\anaconda3\\Lib\\shutil.py:256\u001b[0m, in \u001b[0;36mcopyfile\u001b[1;34m(src, dst, follow_symlinks)\u001b[0m\n\u001b[0;32m    254\u001b[0m     os\u001b[38;5;241m.\u001b[39msymlink(os\u001b[38;5;241m.\u001b[39mreadlink(src), dst)\n\u001b[0;32m    255\u001b[0m \u001b[38;5;28;01melse\u001b[39;00m:\n\u001b[1;32m--> 256\u001b[0m     \u001b[38;5;28;01mwith\u001b[39;00m \u001b[38;5;28mopen\u001b[39m(src, \u001b[38;5;124m'\u001b[39m\u001b[38;5;124mrb\u001b[39m\u001b[38;5;124m'\u001b[39m) \u001b[38;5;28;01mas\u001b[39;00m fsrc:\n\u001b[0;32m    257\u001b[0m         \u001b[38;5;28;01mtry\u001b[39;00m:\n\u001b[0;32m    258\u001b[0m             \u001b[38;5;28;01mwith\u001b[39;00m \u001b[38;5;28mopen\u001b[39m(dst, \u001b[38;5;124m'\u001b[39m\u001b[38;5;124mwb\u001b[39m\u001b[38;5;124m'\u001b[39m) \u001b[38;5;28;01mas\u001b[39;00m fdst:\n\u001b[0;32m    259\u001b[0m                 \u001b[38;5;66;03m# macOS\u001b[39;00m\n",
      "\u001b[1;31mFileNotFoundError\u001b[0m: [Errno 2] No such file or directory: 'data.db'"
     ]
    }
   ],
   "source": [
    "import shutil\n",
    "shutil.copyfile('data.db', 'archive.db')\n",
    "'archive.db'\n",
    "shutil.move('/build/executables', 'installdir')\n",
    "'installdir'"
   ]
  },
  {
   "cell_type": "markdown",
   "id": "ef9c0d68",
   "metadata": {},
   "source": [
    "# 10.2. File Wildcards\n"
   ]
  },
  {
   "cell_type": "markdown",
   "id": "d0c12a1b",
   "metadata": {},
   "source": [
    "The glob module provides a function for making file lists from directory wildcard searches:\n",
    "\n"
   ]
  },
  {
   "cell_type": "code",
   "execution_count": 4,
   "id": "cd8cf5b9",
   "metadata": {},
   "outputs": [
    {
     "data": {
      "text/plain": [
       "['primes.py', 'random.py', 'quote.py']"
      ]
     },
     "execution_count": 4,
     "metadata": {},
     "output_type": "execute_result"
    }
   ],
   "source": [
    "import glob\n",
    "glob.glob('*.py')\n",
    "['primes.py', 'random.py', 'quote.py']"
   ]
  },
  {
   "cell_type": "markdown",
   "id": "e60ecd1e",
   "metadata": {},
   "source": [
    "# 10.3. Command Line Arguments\n"
   ]
  },
  {
   "cell_type": "markdown",
   "id": "6857c380",
   "metadata": {},
   "source": [
    "Common utility scripts often need to process command line arguments. These arguments are stored in the sys module’s argv attribute as a list. For instance, let’s take the following demo.py file:\n",
    "\n"
   ]
  },
  {
   "cell_type": "code",
   "execution_count": 6,
   "id": "5df382af",
   "metadata": {},
   "outputs": [
    {
     "name": "stdout",
     "output_type": "stream",
     "text": [
      "['C:\\\\Users\\\\SibNout2023\\\\anaconda3\\\\Lib\\\\site-packages\\\\ipykernel_launcher.py', '-f', 'C:\\\\Users\\\\SibNout2023\\\\AppData\\\\Roaming\\\\jupyter\\\\runtime\\\\kernel-5b5d77c8-f1fd-4f2a-8621-3a174bce59f1.json']\n"
     ]
    }
   ],
   "source": [
    "# File demo.py\n",
    "import sys\n",
    "print(sys.argv)\n"
   ]
  },
  {
   "cell_type": "markdown",
   "id": "977d25ee",
   "metadata": {},
   "source": [
    "Here is the output from running python demo.py one two three at the command line:\n",
    "\n"
   ]
  },
  {
   "cell_type": "code",
   "execution_count": 7,
   "id": "899aaf2e",
   "metadata": {},
   "outputs": [
    {
     "data": {
      "text/plain": [
       "['demo.py', 'one', 'two', 'three']"
      ]
     },
     "execution_count": 7,
     "metadata": {},
     "output_type": "execute_result"
    }
   ],
   "source": [
    "['demo.py', 'one', 'two', 'three']"
   ]
  },
  {
   "cell_type": "markdown",
   "id": "52826e95",
   "metadata": {},
   "source": [
    "The argparse module provides a more sophisticated mechanism to process command line arguments. The following script extracts one or more filenames and an optional number of lines to be displayed:\n",
    "\n"
   ]
  },
  {
   "cell_type": "code",
   "execution_count": 8,
   "id": "b1994c43",
   "metadata": {},
   "outputs": [
    {
     "name": "stderr",
     "output_type": "stream",
     "text": [
      "usage: top [-h] [-l LINES] filenames [filenames ...]\n",
      "top: error: unrecognized arguments: -f\n"
     ]
    },
    {
     "ename": "SystemExit",
     "evalue": "2",
     "output_type": "error",
     "traceback": [
      "An exception has occurred, use %tb to see the full traceback.\n",
      "\u001b[1;31mSystemExit\u001b[0m\u001b[1;31m:\u001b[0m 2\n"
     ]
    },
    {
     "name": "stderr",
     "output_type": "stream",
     "text": [
      "C:\\Users\\SibNout2023\\anaconda3\\Lib\\site-packages\\IPython\\core\\interactiveshell.py:3534: UserWarning: To exit: use 'exit', 'quit', or Ctrl-D.\n",
      "  warn(\"To exit: use 'exit', 'quit', or Ctrl-D.\", stacklevel=1)\n"
     ]
    }
   ],
   "source": [
    "import argparse\n",
    "\n",
    "parser = argparse.ArgumentParser(\n",
    "    prog='top',\n",
    "    description='Show top lines from each file')\n",
    "parser.add_argument('filenames', nargs='+')\n",
    "parser.add_argument('-l', '--lines', type=int, default=10)\n",
    "args = parser.parse_args()\n",
    "print(args)"
   ]
  },
  {
   "cell_type": "markdown",
   "id": "80cb0178",
   "metadata": {},
   "source": [
    "When run at the command line with python top.py --lines=5 alpha.txt beta.txt, the script sets args.lines to 5 and args.filenames to ['alpha.txt', 'beta.txt'].\n",
    "\n"
   ]
  },
  {
   "cell_type": "markdown",
   "id": "10c0419a",
   "metadata": {},
   "source": [
    "# 10.4. Error Output Redirection and Program Termination\n"
   ]
  },
  {
   "cell_type": "markdown",
   "id": "fae1a6c7",
   "metadata": {},
   "source": [
    "The sys module also has attributes for stdin, stdout, and stderr. The latter is useful for emitting warnings and error messages to make them visible even when stdout has been redirected:\n",
    "\n"
   ]
  },
  {
   "cell_type": "code",
   "execution_count": 10,
   "id": "71f63718",
   "metadata": {},
   "outputs": [
    {
     "ename": "SyntaxError",
     "evalue": "invalid syntax (467585141.py, line 2)",
     "output_type": "error",
     "traceback": [
      "\u001b[1;36m  Cell \u001b[1;32mIn[10], line 2\u001b[1;36m\u001b[0m\n\u001b[1;33m    Warning, log file not found starting a new one\u001b[0m\n\u001b[1;37m                 ^\u001b[0m\n\u001b[1;31mSyntaxError\u001b[0m\u001b[1;31m:\u001b[0m invalid syntax\n"
     ]
    }
   ],
   "source": [
    "sys.stderr.write('Warning, log file not found starting a new one\\n')\n",
    "Warning, log file not found starting a new one"
   ]
  },
  {
   "cell_type": "markdown",
   "id": "f78319b8",
   "metadata": {},
   "source": [
    "The most direct way to terminate a script is to use sys.exit().\n",
    "\n"
   ]
  },
  {
   "cell_type": "markdown",
   "id": "f8d5b04b",
   "metadata": {},
   "source": [
    "# 10.5. String Pattern Matching\n"
   ]
  },
  {
   "cell_type": "markdown",
   "id": "d67ca59c",
   "metadata": {},
   "source": [
    "The re module provides regular expression tools for advanced string processing. For complex matching and manipulation, regular expressions offer succinct, optimized solutions:\n",
    "\n"
   ]
  },
  {
   "cell_type": "code",
   "execution_count": 13,
   "id": "89600829",
   "metadata": {},
   "outputs": [
    {
     "data": {
      "text/plain": [
       "'cat in the hat'"
      ]
     },
     "execution_count": 13,
     "metadata": {},
     "output_type": "execute_result"
    }
   ],
   "source": [
    "import re\n",
    "re.findall(r'\\bf[a-z]*', 'which foot or hand fell fastest')\n",
    "['foot', 'fell', 'fastest']\n",
    "re.sub(r'(\\b[a-z]+) \\1', r'\\1', 'cat in the the hat')\n",
    "'cat in the hat'"
   ]
  },
  {
   "cell_type": "markdown",
   "id": "e6767135",
   "metadata": {},
   "source": [
    "When only simple capabilities are needed, string methods are preferred because they are easier to read and debug:\n",
    "\n"
   ]
  },
  {
   "cell_type": "code",
   "execution_count": 14,
   "id": "c418b250",
   "metadata": {},
   "outputs": [
    {
     "data": {
      "text/plain": [
       "'tea for two'"
      ]
     },
     "execution_count": 14,
     "metadata": {},
     "output_type": "execute_result"
    }
   ],
   "source": [
    "'tea for too'.replace('too', 'two')\n",
    "'tea for two'"
   ]
  },
  {
   "cell_type": "markdown",
   "id": "02bfdf1d",
   "metadata": {},
   "source": [
    "# 10.6. Mathematics¶\n"
   ]
  },
  {
   "cell_type": "markdown",
   "id": "de11b2af",
   "metadata": {},
   "source": [
    "The math module gives access to the underlying C library functions for floating point math:\n",
    "\n"
   ]
  },
  {
   "cell_type": "code",
   "execution_count": 15,
   "id": "6c3ea73e",
   "metadata": {},
   "outputs": [
    {
     "data": {
      "text/plain": [
       "10.0"
      ]
     },
     "execution_count": 15,
     "metadata": {},
     "output_type": "execute_result"
    }
   ],
   "source": [
    "import math\n",
    "math.cos(math.pi / 4)\n",
    "0.70710678118654757\n",
    "math.log(1024, 2)\n",
    "10.0"
   ]
  },
  {
   "cell_type": "markdown",
   "id": "c36bc404",
   "metadata": {},
   "source": [
    "The random module provides tools for making random selections:\n",
    "\n"
   ]
  },
  {
   "cell_type": "code",
   "execution_count": 16,
   "id": "e42df2bf",
   "metadata": {},
   "outputs": [
    {
     "data": {
      "text/plain": [
       "4"
      ]
     },
     "execution_count": 16,
     "metadata": {},
     "output_type": "execute_result"
    }
   ],
   "source": [
    "import random\n",
    "random.choice(['apple', 'pear', 'banana'])\n",
    "'apple'\n",
    "random.sample(range(100), 10)   # sampling without replacement\n",
    "[30, 83, 16, 4, 8, 81, 41, 50, 18, 33]\n",
    "random.random()    # random float\n",
    "0.17970987693706186\n",
    "random.randrange(6)    # random integer chosen from range(6)\n",
    "4"
   ]
  },
  {
   "cell_type": "markdown",
   "id": "ccdf8488",
   "metadata": {},
   "source": [
    "The statistics module calculates basic statistical properties (the mean, median, variance, etc.) of numeric data:\n",
    "\n"
   ]
  },
  {
   "cell_type": "code",
   "execution_count": 17,
   "id": "1f1f516a",
   "metadata": {},
   "outputs": [
    {
     "data": {
      "text/plain": [
       "1.3720238095238095"
      ]
     },
     "execution_count": 17,
     "metadata": {},
     "output_type": "execute_result"
    }
   ],
   "source": [
    "import statistics\n",
    "data = [2.75, 1.75, 1.25, 0.25, 0.5, 1.25, 3.5]\n",
    "statistics.mean(data)\n",
    "1.6071428571428572\n",
    "statistics.median(data)\n",
    "1.25\n",
    "statistics.variance(data)\n",
    "1.3720238095238095"
   ]
  },
  {
   "cell_type": "markdown",
   "id": "0e4dbba2",
   "metadata": {},
   "source": [
    "The SciPy project <https://scipy.org> has many other modules for numerical computations.\n",
    "\n"
   ]
  },
  {
   "cell_type": "markdown",
   "id": "452a7687",
   "metadata": {},
   "source": [
    "# 10.7. Internet Access¶\n"
   ]
  },
  {
   "cell_type": "markdown",
   "id": "d3d56320",
   "metadata": {},
   "source": [
    "There are a number of modules for accessing the internet and processing internet protocols. Two of the simplest are urllib.request for retrieving data from URLs and smtplib for sending mail:\n",
    "\n"
   ]
  },
  {
   "cell_type": "code",
   "execution_count": 18,
   "id": "9a5701a0",
   "metadata": {},
   "outputs": [
    {
     "ename": "SyntaxError",
     "evalue": "leading zeros in decimal integer literals are not permitted; use an 0o prefix for octal integers (3333041502.py, line 8)",
     "output_type": "error",
     "traceback": [
      "\u001b[1;36m  Cell \u001b[1;32mIn[18], line 8\u001b[1;36m\u001b[0m\n\u001b[1;33m    datetime: 2022-01-01T01:36:47.689215+00:00\u001b[0m\n\u001b[1;37m                   ^\u001b[0m\n\u001b[1;31mSyntaxError\u001b[0m\u001b[1;31m:\u001b[0m leading zeros in decimal integer literals are not permitted; use an 0o prefix for octal integers\n"
     ]
    }
   ],
   "source": [
    "from urllib.request import urlopen\n",
    "with urlopen('http://worldtimeapi.org/api/timezone/etc/UTC.txt') as response:\n",
    "    for line in response:\n",
    "        line = line.decode()             # Convert bytes to a str\n",
    "        if line.startswith('datetime'):\n",
    "            print(line.rstrip())         # Remove trailing newline\n",
    "\n",
    "datetime: 2022-01-01T01:36:47.689215+00:00\n",
    "\n",
    "import smtplib\n",
    "server = smtplib.SMTP('localhost')\n",
    "server.sendmail('soothsayer@example.org', 'jcaesar@example.org',\n",
    "\"\"\"To: jcaesar@example.org\n",
    "From: soothsayer@example.org\n",
    "\n",
    "Beware the Ides of March.\n",
    "\"\"\")\n",
    "server.quit()"
   ]
  },
  {
   "cell_type": "markdown",
   "id": "c1c8b2ff",
   "metadata": {},
   "source": [
    "(Note that the second example needs a mailserver running on localhost.)"
   ]
  },
  {
   "cell_type": "markdown",
   "id": "d75e4aad",
   "metadata": {},
   "source": [
    "# 10.8. Dates and Times¶\n"
   ]
  },
  {
   "cell_type": "markdown",
   "id": "ebfc0306",
   "metadata": {},
   "source": [
    "The datetime module supplies classes for manipulating dates and times in both simple and complex ways. While date and time arithmetic is supported, the focus of the implementation is on efficient member extraction for output formatting and manipulation. The module also supports objects that are timezone aware.\n",
    "\n"
   ]
  },
  {
   "cell_type": "code",
   "execution_count": 19,
   "id": "ed013fa9",
   "metadata": {},
   "outputs": [
    {
     "ename": "NameError",
     "evalue": "name 'datetime' is not defined",
     "output_type": "error",
     "traceback": [
      "\u001b[1;31m---------------------------------------------------------------------------\u001b[0m",
      "\u001b[1;31mNameError\u001b[0m                                 Traceback (most recent call last)",
      "Cell \u001b[1;32mIn[19], line 5\u001b[0m\n\u001b[0;32m      3\u001b[0m now \u001b[38;5;241m=\u001b[39m date\u001b[38;5;241m.\u001b[39mtoday()\n\u001b[0;32m      4\u001b[0m now\n\u001b[1;32m----> 5\u001b[0m datetime\u001b[38;5;241m.\u001b[39mdate(\u001b[38;5;241m2003\u001b[39m, \u001b[38;5;241m12\u001b[39m, \u001b[38;5;241m2\u001b[39m)\n\u001b[0;32m      6\u001b[0m now\u001b[38;5;241m.\u001b[39mstrftime(\u001b[38;5;124m\"\u001b[39m\u001b[38;5;124m%\u001b[39m\u001b[38;5;124mm-\u001b[39m\u001b[38;5;132;01m%d\u001b[39;00m\u001b[38;5;124m-\u001b[39m\u001b[38;5;124m%\u001b[39m\u001b[38;5;124my. \u001b[39m\u001b[38;5;132;01m%d\u001b[39;00m\u001b[38;5;124m \u001b[39m\u001b[38;5;124m%\u001b[39m\u001b[38;5;124mb \u001b[39m\u001b[38;5;124m%\u001b[39m\u001b[38;5;124mY is a \u001b[39m\u001b[38;5;124m%\u001b[39m\u001b[38;5;124mA on the \u001b[39m\u001b[38;5;132;01m%d\u001b[39;00m\u001b[38;5;124m day of \u001b[39m\u001b[38;5;124m%\u001b[39m\u001b[38;5;124mB.\u001b[39m\u001b[38;5;124m\"\u001b[39m)\n\u001b[0;32m      7\u001b[0m \u001b[38;5;124m'\u001b[39m\u001b[38;5;124m12-02-03. 02 Dec 2003 is a Tuesday on the 02 day of December.\u001b[39m\u001b[38;5;124m'\u001b[39m\n",
      "\u001b[1;31mNameError\u001b[0m: name 'datetime' is not defined"
     ]
    }
   ],
   "source": [
    "# dates are easily constructed and formatted\n",
    "from datetime import date\n",
    "now = date.today()\n",
    "now\n",
    "datetime.date(2003, 12, 2)\n",
    "now.strftime(\"%m-%d-%y. %d %b %Y is a %A on the %d day of %B.\")\n",
    "'12-02-03. 02 Dec 2003 is a Tuesday on the 02 day of December.'\n",
    "\n",
    "# dates support calendar arithmetic\n",
    "birthday = date(1964, 7, 31)\n",
    "age = now - birthday\n",
    "age.days\n",
    "14368"
   ]
  },
  {
   "cell_type": "markdown",
   "id": "7bb900a4",
   "metadata": {},
   "source": [
    "# 10.9. Data Compression\n"
   ]
  },
  {
   "cell_type": "markdown",
   "id": "0543d734",
   "metadata": {},
   "source": [
    "Common data archiving and compression formats are directly supported by modules including: zlib, gzip, bz2, lzma, zipfile and tarfile.\n",
    "\n"
   ]
  },
  {
   "cell_type": "code",
   "execution_count": 21,
   "id": "bf1903f5",
   "metadata": {},
   "outputs": [
    {
     "data": {
      "text/plain": [
       "226805979"
      ]
     },
     "execution_count": 21,
     "metadata": {},
     "output_type": "execute_result"
    }
   ],
   "source": [
    "import zlib\n",
    "s = b'witch which has which witches wrist watch'\n",
    "len(s)\n",
    "41\n",
    "t = zlib.compress(s)\n",
    "len(t)\n",
    "37\n",
    "zlib.decompress(t)\n",
    "b'witch which has which witches wrist watch'\n",
    "zlib.crc32(s)\n",
    "226805979"
   ]
  },
  {
   "cell_type": "markdown",
   "id": "0ee4e1a3",
   "metadata": {},
   "source": [
    "# 10.10. Performance Measurement\n"
   ]
  },
  {
   "cell_type": "markdown",
   "id": "046ae781",
   "metadata": {},
   "source": [
    "Some Python users develop a deep interest in knowing the relative performance of different approaches to the same problem. Python provides a measurement tool that answers those questions immediately.\n",
    "\n"
   ]
  },
  {
   "cell_type": "markdown",
   "id": "608ba968",
   "metadata": {},
   "source": [
    "For example, it may be tempting to use the tuple packing and unpacking feature instead of the traditional approach to swapping arguments. The timeit module quickly demonstrates a modest performance advantage:\n",
    "\n"
   ]
  },
  {
   "cell_type": "code",
   "execution_count": 22,
   "id": "7c1e19ba",
   "metadata": {},
   "outputs": [
    {
     "data": {
      "text/plain": [
       "0.5496253708577079"
      ]
     },
     "execution_count": 22,
     "metadata": {},
     "output_type": "execute_result"
    }
   ],
   "source": [
    "from timeit import Timer\n",
    "Timer('t=a; a=b; b=t', 'a=1; b=2').timeit()\n",
    "0.57535828626024577\n",
    "Timer('a,b = b,a', 'a=1; b=2').timeit()\n",
    "0.54962537085770791"
   ]
  },
  {
   "cell_type": "markdown",
   "id": "abed2387",
   "metadata": {},
   "source": [
    "In contrast to timeit’s fine level of granularity, the profile and pstats modules provide tools for identifying time critical sections in larger blocks of code.\n",
    "\n"
   ]
  },
  {
   "cell_type": "markdown",
   "id": "ce977e08",
   "metadata": {},
   "source": [
    "# 10.11. Quality Control\n"
   ]
  },
  {
   "cell_type": "markdown",
   "id": "a1fb4f4f",
   "metadata": {},
   "source": [
    "One approach for developing high quality software is to write tests for each function as it is developed and to run those tests frequently during the development process.\n",
    "\n"
   ]
  },
  {
   "cell_type": "markdown",
   "id": "98cb2e0f",
   "metadata": {},
   "source": [
    "The doctest module provides a tool for scanning a module and validating tests embedded in a program’s docstrings. Test construction is as simple as cutting-and-pasting a typical call along with its results into the docstring. This improves the documentation by providing the user with an example and it allows the doctest module to make sure the code remains true to the documentation:\n",
    "\n"
   ]
  },
  {
   "cell_type": "code",
   "execution_count": 23,
   "id": "8a48eee5",
   "metadata": {},
   "outputs": [
    {
     "data": {
      "text/plain": [
       "TestResults(failed=0, attempted=1)"
      ]
     },
     "execution_count": 23,
     "metadata": {},
     "output_type": "execute_result"
    }
   ],
   "source": [
    "def average(values):\n",
    "    \"\"\"Computes the arithmetic mean of a list of numbers.\n",
    "\n",
    "    >>> print(average([20, 30, 70]))\n",
    "    40.0\n",
    "    \"\"\"\n",
    "    return sum(values) / len(values)\n",
    "\n",
    "import doctest\n",
    "doctest.testmod()   # automatically validate the embedded tests"
   ]
  },
  {
   "cell_type": "markdown",
   "id": "2f9a13ee",
   "metadata": {},
   "source": [
    "The unittest module is not as effortless as the doctest module, but it allows a more comprehensive set of tests to be maintained in a separate file:\n",
    "\n"
   ]
  },
  {
   "cell_type": "code",
   "execution_count": 24,
   "id": "a98c4c30",
   "metadata": {},
   "outputs": [
    {
     "name": "stderr",
     "output_type": "stream",
     "text": [
      "E\n",
      "======================================================================\n",
      "ERROR: C:\\Users\\SibNout2023\\AppData\\Roaming\\jupyter\\runtime\\kernel-5b5d77c8-f1fd-4f2a-8621-3a174bce59f1 (unittest.loader._FailedTest.C:\\Users\\SibNout2023\\AppData\\Roaming\\jupyter\\runtime\\kernel-5b5d77c8-f1fd-4f2a-8621-3a174bce59f1)\n",
      "----------------------------------------------------------------------\n",
      "AttributeError: module '__main__' has no attribute 'C:\\Users\\SibNout2023\\AppData\\Roaming\\jupyter\\runtime\\kernel-5b5d77c8-f1fd-4f2a-8621-3a174bce59f1'\n",
      "\n",
      "----------------------------------------------------------------------\n",
      "Ran 1 test in 0.001s\n",
      "\n",
      "FAILED (errors=1)\n"
     ]
    },
    {
     "ename": "SystemExit",
     "evalue": "True",
     "output_type": "error",
     "traceback": [
      "An exception has occurred, use %tb to see the full traceback.\n",
      "\u001b[1;31mSystemExit\u001b[0m\u001b[1;31m:\u001b[0m True\n"
     ]
    },
    {
     "name": "stderr",
     "output_type": "stream",
     "text": [
      "C:\\Users\\SibNout2023\\anaconda3\\Lib\\site-packages\\IPython\\core\\interactiveshell.py:3534: UserWarning: To exit: use 'exit', 'quit', or Ctrl-D.\n",
      "  warn(\"To exit: use 'exit', 'quit', or Ctrl-D.\", stacklevel=1)\n"
     ]
    }
   ],
   "source": [
    "import unittest\n",
    "\n",
    "class TestStatisticalFunctions(unittest.TestCase):\n",
    "\n",
    "    def test_average(self):\n",
    "        self.assertEqual(average([20, 30, 70]), 40.0)\n",
    "        self.assertEqual(round(average([1, 5, 7]), 1), 4.3)\n",
    "        with self.assertRaises(ZeroDivisionError):\n",
    "            average([])\n",
    "        with self.assertRaises(TypeError):\n",
    "            average(20, 30, 70)\n",
    "\n",
    "unittest.main()  # Calling from the command line invokes all tests"
   ]
  },
  {
   "cell_type": "markdown",
   "id": "a1a790a2",
   "metadata": {},
   "source": [
    "# 10.12. Batteries Included\n"
   ]
  },
  {
   "cell_type": "markdown",
   "id": "fcb816d6",
   "metadata": {},
   "source": [
    "Python has a “batteries included” philosophy. This is best seen through the sophisticated and robust capabilities of its larger packages. For example:\n",
    "\n",
    "The xmlrpc.client and xmlrpc.server modules make implementing remote procedure calls into an almost trivial task. Despite the modules’ names, no direct knowledge or handling of XML is needed.\n",
    "\n",
    "The email package is a library for managing email messages, including MIME and other RFC 2822-based message documents. Unlike smtplib and poplib which actually send and receive messages, the email package has a complete toolset for building or decoding complex message structures (including attachments) and for implementing internet encoding and header protocols.\n",
    "\n",
    "The json package provides robust support for parsing this popular data interchange format. The csv module supports direct reading and writing of files in Comma-Separated Value format, commonly supported by databases and spreadsheets. XML processing is supported by the xml.etree.ElementTree, xml.dom and xml.sax packages. Together, these modules and packages greatly simplify data interchange between Python applications and other tools.\n",
    "\n",
    "The sqlite3 module is a wrapper for the SQLite database library, providing a persistent database that can be updated and accessed using slightly nonstandard SQL syntax.\n",
    "\n",
    "Internationalization is supported by a number of modules including gettext, locale, and the codecs package."
   ]
  },
  {
   "cell_type": "code",
   "execution_count": null,
   "id": "a29ce13c",
   "metadata": {},
   "outputs": [],
   "source": []
  }
 ],
 "metadata": {
  "kernelspec": {
   "display_name": "Python 3 (ipykernel)",
   "language": "python",
   "name": "python3"
  },
  "language_info": {
   "codemirror_mode": {
    "name": "ipython",
    "version": 3
   },
   "file_extension": ".py",
   "mimetype": "text/x-python",
   "name": "python",
   "nbconvert_exporter": "python",
   "pygments_lexer": "ipython3",
   "version": "3.11.4"
  }
 },
 "nbformat": 4,
 "nbformat_minor": 5
}
