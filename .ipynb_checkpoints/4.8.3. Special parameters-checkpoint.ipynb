{
 "cells": [
  {
   "cell_type": "markdown",
   "id": "8ca8546c",
   "metadata": {},
   "source": [
    "https://docs.python.org/3/tutorial/index.html"
   ]
  },
  {
   "cell_type": "markdown",
   "id": "07412869",
   "metadata": {},
   "source": [
    "_4.8.3. Special parameters"
   ]
  },
  {
   "cell_type": "markdown",
   "id": "cf13a3e4",
   "metadata": {},
   "source": [
    "Рассмотрим следующий пример определения функций, обращая пристальное внимание на маркеры / и *:\n"
   ]
  },
  {
   "cell_type": "code",
   "execution_count": 1,
   "id": "3c974e99",
   "metadata": {},
   "outputs": [],
   "source": [
    "def standard_arg(arg):\n",
    "    print(arg)\n",
    "\n",
    "def pos_only_arg(arg, /):\n",
    "    print(arg)\n",
    "\n",
    "def kwd_only_arg(*, arg):\n",
    "    print(arg)\n",
    "\n",
    "def combined_example(pos_only, /, standard, *, kwd_only):\n",
    "    print(pos_only, standard, kwd_only)"
   ]
  },
  {
   "cell_type": "markdown",
   "id": "95a50ccf",
   "metadata": {},
   "source": [
    "The first function definition, standard_arg, the most familiar form, places no restrictions on the calling convention and arguments may be passed by position or keyword:\n",
    "\n"
   ]
  },
  {
   "cell_type": "code",
   "execution_count": 2,
   "id": "802d330a",
   "metadata": {},
   "outputs": [
    {
     "name": "stdout",
     "output_type": "stream",
     "text": [
      "2\n",
      "2\n"
     ]
    },
    {
     "data": {
      "text/plain": [
       "2"
      ]
     },
     "execution_count": 2,
     "metadata": {},
     "output_type": "execute_result"
    }
   ],
   "source": [
    "standard_arg(2)\n",
    "2\n",
    "\n",
    "standard_arg(arg=2)\n",
    "2"
   ]
  },
  {
   "cell_type": "markdown",
   "id": "5f3b00bb",
   "metadata": {},
   "source": [
    "The second function pos_only_arg is restricted to only use positional parameters as there is a / in the function definition:\n",
    "\n"
   ]
  },
  {
   "cell_type": "code",
   "execution_count": null,
   "id": "6c418fb2",
   "metadata": {},
   "outputs": [],
   "source": [
    "pos_only_arg(1)\n",
    "1\n",
    "\n",
    "pos_only_arg(arg=1)\n",
    "Traceback (most recent call last):\n",
    "  File \"<stdin>\", line 1, in <module>\n",
    "TypeError: pos_only_arg() got some positional-only arguments passed as keyword arguments: 'arg'"
   ]
  },
  {
   "cell_type": "markdown",
   "id": "e0aeaa41",
   "metadata": {},
   "source": [
    "The third function kwd_only_args only allows keyword arguments as indicated by a * in the function definition:\n",
    "\n"
   ]
  },
  {
   "cell_type": "code",
   "execution_count": 3,
   "id": "600b827a",
   "metadata": {},
   "outputs": [
    {
     "ename": "SyntaxError",
     "evalue": "invalid syntax. Perhaps you forgot a comma? (653088210.py, line 2)",
     "output_type": "error",
     "traceback": [
      "\u001b[1;36m  Cell \u001b[1;32mIn[3], line 2\u001b[1;36m\u001b[0m\n\u001b[1;33m    Traceback (most recent call last):\u001b[0m\n\u001b[1;37m               ^\u001b[0m\n\u001b[1;31mSyntaxError\u001b[0m\u001b[1;31m:\u001b[0m invalid syntax. Perhaps you forgot a comma?\n"
     ]
    }
   ],
   "source": [
    "kwd_only_arg(3)\n",
    "Traceback (most recent call last):\n",
    "  File \"<stdin>\", line 1, in <module>\n",
    "TypeError: kwd_only_arg() takes 0 positional arguments but 1 was given\n",
    "\n",
    "kwd_only_arg(arg=3)\n",
    "3"
   ]
  },
  {
   "cell_type": "markdown",
   "id": "0a4f51bf",
   "metadata": {},
   "source": [
    "And the last uses all three calling conventions in the same function definition:\n",
    "\n"
   ]
  },
  {
   "cell_type": "code",
   "execution_count": null,
   "id": "2ebf4d8c",
   "metadata": {},
   "outputs": [],
   "source": [
    "combined_example(1, 2, 3)\n",
    "Traceback (most recent call last):\n",
    "  File \"<stdin>\", line 1, in <module>\n",
    "TypeError: combined_example() takes 2 positional arguments but 3 were given\n",
    "\n",
    "combined_example(1, 2, kwd_only=3)\n",
    "1 2 3\n",
    "\n",
    "combined_example(1, standard=2, kwd_only=3)\n",
    "1 2 3\n",
    "\n",
    "combined_example(pos_only=1, standard=2, kwd_only=3)\n",
    "Traceback (most recent call last):\n",
    "  File \"<stdin>\", line 1, in <module>\n",
    "TypeError: combined_example() got some positional-only arguments passed as keyword arguments: 'pos_only'"
   ]
  },
  {
   "cell_type": "markdown",
   "id": "a3405668",
   "metadata": {},
   "source": [
    "Finally, consider this function definition which has a potential collision between the positional argument name and **kwds which has name as a key:\n",
    "\n"
   ]
  },
  {
   "cell_type": "code",
   "execution_count": 5,
   "id": "beac11aa",
   "metadata": {},
   "outputs": [],
   "source": [
    "def foo(name, **kwds):\n",
    "    return 'name' in kwds"
   ]
  },
  {
   "cell_type": "markdown",
   "id": "937da2bd",
   "metadata": {},
   "source": [
    "There is no possible call that will make it return True as the keyword 'name' will always bind to the first parameter. For example:\n",
    "\n"
   ]
  },
  {
   "cell_type": "code",
   "execution_count": null,
   "id": "b4814211",
   "metadata": {},
   "outputs": [],
   "source": [
    "foo(1, **{'name': 2})\n",
    "Traceback (most recent call last):\n",
    "  File \"<stdin>\", line 1, in <module>\n",
    "TypeError: foo() got multiple values for argument 'name'\n"
   ]
  },
  {
   "cell_type": "markdown",
   "id": "ed49f5d2",
   "metadata": {},
   "source": [
    "But using / (positional only arguments), it is possible since it allows name as a positional argument and 'name' as a key in the keyword arguments:\n",
    "\n"
   ]
  },
  {
   "cell_type": "code",
   "execution_count": null,
   "id": "540fcf6b",
   "metadata": {},
   "outputs": [],
   "source": [
    "def foo(name, /, **kwds):\n",
    "    return 'name' in kwds\n",
    "\n",
    "foo(1, **{'name': 2})\n",
    "True"
   ]
  },
  {
   "cell_type": "markdown",
   "id": "5fe7a232",
   "metadata": {},
   "source": [
    "In other words, the names of positional-only parameters can be used in **kwds without ambiguity.\n",
    "\n"
   ]
  },
  {
   "cell_type": "markdown",
   "id": "63c8e853",
   "metadata": {},
   "source": [
    "# 4.8.3.5. Recap¶\n"
   ]
  },
  {
   "cell_type": "markdown",
   "id": "6165c2d5",
   "metadata": {},
   "source": [
    "The use case will determine which parameters to use in the function definition:\n",
    "\n"
   ]
  },
  {
   "cell_type": "code",
   "execution_count": 1,
   "id": "524e2eef",
   "metadata": {},
   "outputs": [
    {
     "ename": "SyntaxError",
     "evalue": "incomplete input (367248099.py, line 1)",
     "output_type": "error",
     "traceback": [
      "\u001b[1;36m  Cell \u001b[1;32mIn[1], line 1\u001b[1;36m\u001b[0m\n\u001b[1;33m    def f(pos1, pos2, /, pos_or_kwd, *, kwd1, kwd2):\u001b[0m\n\u001b[1;37m                                                    ^\u001b[0m\n\u001b[1;31mSyntaxError\u001b[0m\u001b[1;31m:\u001b[0m incomplete input\n"
     ]
    }
   ],
   "source": [
    "def f(pos1, pos2, /, pos_or_kwd, *, kwd1, kwd2):\n"
   ]
  },
  {
   "cell_type": "markdown",
   "id": "229bd792",
   "metadata": {},
   "source": [
    "As guidance:\n",
    "\n",
    "\n",
    "Use positional-only if you want the name of the parameters to not be available to the user. This is useful when parameter names have no real meaning, if you want to enforce the order of the arguments when the function is called or if you need to take some positional parameters and arbitrary keywords.\n",
    "\n",
    "Use keyword-only when names have meaning and the function definition is more understandable by being explicit with names or you want to prevent users relying on the position of the argument being passed.\n",
    "\n",
    "For an API, use positional-only to prevent breaking API changes if the parameter’s name is modified in the future."
   ]
  },
  {
   "cell_type": "code",
   "execution_count": null,
   "id": "f1d56245",
   "metadata": {},
   "outputs": [],
   "source": []
  }
 ],
 "metadata": {
  "kernelspec": {
   "display_name": "Python 3 (ipykernel)",
   "language": "python",
   "name": "python3"
  },
  "language_info": {
   "codemirror_mode": {
    "name": "ipython",
    "version": 3
   },
   "file_extension": ".py",
   "mimetype": "text/x-python",
   "name": "python",
   "nbconvert_exporter": "python",
   "pygments_lexer": "ipython3",
   "version": "3.11.4"
  }
 },
 "nbformat": 4,
 "nbformat_minor": 5
}
