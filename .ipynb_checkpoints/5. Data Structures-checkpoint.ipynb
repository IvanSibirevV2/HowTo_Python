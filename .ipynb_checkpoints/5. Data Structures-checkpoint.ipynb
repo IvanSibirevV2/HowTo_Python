{
 "cells": [
  {
   "cell_type": "markdown",
   "id": "2ee8c1ed",
   "metadata": {},
   "source": [
    "https://docs.python.org/3/tutorial/index.html"
   ]
  },
  {
   "cell_type": "markdown",
   "id": "b0b052d1",
   "metadata": {},
   "source": [
    "# 5.2. Оператор del"
   ]
  },
  {
   "cell_type": "markdown",
   "id": "2c92f0fe",
   "metadata": {},
   "source": [
    "Существует способ удалить элемент из списка, задав его индекс вместо значения: оператор del. Это отличается от метода pop(), который возвращает значение. Оператор del также может быть использован для удаления фрагментов из списка или очистки всего списка (что мы делали ранее, присваивая фрагменту пустой список). Например:\n"
   ]
  },
  {
   "cell_type": "code",
   "execution_count": 3,
   "id": "16d9e89f",
   "metadata": {},
   "outputs": [
    {
     "data": {
      "text/plain": [
       "[]"
      ]
     },
     "execution_count": 3,
     "metadata": {},
     "output_type": "execute_result"
    }
   ],
   "source": [
    "a = [-1, 1, 66.25, 333, 333, 1234.5]\n",
    "del a[0]\n",
    "a\n",
    "[1, 66.25, 333, 333, 1234.5]\n",
    "del a[2:4]\n",
    "a\n",
    "[1, 66.25, 1234.5]\n",
    "del a[:]\n",
    "a\n",
    "[]"
   ]
  },
  {
   "cell_type": "markdown",
   "id": "283050e5",
   "metadata": {},
   "source": [
    "\n",
    "del также можно использовать для удаления целых переменных:"
   ]
  },
  {
   "cell_type": "code",
   "execution_count": 5,
   "id": "81a5b5ad",
   "metadata": {},
   "outputs": [],
   "source": [
    "del a"
   ]
  },
  {
   "cell_type": "markdown",
   "id": "4e4ee620",
   "metadata": {},
   "source": [
    "Использование имени a в дальнейшем является ошибкой (по крайней мере, до тех пор, пока ему не будет присвоено другое значение). Позже мы найдем другие варианты использования del."
   ]
  },
  {
   "cell_type": "markdown",
   "id": "b4699142",
   "metadata": {},
   "source": [
    "# 5.3. Кортежи и последовательности¶"
   ]
  },
  {
   "cell_type": "markdown",
   "id": "68c71d21",
   "metadata": {},
   "source": [
    "Мы видели, что списки и строки имеют много общих свойств, таких как операции индексации и нарезки. Это два примера типов данных последовательности (см. Типы последовательностей — список, кортеж, диапазон). Поскольку Python является развивающимся языком, могут быть добавлены другие типы данных последовательности. Существует также другой стандартный тип данных последовательности: кортеж.\n"
   ]
  },
  {
   "cell_type": "markdown",
   "id": "90de7797",
   "metadata": {},
   "source": [
    "Кортеж состоит из нескольких значений, разделенных запятыми, например:"
   ]
  },
  {
   "cell_type": "code",
   "execution_count": 7,
   "id": "cf2d1a58",
   "metadata": {},
   "outputs": [
    {
     "ename": "SyntaxError",
     "evalue": "invalid syntax. Perhaps you forgot a comma? (2470937500.py, line 12)",
     "output_type": "error",
     "traceback": [
      "\u001b[1;36m  Cell \u001b[1;32mIn[7], line 12\u001b[1;36m\u001b[0m\n\u001b[1;33m    Traceback (most recent call last):\u001b[0m\n\u001b[1;37m               ^\u001b[0m\n\u001b[1;31mSyntaxError\u001b[0m\u001b[1;31m:\u001b[0m invalid syntax. Perhaps you forgot a comma?\n"
     ]
    }
   ],
   "source": [
    "t = 12345, 54321, 'hello!'\n",
    "t[0]\n",
    "12345\n",
    "t\n",
    "(12345, 54321, 'hello!')\n",
    "# Tuples may be nested:\n",
    "u = t, (1, 2, 3, 4, 5)\n",
    "u\n",
    "((12345, 54321, 'hello!'), (1, 2, 3, 4, 5))\n",
    "# Tuples are immutable:\n",
    "t[0] = 88888\n",
    "Traceback (most recent call last):\n",
    "  File \"<stdin>\", line 1, in <module>\n",
    "TypeError: 'tuple' object does not support item assignment\n",
    "# but they can contain mutable objects:\n",
    "v = ([1, 2, 3], [3, 2, 1])\n",
    "v\n",
    "([1, 2, 3], [3, 2, 1])"
   ]
  },
  {
   "cell_type": "markdown",
   "id": "45ecb6bf",
   "metadata": {},
   "source": [
    "Как вы видите, на выходе кортежи всегда заключаются в круглые скобки, так что вложенные кортежи интерпретируются правильно; они могут вводиться как с окружающими круглыми скобками, так и без них, хотя часто круглые скобки все равно необходимы (если кортеж является частью более крупного выражения). Невозможно назначить отдельным элементам кортежа, однако возможно создавать кортежи, содержащие изменяемые объекты, такие как списки."
   ]
  },
  {
   "cell_type": "markdown",
   "id": "8f458c84",
   "metadata": {},
   "source": [
    "Хотя кортежи могут показаться похожими на списки, они часто используются в разных ситуациях и для разных целей. Кортежи неизменяемы и обычно содержат разнородную последовательность элементов, доступ к которым осуществляется посредством распаковки (смотрите далее в этом разделе) или индексации (или даже по атрибуту в случае namedtuples). Списки изменяемы, а их элементы обычно однородны, и доступ к ним осуществляется путем итерации по списку."
   ]
  },
  {
   "cell_type": "markdown",
   "id": "8d90e8f8",
   "metadata": {},
   "source": [
    "Особой проблемой является построение кортежей, содержащих 0 или 1 элемент: синтаксис имеет некоторые дополнительные особенности для их учета. Пустые кортежи создаются с помощью пустой пары круглых скобок; кортеж с одним элементом создается путем указания значения через запятую (недостаточно заключить одно значение в круглые скобки). Некрасиво, но эффективно. Например:"
   ]
  },
  {
   "cell_type": "code",
   "execution_count": 8,
   "id": "afcb9a12",
   "metadata": {},
   "outputs": [
    {
     "data": {
      "text/plain": [
       "('hello',)"
      ]
     },
     "execution_count": 8,
     "metadata": {},
     "output_type": "execute_result"
    }
   ],
   "source": [
    "empty = ()\n",
    "singleton = 'hello',    # <-- note trailing comma\n",
    "len(empty)\n",
    "0\n",
    "len(singleton)\n",
    "1\n",
    "singleton\n",
    "('hello',)"
   ]
  },
  {
   "cell_type": "markdown",
   "id": "0166985d",
   "metadata": {},
   "source": [
    "Оператор t = 12345, 54321, 'hello!' является примером упаковки кортежей: значения 12345, 54321 и 'hello!' упаковываются вместе в кортеж. Обратная операция также возможна:"
   ]
  },
  {
   "cell_type": "code",
   "execution_count": 9,
   "id": "e86a842e",
   "metadata": {},
   "outputs": [
    {
     "ename": "NameError",
     "evalue": "name 't' is not defined",
     "output_type": "error",
     "traceback": [
      "\u001b[1;31m---------------------------------------------------------------------------\u001b[0m",
      "\u001b[1;31mNameError\u001b[0m                                 Traceback (most recent call last)",
      "Cell \u001b[1;32mIn[9], line 1\u001b[0m\n\u001b[1;32m----> 1\u001b[0m x, y, z \u001b[38;5;241m=\u001b[39m t\n",
      "\u001b[1;31mNameError\u001b[0m: name 't' is not defined"
     ]
    }
   ],
   "source": [
    "x, y, z = t"
   ]
  },
  {
   "cell_type": "markdown",
   "id": "a23f8171",
   "metadata": {},
   "source": [
    "Это называется, что вполне уместно, распаковкой последовательности и работает для любой последовательности с правой стороны. Распаковка последовательности требует, чтобы слева от знака равенства было столько переменных, сколько элементов в последовательности. Обратите внимание, что множественное присвоение - это на самом деле просто комбинация упаковки кортежей и распаковки последовательностей."
   ]
  },
  {
   "cell_type": "markdown",
   "id": "68dd27a9",
   "metadata": {},
   "source": [
    "# 5.4. Наборы"
   ]
  },
  {
   "cell_type": "markdown",
   "id": "2bf79e9c",
   "metadata": {},
   "source": [
    "Python также включает тип данных для наборов. Набор - это неупорядоченная коллекция без повторяющихся элементов. Основные области применения включают проверку принадлежности и устранение повторяющихся записей. Объекты Set также поддерживают математические операции, такие как объединение, пересечение, разность и симметричная разность.\n"
   ]
  },
  {
   "cell_type": "markdown",
   "id": "fd84aab3",
   "metadata": {},
   "source": [
    "Для создания наборов можно использовать фигурные скобки или функцию set(). Примечание: чтобы создать пустой набор, вы должны использовать set(), а не {}; последний создает пустой словарь, структуру данных, которую мы обсудим в следующем разделе."
   ]
  },
  {
   "cell_type": "markdown",
   "id": "347f0cb0",
   "metadata": {},
   "source": [
    "Вот краткая демонстрация:"
   ]
  },
  {
   "cell_type": "code",
   "execution_count": 11,
   "id": "e30c46dc",
   "metadata": {},
   "outputs": [
    {
     "name": "stdout",
     "output_type": "stream",
     "text": [
      "{'banana', 'pear', 'orange', 'apple'}\n"
     ]
    },
    {
     "data": {
      "text/plain": [
       "{'b', 'd', 'l', 'm', 'r', 'z'}"
      ]
     },
     "execution_count": 11,
     "metadata": {},
     "output_type": "execute_result"
    }
   ],
   "source": [
    "basket = {'apple', 'orange', 'apple', 'pear', 'orange', 'banana'}\n",
    "print(basket)                      # show that duplicates have been removed\n",
    "{'orange', 'banana', 'pear', 'apple'}\n",
    "'orange' in basket                 # fast membership testing\n",
    "True\n",
    "'crabgrass' in basket\n",
    "False\n",
    "\n",
    "# Demonstrate set operations on unique letters from two words\n",
    "\n",
    "a = set('abracadabra')\n",
    "b = set('alacazam')\n",
    "a                                  # unique letters in a\n",
    "{'a', 'r', 'b', 'c', 'd'}\n",
    "a - b                              # letters in a but not in b\n",
    "{'r', 'd', 'b'}\n",
    "a | b                              # letters in a or b or both\n",
    "{'a', 'c', 'r', 'd', 'b', 'm', 'z', 'l'}\n",
    "a & b                              # letters in both a and b\n",
    "{'a', 'c'}\n",
    "a ^ b                              # letters in a or b but not both\n",
    "{'r', 'd', 'b', 'm', 'z', 'l'}"
   ]
  },
  {
   "cell_type": "markdown",
   "id": "47f88326",
   "metadata": {},
   "source": [
    "Аналогично понятиям списка, также поддерживаются определения набора:\n"
   ]
  },
  {
   "cell_type": "code",
   "execution_count": 12,
   "id": "786d4610",
   "metadata": {},
   "outputs": [
    {
     "data": {
      "text/plain": [
       "{'d', 'r'}"
      ]
     },
     "execution_count": 12,
     "metadata": {},
     "output_type": "execute_result"
    }
   ],
   "source": [
    "a = {x for x in 'abracadabra' if x not in 'abc'}\n",
    "a\n",
    "{'r', 'd'}"
   ]
  },
  {
   "cell_type": "markdown",
   "id": "193d44ca",
   "metadata": {},
   "source": [
    "# 5.5. Словари¶"
   ]
  },
  {
   "cell_type": "markdown",
   "id": "9e97ec1b",
   "metadata": {},
   "source": [
    "Другим полезным типом данных, встроенным в Python, является словарь (см. Отображение типов — dict). Словари иногда встречаются в других языках как “ассоциативная память” или “ассоциативные массивы”. В отличие от последовательностей, которые индексируются диапазоном чисел, словари индексируются ключами, которые могут быть любого неизменяемого типа; строки и числа всегда могут быть ключами. Кортежи можно использовать в качестве ключей, если они содержат только строки, числа или кортежи кортежей; если кортеж содержит какой-либо изменяемый объект прямо или косвенно, он не может использоваться в качестве ключа. Вы не можете использовать списки в качестве ключей, поскольку списки могут быть изменены на месте с помощью назначений индексов, назначений фрагментов или таких методов, как append() и extend().\n"
   ]
  },
  {
   "cell_type": "markdown",
   "id": "a8876dad",
   "metadata": {},
   "source": [
    "Лучше всего представлять словарь как набор пар ключ: значение с требованием, чтобы ключи были уникальными (в пределах одного словаря). Пара фигурных скобок создает пустой словарь: {}. Помещение списка пар ключ:значение, разделенных запятыми, в фигурные скобки добавляет начальные пары ключ:значение в словарь; это также способ записи словарей на выходе.\n"
   ]
  },
  {
   "cell_type": "markdown",
   "id": "4383863c",
   "metadata": {},
   "source": [
    "Основными операциями со словарем являются сохранение значения с некоторым ключом и извлечение значения, заданного ключом. Также возможно удалить пару ключ:значение с помощью del. Если вы сохраняете, используя ключ, который уже используется, старое значение, связанное с этим ключом, забывается. Извлечение значения с использованием несуществующего ключа является ошибкой.\n"
   ]
  },
  {
   "cell_type": "markdown",
   "id": "7c84d32d",
   "metadata": {},
   "source": [
    "Выполнение list(d) в словаре возвращает список всех ключей, используемых в словаре, в порядке вставки (если вы хотите, чтобы он был отсортирован, просто используйте вместо этого sorted(d)). Чтобы проверить, есть ли в словаре один ключ, используйте ключевое слово in.\n"
   ]
  },
  {
   "cell_type": "markdown",
   "id": "cd5c1f66",
   "metadata": {},
   "source": [
    "Вот небольшой пример использования словаря:"
   ]
  },
  {
   "cell_type": "code",
   "execution_count": 15,
   "id": "2bde1472",
   "metadata": {},
   "outputs": [
    {
     "data": {
      "text/plain": [
       "False"
      ]
     },
     "execution_count": 15,
     "metadata": {},
     "output_type": "execute_result"
    }
   ],
   "source": [
    "tel = {'jack': 4098, 'sape': 4139}\n",
    "tel['guido'] = 4127\n",
    "tel\n",
    "{'jack': 4098, 'sape': 4139, 'guido': 4127}\n",
    "tel['jack']\n",
    "4098\n",
    "del tel['sape']\n",
    "tel['irv'] = 4127\n",
    "tel\n",
    "{'jack': 4098, 'guido': 4127, 'irv': 4127}\n",
    "list(tel)\n",
    "['jack', 'guido', 'irv']\n",
    "sorted(tel)\n",
    "['guido', 'irv', 'jack']\n",
    "'guido' in tel\n",
    "True\n",
    "'jack' not in tel\n",
    "False"
   ]
  },
  {
   "cell_type": "markdown",
   "id": "1c5cdae1",
   "metadata": {},
   "source": [
    "Конструктор dict() создает словари непосредственно из последовательностей пар ключ-значение:"
   ]
  },
  {
   "cell_type": "code",
   "execution_count": 16,
   "id": "494dfad7",
   "metadata": {},
   "outputs": [
    {
     "data": {
      "text/plain": [
       "{'sape': 4139, 'guido': 4127, 'jack': 4098}"
      ]
     },
     "execution_count": 16,
     "metadata": {},
     "output_type": "execute_result"
    }
   ],
   "source": [
    "dict([('sape', 4139), ('guido', 4127), ('jack', 4098)])\n",
    "{'sape': 4139, 'guido': 4127, 'jack': 4098}"
   ]
  },
  {
   "cell_type": "markdown",
   "id": "b54fb4d2",
   "metadata": {},
   "source": [
    "Кроме того, понимание dict может использоваться для создания словарей из произвольных выражений ключей и значений:"
   ]
  },
  {
   "cell_type": "code",
   "execution_count": 17,
   "id": "231309d4",
   "metadata": {},
   "outputs": [
    {
     "data": {
      "text/plain": [
       "{2: 4, 4: 16, 6: 36}"
      ]
     },
     "execution_count": 17,
     "metadata": {},
     "output_type": "execute_result"
    }
   ],
   "source": [
    "{x: x**2 for x in (2, 4, 6)}\n",
    "{2: 4, 4: 16, 6: 36}"
   ]
  },
  {
   "cell_type": "markdown",
   "id": "31faff12",
   "metadata": {},
   "source": [
    "Когда ключи представляют собой простые строки, иногда проще указать пары, используя аргументы ключевых слов:"
   ]
  },
  {
   "cell_type": "code",
   "execution_count": 19,
   "id": "4f884e05",
   "metadata": {},
   "outputs": [
    {
     "data": {
      "text/plain": [
       "{'sape': 4139, 'guido': 4127, 'jack': 4098}"
      ]
     },
     "execution_count": 19,
     "metadata": {},
     "output_type": "execute_result"
    }
   ],
   "source": [
    "dict(sape=4139, guido=4127, jack=4098)\n",
    "{'sape': 4139, 'guido': 4127, 'jack': 4098}"
   ]
  },
  {
   "cell_type": "markdown",
   "id": "9eb98477",
   "metadata": {},
   "source": [
    "# 5.6. Методы создания циклов"
   ]
  },
  {
   "cell_type": "markdown",
   "id": "34d80150",
   "metadata": {},
   "source": [
    "При циклическом просмотре словарей ключ и соответствующее значение могут быть извлечены одновременно с помощью метода items()."
   ]
  },
  {
   "cell_type": "code",
   "execution_count": 1,
   "id": "1d6ef907",
   "metadata": {},
   "outputs": [
    {
     "ename": "SyntaxError",
     "evalue": "invalid syntax (2118017273.py, line 5)",
     "output_type": "error",
     "traceback": [
      "\u001b[1;36m  Cell \u001b[1;32mIn[1], line 5\u001b[1;36m\u001b[0m\n\u001b[1;33m    gallahad the pure\u001b[0m\n\u001b[1;37m             ^\u001b[0m\n\u001b[1;31mSyntaxError\u001b[0m\u001b[1;31m:\u001b[0m invalid syntax\n"
     ]
    }
   ],
   "source": [
    "knights = {'gallahad': 'the pure', 'robin': 'the brave'}\n",
    "for k, v in knights.items():\n",
    "    print(k, v)\n",
    "\n",
    "gallahad the pure\n",
    "robin the brave"
   ]
  },
  {
   "cell_type": "markdown",
   "id": "97f82217",
   "metadata": {},
   "source": [
    "При циклическом просмотре последовательности индекс позиции и соответствующее значение могут быть получены одновременно с помощью функции enumerate()."
   ]
  },
  {
   "cell_type": "code",
   "execution_count": 2,
   "id": "a9126157",
   "metadata": {},
   "outputs": [
    {
     "ename": "SyntaxError",
     "evalue": "invalid syntax (3734447555.py, line 4)",
     "output_type": "error",
     "traceback": [
      "\u001b[1;36m  Cell \u001b[1;32mIn[2], line 4\u001b[1;36m\u001b[0m\n\u001b[1;33m    0 tic\u001b[0m\n\u001b[1;37m      ^\u001b[0m\n\u001b[1;31mSyntaxError\u001b[0m\u001b[1;31m:\u001b[0m invalid syntax\n"
     ]
    }
   ],
   "source": [
    "for i, v in enumerate(['tic', 'tac', 'toe']):\n",
    "    print(i, v)\n",
    "\n",
    "0 tic\n",
    "1 tac\n",
    "2 toe"
   ]
  },
  {
   "cell_type": "markdown",
   "id": "9f9d8ab6",
   "metadata": {},
   "source": [
    "Чтобы выполнить цикл по двум или более последовательностям одновременно, записи могут быть соединены с помощью функции zip()."
   ]
  },
  {
   "cell_type": "code",
   "execution_count": 3,
   "id": "54acbeba",
   "metadata": {},
   "outputs": [
    {
     "ename": "SyntaxError",
     "evalue": "invalid syntax (2754036754.py, line 6)",
     "output_type": "error",
     "traceback": [
      "\u001b[1;36m  Cell \u001b[1;32mIn[3], line 6\u001b[1;36m\u001b[0m\n\u001b[1;33m    What is your name?  It is lancelot.\u001b[0m\n\u001b[1;37m                 ^\u001b[0m\n\u001b[1;31mSyntaxError\u001b[0m\u001b[1;31m:\u001b[0m invalid syntax\n"
     ]
    }
   ],
   "source": [
    "questions = ['name', 'quest', 'favorite color']\n",
    "answers = ['lancelot', 'the holy grail', 'blue']\n",
    "for q, a in zip(questions, answers):\n",
    "    print('What is your {0}?  It is {1}.'.format(q, a))\n",
    "\n",
    "What is your name?  It is lancelot.\n",
    "What is your quest?  It is the holy grail.\n",
    "What is your favorite color?  It is blue."
   ]
  },
  {
   "cell_type": "markdown",
   "id": "952f858f",
   "metadata": {},
   "source": [
    "Чтобы выполнить цикл по последовательности в обратном направлении, сначала укажите последовательность в прямом направлении, а затем вызовите функцию reversed()."
   ]
  },
  {
   "cell_type": "code",
   "execution_count": 4,
   "id": "3512154c",
   "metadata": {},
   "outputs": [
    {
     "name": "stdout",
     "output_type": "stream",
     "text": [
      "9\n",
      "7\n",
      "5\n",
      "3\n",
      "1\n"
     ]
    },
    {
     "data": {
      "text/plain": [
       "1"
      ]
     },
     "execution_count": 4,
     "metadata": {},
     "output_type": "execute_result"
    }
   ],
   "source": [
    "for i in reversed(range(1, 10, 2)):\n",
    "    print(i)\n",
    "\n",
    "9\n",
    "7\n",
    "5\n",
    "3\n",
    "1"
   ]
  },
  {
   "cell_type": "markdown",
   "id": "a8c80587",
   "metadata": {},
   "source": [
    "Чтобы выполнить цикл по последовательности в отсортированном порядке, используйте функцию sorted(), которая возвращает новый отсортированный список, оставляя исходный без изменений."
   ]
  },
  {
   "cell_type": "code",
   "execution_count": 5,
   "id": "fe4e384c",
   "metadata": {},
   "outputs": [
    {
     "name": "stdout",
     "output_type": "stream",
     "text": [
      "apple\n",
      "apple\n",
      "banana\n",
      "orange\n",
      "orange\n",
      "pear\n"
     ]
    },
    {
     "ename": "NameError",
     "evalue": "name 'apple' is not defined",
     "output_type": "error",
     "traceback": [
      "\u001b[1;31m---------------------------------------------------------------------------\u001b[0m",
      "\u001b[1;31mNameError\u001b[0m                                 Traceback (most recent call last)",
      "Cell \u001b[1;32mIn[5], line 5\u001b[0m\n\u001b[0;32m      2\u001b[0m \u001b[38;5;28;01mfor\u001b[39;00m i \u001b[38;5;129;01min\u001b[39;00m \u001b[38;5;28msorted\u001b[39m(basket):\n\u001b[0;32m      3\u001b[0m     \u001b[38;5;28mprint\u001b[39m(i)\n\u001b[1;32m----> 5\u001b[0m apple\n\u001b[0;32m      6\u001b[0m apple\n\u001b[0;32m      7\u001b[0m banana\n",
      "\u001b[1;31mNameError\u001b[0m: name 'apple' is not defined"
     ]
    }
   ],
   "source": [
    "basket = ['apple', 'orange', 'apple', 'pear', 'orange', 'banana']\n",
    "for i in sorted(basket):\n",
    "    print(i)\n",
    "\n",
    "apple\n",
    "apple\n",
    "banana\n",
    "orange\n",
    "orange\n",
    "pear"
   ]
  },
  {
   "cell_type": "markdown",
   "id": "dce6947f",
   "metadata": {},
   "source": [
    "Использование set() для последовательности устраняет повторяющиеся элементы. Использование sorted() в сочетании с set() для последовательности - это идиоматический способ перебора уникальных элементов последовательности в отсортированном порядке."
   ]
  },
  {
   "cell_type": "code",
   "execution_count": 6,
   "id": "b9f8a3f1",
   "metadata": {},
   "outputs": [
    {
     "name": "stdout",
     "output_type": "stream",
     "text": [
      "apple\n",
      "banana\n",
      "orange\n",
      "pear\n"
     ]
    },
    {
     "ename": "NameError",
     "evalue": "name 'apple' is not defined",
     "output_type": "error",
     "traceback": [
      "\u001b[1;31m---------------------------------------------------------------------------\u001b[0m",
      "\u001b[1;31mNameError\u001b[0m                                 Traceback (most recent call last)",
      "Cell \u001b[1;32mIn[6], line 5\u001b[0m\n\u001b[0;32m      2\u001b[0m \u001b[38;5;28;01mfor\u001b[39;00m f \u001b[38;5;129;01min\u001b[39;00m \u001b[38;5;28msorted\u001b[39m(\u001b[38;5;28mset\u001b[39m(basket)):\n\u001b[0;32m      3\u001b[0m     \u001b[38;5;28mprint\u001b[39m(f)\n\u001b[1;32m----> 5\u001b[0m apple\n\u001b[0;32m      6\u001b[0m banana\n\u001b[0;32m      7\u001b[0m orange\n",
      "\u001b[1;31mNameError\u001b[0m: name 'apple' is not defined"
     ]
    }
   ],
   "source": [
    "basket = ['apple', 'orange', 'apple', 'pear', 'orange', 'banana']\n",
    "for f in sorted(set(basket)):\n",
    "    print(f)\n",
    "\n",
    "apple\n",
    "banana\n",
    "orange\n",
    "pear"
   ]
  },
  {
   "cell_type": "markdown",
   "id": "9224b53e",
   "metadata": {},
   "source": [
    "Иногда возникает соблазн изменить список во время циклического просмотра; однако часто проще и безопаснее вместо этого создать новый список."
   ]
  },
  {
   "cell_type": "code",
   "execution_count": 7,
   "id": "a2c041ca",
   "metadata": {},
   "outputs": [
    {
     "data": {
      "text/plain": [
       "[56.2, 51.7, 55.3, 52.5, 47.8]"
      ]
     },
     "execution_count": 7,
     "metadata": {},
     "output_type": "execute_result"
    }
   ],
   "source": [
    "import math\n",
    "raw_data = [56.2, float('NaN'), 51.7, 55.3, 52.5, float('NaN'), 47.8]\n",
    "filtered_data = []\n",
    "for value in raw_data:\n",
    "    if not math.isnan(value):\n",
    "        filtered_data.append(value)\n",
    "\n",
    "filtered_data\n",
    "[56.2, 51.7, 55.3, 52.5, 47.8]"
   ]
  },
  {
   "cell_type": "markdown",
   "id": "90005fd3",
   "metadata": {},
   "source": [
    "# 5.7. Подробнее об условиях¶"
   ]
  },
  {
   "cell_type": "markdown",
   "id": "9b5f90e6",
   "metadata": {},
   "source": [
    "Условия, используемые в операторах while и if, могут содержать любые операторы, а не только сравнения.\n"
   ]
  },
  {
   "cell_type": "markdown",
   "id": "1c8d006b",
   "metadata": {},
   "source": [
    "Операторы сравнения in и not in являются тестами на принадлежность, которые определяют, находится ли значение в контейнере (или нет). Операторы is и is not сравнивают, действительно ли два объекта являются одним и тем же объектом. Все операторы сравнения имеют одинаковый приоритет, который ниже, чем у всех числовых операторов."
   ]
  },
  {
   "cell_type": "markdown",
   "id": "fe553ee5",
   "metadata": {},
   "source": [
    "Сравнения могут быть цепными. Например, a < b == c проверяет, меньше ли a, чем b, и, более того, b равно c.\n"
   ]
  },
  {
   "cell_type": "markdown",
   "id": "17c53d57",
   "metadata": {},
   "source": [
    "Сравнения могут быть объединены с использованием логических операторов and и or, и результат сравнения (или любого другого логического выражения) может быть отменен с помощью not. Они имеют более низкие приоритеты, чем операторы сравнения; между ними not имеет наивысший приоритет и / или наименьший, так что A, а не B или C эквивалентно (A и (не B)) или C. Как всегда, круглые скобки можно использовать для выражения желаемой композиции.\n"
   ]
  },
  {
   "cell_type": "markdown",
   "id": "1834c74d",
   "metadata": {},
   "source": [
    "Логические операторы and и or являются так называемыми операторами короткого замыкания: их аргументы вычисляются слева направо, и вычисление прекращается, как только определен результат. Например, если A и C равны true, но B равно false, A, B и C не вычисляют выражение C. При использовании в качестве общего значения, а не логического, возвращаемое значение оператора короткого замыкания является последним вычисленным аргументом.\n"
   ]
  },
  {
   "cell_type": "markdown",
   "id": "ac84312f",
   "metadata": {},
   "source": [
    "Переменной можно присвоить результат сравнения или другое логическое выражение. Например,\n"
   ]
  },
  {
   "cell_type": "code",
   "execution_count": 2,
   "id": "344bc929",
   "metadata": {},
   "outputs": [
    {
     "data": {
      "text/plain": [
       "'Trondheim'"
      ]
     },
     "execution_count": 2,
     "metadata": {},
     "output_type": "execute_result"
    }
   ],
   "source": [
    "string1, string2, string3 = '', 'Trondheim', 'Hammer Dance'\n",
    "non_null = string1 or string2 or string3\n",
    "non_null\n",
    "'Trondheim'"
   ]
  },
  {
   "cell_type": "markdown",
   "id": "1611ad12",
   "metadata": {},
   "source": [
    "Обратите внимание, что в Python, в отличие от C, присваивание внутри выражений должно выполняться явно с помощью оператора walrus :=. Это позволяет избежать общего класса проблем, встречающихся в программах на C: ввод = в выражении, когда предполагалось ==.\n"
   ]
  },
  {
   "cell_type": "markdown",
   "id": "faf8db07",
   "metadata": {},
   "source": [
    "# 5.8. Сравнение последовательностей и других типов"
   ]
  },
  {
   "cell_type": "markdown",
   "id": "56261707",
   "metadata": {},
   "source": [
    "Объекты последовательности обычно можно сравнивать с другими объектами с тем же типом последовательности. При сравнении используется лексикографический порядок: сначала сравниваются первые два элемента, и если они различаются, это определяет результат сравнения; если они равны, сравниваются следующие два элемента, и так далее, пока не будет исчерпана любая последовательность. Если два сравниваемых элемента сами по себе являются последовательностями одного типа, лексикографическое сравнение выполняется рекурсивно. Если все элементы двух последовательностей сравниваются одинаково, последовательности считаются равными. Если одна последовательность является начальной подпоследовательностью другой, то более короткая последовательность является меньшей (lesser). Лексикографический порядок строк использует номер кодовой точки Unicode для упорядочивания отдельных символов. Некоторые примеры сравнений между последовательностями одного типа:\n",
    "\n"
   ]
  },
  {
   "cell_type": "code",
   "execution_count": 3,
   "id": "f7b963d7",
   "metadata": {},
   "outputs": [
    {
     "data": {
      "text/plain": [
       "True"
      ]
     },
     "execution_count": 3,
     "metadata": {},
     "output_type": "execute_result"
    }
   ],
   "source": [
    "(1, 2, 3)              < (1, 2, 4)\n",
    "[1, 2, 3]              < [1, 2, 4]\n",
    "'ABC' < 'C' < 'Pascal' < 'Python'\n",
    "(1, 2, 3, 4)           < (1, 2, 4)\n",
    "(1, 2)                 < (1, 2, -1)\n",
    "(1, 2, 3)             == (1.0, 2.0, 3.0)\n",
    "(1, 2, ('aa', 'ab'))   < (1, 2, ('abc', 'a'), 4)"
   ]
  },
  {
   "cell_type": "markdown",
   "id": "73a1da09",
   "metadata": {},
   "source": [
    "Обратите внимание, что сравнение объектов разных типов с помощью < или > допустимо при условии, что объекты имеют соответствующие методы сравнения. Например, смешанные числовые типы сравниваются в соответствии с их числовым значением, поэтому 0 равно 0.0 и т.д. В противном случае, вместо предоставления произвольного порядка, интерпретатор вызовет исключение TypeError.\n",
    "\n"
   ]
  },
  {
   "cell_type": "markdown",
   "id": "11f00a8d",
   "metadata": {},
   "source": [
    "Примечания\n",
    "\n",
    "[1]\n",
    "Другие языки могут возвращать измененный объект, который позволяет связывать методы, такие как d->insert(\"a\")->remove(\"b\")->sort();."
   ]
  },
  {
   "cell_type": "code",
   "execution_count": null,
   "id": "7fac8f84",
   "metadata": {},
   "outputs": [],
   "source": []
  }
 ],
 "metadata": {
  "kernelspec": {
   "display_name": "Python 3 (ipykernel)",
   "language": "python",
   "name": "python3"
  },
  "language_info": {
   "codemirror_mode": {
    "name": "ipython",
    "version": 3
   },
   "file_extension": ".py",
   "mimetype": "text/x-python",
   "name": "python",
   "nbconvert_exporter": "python",
   "pygments_lexer": "ipython3",
   "version": "3.11.4"
  }
 },
 "nbformat": 4,
 "nbformat_minor": 5
}
