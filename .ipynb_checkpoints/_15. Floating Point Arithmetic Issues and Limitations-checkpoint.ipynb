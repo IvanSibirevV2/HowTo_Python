{
 "cells": [
  {
   "cell_type": "markdown",
   "id": "8c679f05",
   "metadata": {},
   "source": [
    "https://docs.python.org/3/tutorial/floatingpoint.html"
   ]
  },
  {
   "cell_type": "markdown",
   "id": "2a94ac81",
   "metadata": {},
   "source": [
    "_15. Floating Point Arithmetic Issues and Limitations"
   ]
  },
  {
   "cell_type": "markdown",
   "id": "b4ebbf80",
   "metadata": {},
   "source": [
    "# 15. Floating Point Arithmetic: Issues and Limitations¶\n"
   ]
  },
  {
   "cell_type": "markdown",
   "id": "6246cd21",
   "metadata": {},
   "source": [
    "Floating-point numbers are represented in computer hardware as base 2 (binary) fractions. For example, the decimal fraction 0.625 has value 6/10 + 2/100 + 5/1000, and in the same way the binary fraction 0.101 has value 1/2 + 0/4 + 1/8. These two fractions have identical values, the only real difference being that the first is written in base 10 fractional notation, and the second in base 2.\n",
    "\n"
   ]
  },
  {
   "cell_type": "markdown",
   "id": "067aa9ff",
   "metadata": {},
   "source": [
    "Unfortunately, most decimal fractions cannot be represented exactly as binary fractions. A consequence is that, in general, the decimal floating-point numbers you enter are only approximated by the binary floating-point numbers actually stored in the machine.\n",
    "\n"
   ]
  },
  {
   "cell_type": "markdown",
   "id": "a09117ab",
   "metadata": {},
   "source": [
    "The problem is easier to understand at first in base 10. Consider the fraction 1/3. You can approximate that as a base 10 fraction:\n",
    "\n"
   ]
  },
  {
   "cell_type": "markdown",
   "id": "b4e69ec5",
   "metadata": {},
   "source": []
  },
  {
   "cell_type": "code",
   "execution_count": 2,
   "id": "bd5f5014",
   "metadata": {},
   "outputs": [
    {
     "data": {
      "text/plain": [
       "0.3"
      ]
     },
     "execution_count": 2,
     "metadata": {},
     "output_type": "execute_result"
    }
   ],
   "source": [
    "0.3"
   ]
  },
  {
   "cell_type": "markdown",
   "id": "bc2ab387",
   "metadata": {},
   "source": [
    "or, better,\n",
    "\n"
   ]
  },
  {
   "cell_type": "code",
   "execution_count": 3,
   "id": "79d8d015",
   "metadata": {},
   "outputs": [
    {
     "data": {
      "text/plain": [
       "0.33"
      ]
     },
     "execution_count": 3,
     "metadata": {},
     "output_type": "execute_result"
    }
   ],
   "source": [
    "0.33\n"
   ]
  },
  {
   "cell_type": "markdown",
   "id": "04e35bd7",
   "metadata": {},
   "source": [
    "or, better,\n",
    "\n"
   ]
  },
  {
   "cell_type": "code",
   "execution_count": 4,
   "id": "a2788e9e",
   "metadata": {},
   "outputs": [
    {
     "data": {
      "text/plain": [
       "0.333"
      ]
     },
     "execution_count": 4,
     "metadata": {},
     "output_type": "execute_result"
    }
   ],
   "source": [
    "0.333"
   ]
  },
  {
   "cell_type": "markdown",
   "id": "e3ad9fe7",
   "metadata": {},
   "source": [
    "and so on. No matter how many digits you’re willing to write down, the result will never be exactly 1/3, but will be an increasingly better approximation of 1/3."
   ]
  },
  {
   "cell_type": "markdown",
   "id": "a6893912",
   "metadata": {},
   "source": [
    "In the same way, no matter how many base 2 digits you’re willing to use, the decimal value 0.1 cannot be represented exactly as a base 2 fraction. In base 2, 1/10 is the infinitely repeating fraction\n",
    "\n"
   ]
  },
  {
   "cell_type": "code",
   "execution_count": 6,
   "id": "2127d6df",
   "metadata": {},
   "outputs": [
    {
     "ename": "SyntaxError",
     "evalue": "invalid syntax (36169373.py, line 1)",
     "output_type": "error",
     "traceback": [
      "\u001b[1;36m  Cell \u001b[1;32mIn[6], line 1\u001b[1;36m\u001b[0m\n\u001b[1;33m    0.0001100110011001100110011001100110011001100110011...\u001b[0m\n\u001b[1;37m                                                       ^\u001b[0m\n\u001b[1;31mSyntaxError\u001b[0m\u001b[1;31m:\u001b[0m invalid syntax\n"
     ]
    }
   ],
   "source": [
    "0.0001100110011001100110011001100110011001100110011...\n"
   ]
  },
  {
   "cell_type": "markdown",
   "id": "2c255c8f",
   "metadata": {},
   "source": [
    "Stop at any finite number of bits, and you get an approximation. On most machines today, floats are approximated using a binary fraction with the numerator using the first 53 bits starting with the most significant bit and with the denominator as a power of two. In the case of 1/10, the binary fraction is 3602879701896397 / 2 ** 55 which is close to but not exactly equal to the true value of 1/10.\n",
    "\n"
   ]
  },
  {
   "cell_type": "markdown",
   "id": "291d74b6",
   "metadata": {},
   "source": [
    "Many users are not aware of the approximation because of the way values are displayed. Python only prints a decimal approximation to the true decimal value of the binary approximation stored by the machine. On most machines, if Python were to print the true decimal value of the binary approximation stored for 0.1, it would have to display:\n",
    "\n"
   ]
  },
  {
   "cell_type": "code",
   "execution_count": 8,
   "id": "b858cc23",
   "metadata": {},
   "outputs": [
    {
     "data": {
      "text/plain": [
       "0.1"
      ]
     },
     "execution_count": 8,
     "metadata": {},
     "output_type": "execute_result"
    }
   ],
   "source": [
    "0.1\n",
    "0.1000000000000000055511151231257827021181583404541015625"
   ]
  },
  {
   "cell_type": "markdown",
   "id": "38e747df",
   "metadata": {},
   "source": [
    "That is more digits than most people find useful, so Python keeps the number of digits manageable by displaying a rounded value instead:\n",
    "\n"
   ]
  },
  {
   "cell_type": "code",
   "execution_count": 9,
   "id": "830a7686",
   "metadata": {},
   "outputs": [
    {
     "data": {
      "text/plain": [
       "0.1"
      ]
     },
     "execution_count": 9,
     "metadata": {},
     "output_type": "execute_result"
    }
   ],
   "source": [
    "1 / 10\n",
    "0.1"
   ]
  },
  {
   "cell_type": "markdown",
   "id": "e9eb27d0",
   "metadata": {},
   "source": [
    "Just remember, even though the printed result looks like the exact value of 1/10, the actual stored value is the nearest representable binary fraction.\n",
    "\n",
    "Interestingly, there are many different decimal numbers that share the same nearest approximate binary fraction. For example, the numbers 0.1 and 0.10000000000000001 and 0.1000000000000000055511151231257827021181583404541015625 are all approximated by 3602879701896397 / 2 ** 55. Since all of these decimal values share the same approximation, any one of them could be displayed while still preserving the invariant eval(repr(x)) == x.\n",
    "\n",
    "Historically, the Python prompt and built-in repr() function would choose the one with 17 significant digits, 0.10000000000000001. Starting with Python 3.1, Python (on most systems) is now able to choose the shortest of these and simply display 0.1.\n",
    "\n",
    "Note that this is in the very nature of binary floating-point: this is not a bug in Python, and it is not a bug in your code either. You’ll see the same kind of thing in all languages that support your hardware’s floating-point arithmetic (although some languages may not display the difference by default, or in all output modes).\n",
    "\n",
    "For more pleasant output, you may wish to use string formatting to produce a limited number of significant digits:"
   ]
  },
  {
   "cell_type": "code",
   "execution_count": 10,
   "id": "ab857158",
   "metadata": {},
   "outputs": [
    {
     "ename": "NameError",
     "evalue": "name 'math' is not defined",
     "output_type": "error",
     "traceback": [
      "\u001b[1;31m---------------------------------------------------------------------------\u001b[0m",
      "\u001b[1;31mNameError\u001b[0m                                 Traceback (most recent call last)",
      "Cell \u001b[1;32mIn[10], line 1\u001b[0m\n\u001b[1;32m----> 1\u001b[0m \u001b[38;5;28mformat\u001b[39m(math\u001b[38;5;241m.\u001b[39mpi, \u001b[38;5;124m'\u001b[39m\u001b[38;5;124m.12g\u001b[39m\u001b[38;5;124m'\u001b[39m)  \u001b[38;5;66;03m# give 12 significant digits\u001b[39;00m\n\u001b[0;32m      2\u001b[0m \u001b[38;5;124m'\u001b[39m\u001b[38;5;124m3.14159265359\u001b[39m\u001b[38;5;124m'\u001b[39m\n\u001b[0;32m      4\u001b[0m \u001b[38;5;28mformat\u001b[39m(math\u001b[38;5;241m.\u001b[39mpi, \u001b[38;5;124m'\u001b[39m\u001b[38;5;124m.2f\u001b[39m\u001b[38;5;124m'\u001b[39m)   \u001b[38;5;66;03m# give 2 digits after the point\u001b[39;00m\n",
      "\u001b[1;31mNameError\u001b[0m: name 'math' is not defined"
     ]
    }
   ],
   "source": [
    "format(math.pi, '.12g')  # give 12 significant digits\n",
    "'3.14159265359'\n",
    "\n",
    "format(math.pi, '.2f')   # give 2 digits after the point\n",
    "'3.14'\n",
    "\n",
    "repr(math.pi)\n",
    "'3.141592653589793'"
   ]
  },
  {
   "cell_type": "markdown",
   "id": "2e292128",
   "metadata": {},
   "source": [
    "It’s important to realize that this is, in a real sense, an illusion: you’re simply rounding the display of the true machine value.\n",
    "\n",
    "One illusion may beget another. For example, since 0.1 is not exactly 1/10, summing three values of 0.1 may not yield exactly 0.3, either:"
   ]
  },
  {
   "cell_type": "code",
   "execution_count": 11,
   "id": "3c59bcaf",
   "metadata": {},
   "outputs": [
    {
     "data": {
      "text/plain": [
       "False"
      ]
     },
     "execution_count": 11,
     "metadata": {},
     "output_type": "execute_result"
    }
   ],
   "source": [
    "0.1 + 0.1 + 0.1 == 0.3\n",
    "False"
   ]
  },
  {
   "cell_type": "markdown",
   "id": "d7463e9c",
   "metadata": {},
   "source": [
    "Also, since the 0.1 cannot get any closer to the exact value of 1/10 and 0.3 cannot get any closer to the exact value of 3/10, then pre-rounding with round() function cannot help:"
   ]
  },
  {
   "cell_type": "code",
   "execution_count": 13,
   "id": "ce615b47",
   "metadata": {},
   "outputs": [
    {
     "data": {
      "text/plain": [
       "False"
      ]
     },
     "execution_count": 13,
     "metadata": {},
     "output_type": "execute_result"
    }
   ],
   "source": [
    "round(0.1, 1) + round(0.1, 1) + round(0.1, 1) == round(0.3, 1)\n",
    "False"
   ]
  },
  {
   "cell_type": "markdown",
   "id": "fbfaa281",
   "metadata": {},
   "source": [
    "Though the numbers cannot be made closer to their intended exact values, the math.isclose() function can be useful for comparing inexact values:"
   ]
  },
  {
   "cell_type": "code",
   "execution_count": 14,
   "id": "3dafc3fb",
   "metadata": {},
   "outputs": [
    {
     "ename": "NameError",
     "evalue": "name 'math' is not defined",
     "output_type": "error",
     "traceback": [
      "\u001b[1;31m---------------------------------------------------------------------------\u001b[0m",
      "\u001b[1;31mNameError\u001b[0m                                 Traceback (most recent call last)",
      "Cell \u001b[1;32mIn[14], line 1\u001b[0m\n\u001b[1;32m----> 1\u001b[0m math\u001b[38;5;241m.\u001b[39misclose(\u001b[38;5;241m0.1\u001b[39m \u001b[38;5;241m+\u001b[39m \u001b[38;5;241m0.1\u001b[39m \u001b[38;5;241m+\u001b[39m \u001b[38;5;241m0.1\u001b[39m, \u001b[38;5;241m0.3\u001b[39m)\n\u001b[0;32m      2\u001b[0m \u001b[38;5;28;01mTrue\u001b[39;00m\n",
      "\u001b[1;31mNameError\u001b[0m: name 'math' is not defined"
     ]
    }
   ],
   "source": [
    "math.isclose(0.1 + 0.1 + 0.1, 0.3)\n",
    "True"
   ]
  },
  {
   "cell_type": "markdown",
   "id": "3fa4ad05",
   "metadata": {},
   "source": [
    "Alternatively, the round() function can be used to compare rough approximations:\n",
    "\n"
   ]
  },
  {
   "cell_type": "code",
   "execution_count": 16,
   "id": "c63ba7b2",
   "metadata": {},
   "outputs": [
    {
     "ename": "NameError",
     "evalue": "name 'math' is not defined",
     "output_type": "error",
     "traceback": [
      "\u001b[1;31m---------------------------------------------------------------------------\u001b[0m",
      "\u001b[1;31mNameError\u001b[0m                                 Traceback (most recent call last)",
      "Cell \u001b[1;32mIn[16], line 1\u001b[0m\n\u001b[1;32m----> 1\u001b[0m \u001b[38;5;28mround\u001b[39m(math\u001b[38;5;241m.\u001b[39mpi, ndigits\u001b[38;5;241m=\u001b[39m\u001b[38;5;241m2\u001b[39m) \u001b[38;5;241m==\u001b[39m \u001b[38;5;28mround\u001b[39m(\u001b[38;5;241m22\u001b[39m \u001b[38;5;241m/\u001b[39m \u001b[38;5;241m7\u001b[39m, ndigits\u001b[38;5;241m=\u001b[39m\u001b[38;5;241m2\u001b[39m)\n\u001b[0;32m      2\u001b[0m \u001b[38;5;28;01mTrue\u001b[39;00m\n",
      "\u001b[1;31mNameError\u001b[0m: name 'math' is not defined"
     ]
    }
   ],
   "source": [
    "round(math.pi, ndigits=2) == round(22 / 7, ndigits=2)\n",
    "True"
   ]
  },
  {
   "cell_type": "markdown",
   "id": "cc1f12f9",
   "metadata": {},
   "source": [
    "Binary floating-point arithmetic holds many surprises like this. The problem with “0.1” is explained in precise detail below, in the “Representation Error” section. See Examples of Floating Point Problems for a pleasant summary of how binary floating-point works and the kinds of problems commonly encountered in practice. Also see The Perils of Floating Point for a more complete account of other common surprises.\n",
    "\n",
    "As that says near the end, “there are no easy answers.” Still, don’t be unduly wary of floating-point! The errors in Python float operations are inherited from the floating-point hardware, and on most machines are on the order of no more than 1 part in 2**53 per operation. That’s more than adequate for most tasks, but you do need to keep in mind that it’s not decimal arithmetic and that every float operation can suffer a new rounding error.\n",
    "\n",
    "While pathological cases do exist, for most casual use of floating-point arithmetic you’ll see the result you expect in the end if you simply round the display of your final results to the number of decimal digits you expect. str() usually suffices, and for finer control see the str.format() method’s format specifiers in Format String Syntax.\n",
    "\n",
    "For use cases which require exact decimal representation, try using the decimal module which implements decimal arithmetic suitable for accounting applications and high-precision applications.\n",
    "\n",
    "Another form of exact arithmetic is supported by the fractions module which implements arithmetic based on rational numbers (so the numbers like 1/3 can be represented exactly).\n",
    "\n",
    "If you are a heavy user of floating-point operations you should take a look at the NumPy package and many other packages for mathematical and statistical operations supplied by the SciPy project. See <https://scipy.org>.\n",
    "\n",
    "Python provides tools that may help on those rare occasions when you really do want to know the exact value of a float. The float.as_integer_ratio() method expresses the value of a float as a fraction:"
   ]
  },
  {
   "cell_type": "code",
   "execution_count": 17,
   "id": "b08e1847",
   "metadata": {},
   "outputs": [
    {
     "data": {
      "text/plain": [
       "(3537115888337719, 1125899906842624)"
      ]
     },
     "execution_count": 17,
     "metadata": {},
     "output_type": "execute_result"
    }
   ],
   "source": [
    "x = 3.14159\n",
    "x.as_integer_ratio()\n",
    "(3537115888337719, 1125899906842624)"
   ]
  },
  {
   "cell_type": "markdown",
   "id": "a5c2d832",
   "metadata": {},
   "source": [
    "Since the ratio is exact, it can be used to losslessly recreate the original value:\n"
   ]
  },
  {
   "cell_type": "code",
   "execution_count": 18,
   "id": "d8e0658b",
   "metadata": {},
   "outputs": [
    {
     "data": {
      "text/plain": [
       "True"
      ]
     },
     "execution_count": 18,
     "metadata": {},
     "output_type": "execute_result"
    }
   ],
   "source": [
    "x == 3537115888337719 / 1125899906842624\n",
    "True"
   ]
  },
  {
   "cell_type": "markdown",
   "id": "323b6ccd",
   "metadata": {},
   "source": [
    "The float.hex() method expresses a float in hexadecimal (base 16), again giving the exact value stored by your computer:"
   ]
  },
  {
   "cell_type": "code",
   "execution_count": 20,
   "id": "c73f5018",
   "metadata": {},
   "outputs": [
    {
     "data": {
      "text/plain": [
       "'0x1.921f9f01b866ep+1'"
      ]
     },
     "execution_count": 20,
     "metadata": {},
     "output_type": "execute_result"
    }
   ],
   "source": [
    "x.hex()\n",
    "'0x1.921f9f01b866ep+1'"
   ]
  },
  {
   "cell_type": "markdown",
   "id": "b433443f",
   "metadata": {},
   "source": [
    "This precise hexadecimal representation can be used to reconstruct the float value exactly:\n",
    "\n"
   ]
  },
  {
   "cell_type": "code",
   "execution_count": 21,
   "id": "939548c6",
   "metadata": {},
   "outputs": [
    {
     "data": {
      "text/plain": [
       "True"
      ]
     },
     "execution_count": 21,
     "metadata": {},
     "output_type": "execute_result"
    }
   ],
   "source": [
    "x == float.fromhex('0x1.921f9f01b866ep+1')\n",
    "True"
   ]
  },
  {
   "cell_type": "markdown",
   "id": "8e9d9c6e",
   "metadata": {},
   "source": [
    "Since the representation is exact, it is useful for reliably porting values across different versions of Python (platform independence) and exchanging data with other languages that support the same format (such as Java and C99)."
   ]
  },
  {
   "cell_type": "markdown",
   "id": "2af018ec",
   "metadata": {},
   "source": [
    "Another helpful tool is the sum() function which helps mitigate loss-of-precision during summation. It uses extended precision for intermediate rounding steps as values are added onto a running total. That can make a difference in overall accuracy so that the errors do not accumulate to the point where they affect the final total:\n",
    "\n"
   ]
  },
  {
   "cell_type": "code",
   "execution_count": 24,
   "id": "fd5d741b",
   "metadata": {},
   "outputs": [
    {
     "data": {
      "text/plain": [
       "True"
      ]
     },
     "execution_count": 24,
     "metadata": {},
     "output_type": "execute_result"
    }
   ],
   "source": [
    "0.1 + 0.1 + 0.1 + 0.1 + 0.1 + 0.1 + 0.1 + 0.1 + 0.1 + 0.1 == 1.0\n",
    "False\n",
    "sum([0.1] * 10) == 1.0\n",
    "True"
   ]
  },
  {
   "cell_type": "markdown",
   "id": "d4850a75",
   "metadata": {},
   "source": [
    "The math.fsum() goes further and tracks all of the “lost digits” as values are added onto a running total so that the result has only a single rounding. This is slower than sum() but will be more accurate in uncommon cases where large magnitude inputs mostly cancel each other out leaving a final sum near zero:\n",
    "\n"
   ]
  },
  {
   "cell_type": "code",
   "execution_count": 25,
   "id": "962d82ca",
   "metadata": {},
   "outputs": [
    {
     "ename": "SyntaxError",
     "evalue": "incomplete input (3799354961.py, line 14)",
     "output_type": "error",
     "traceback": [
      "\u001b[1;36m  Cell \u001b[1;32mIn[25], line 14\u001b[1;36m\u001b[0m\n\u001b[1;33m    -0.0051575902860057365\\\u001b[0m\n\u001b[1;37m                           ^\u001b[0m\n\u001b[1;31mSyntaxError\u001b[0m\u001b[1;31m:\u001b[0m incomplete input\n"
     ]
    }
   ],
   "source": [
    "arr = [-0.10430216751806065, -266310978.67179024, 143401161448607.16,\n",
    "       -143401161400469.7, 266262841.31058735, -0.003244936839808227]\n",
    "float(sum(map(Fraction, arr)))   # Exact summation with single rounding\n",
    "8.042173697819788e-13\n",
    "math.fsum(arr)                   # Single rounding\n",
    "8.042173697819788e-13\n",
    "sum(arr)                         # Multiple roundings in extended precision\n",
    "8.042178034628478e-13\n",
    "total = 0.0\n",
    "for x in arr:\n",
    "    total += x                   # Multiple roundings in standard precision\n",
    "\n",
    "total                            # Straight addition has no correct digits!\n",
    "-0.0051575902860057365\\\n"
   ]
  },
  {
   "cell_type": "markdown",
   "id": "d8100580",
   "metadata": {},
   "source": [
    "# 15.1. Representation Error\n"
   ]
  },
  {
   "cell_type": "code",
   "execution_count": null,
   "id": "0d77482a",
   "metadata": {},
   "outputs": [],
   "source": []
  }
 ],
 "metadata": {
  "kernelspec": {
   "display_name": "Python 3 (ipykernel)",
   "language": "python",
   "name": "python3"
  },
  "language_info": {
   "codemirror_mode": {
    "name": "ipython",
    "version": 3
   },
   "file_extension": ".py",
   "mimetype": "text/x-python",
   "name": "python",
   "nbconvert_exporter": "python",
   "pygments_lexer": "ipython3",
   "version": "3.11.4"
  }
 },
 "nbformat": 4,
 "nbformat_minor": 5
}
