{
 "cells": [
  {
   "cell_type": "markdown",
   "id": "66b010b4",
   "metadata": {},
   "source": [
    "https://docs.python.org/3/tutorial/index.html"
   ]
  },
  {
   "cell_type": "markdown",
   "id": "2ed20c3d",
   "metadata": {},
   "source": [
    "_4.8.5. Unpacking Argument Lists\n"
   ]
  },
  {
   "cell_type": "markdown",
   "id": "4b96ce3d",
   "metadata": {},
   "source": [
    "# 4.8.5. Распаковка списков аргументов¶\n"
   ]
  },
  {
   "cell_type": "markdown",
   "id": "babf4c31",
   "metadata": {},
   "source": [
    "Таким же образом словари могут передавать аргументы ключевых слов с помощью оператора **-:\n"
   ]
  },
  {
   "cell_type": "code",
   "execution_count": 2,
   "id": "85f039a0",
   "metadata": {},
   "outputs": [
    {
     "ename": "SyntaxError",
     "evalue": "unterminated string literal (detected at line 8) (1073673977.py, line 8)",
     "output_type": "error",
     "traceback": [
      "\u001b[1;36m  Cell \u001b[1;32mIn[2], line 8\u001b[1;36m\u001b[0m\n\u001b[1;33m    -- This parrot wouldn't VOOM if you put four million volts through it. E's bleedin' demised !\u001b[0m\n\u001b[1;37m                                                                                      ^\u001b[0m\n\u001b[1;31mSyntaxError\u001b[0m\u001b[1;31m:\u001b[0m unterminated string literal (detected at line 8)\n"
     ]
    }
   ],
   "source": [
    "def parrot(voltage, state='a stiff', action='voom'):\n",
    "    print(\"-- This parrot wouldn't\", action, end=' ')\n",
    "    print(\"if you put\", voltage, \"volts through it.\", end=' ')\n",
    "    print(\"E's\", state, \"!\")\n",
    "\n",
    "d = {\"voltage\": \"four million\", \"state\": \"bleedin' demised\", \"action\": \"VOOM\"}\n",
    "parrot(**d)\n",
    "-- This parrot wouldn't VOOM if you put four million volts through it. E's bleedin' demised !"
   ]
  },
  {
   "cell_type": "code",
   "execution_count": null,
   "id": "d29324f1",
   "metadata": {},
   "outputs": [],
   "source": []
  }
 ],
 "metadata": {
  "kernelspec": {
   "display_name": "Python 3 (ipykernel)",
   "language": "python",
   "name": "python3"
  },
  "language_info": {
   "codemirror_mode": {
    "name": "ipython",
    "version": 3
   },
   "file_extension": ".py",
   "mimetype": "text/x-python",
   "name": "python",
   "nbconvert_exporter": "python",
   "pygments_lexer": "ipython3",
   "version": "3.11.4"
  }
 },
 "nbformat": 4,
 "nbformat_minor": 5
}
