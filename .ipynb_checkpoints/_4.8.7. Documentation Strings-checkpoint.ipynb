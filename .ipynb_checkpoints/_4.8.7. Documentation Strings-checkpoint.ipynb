{
 "cells": [
  {
   "cell_type": "markdown",
   "id": "2a3a6ae9",
   "metadata": {},
   "source": [
    "https://docs.python.org/3/tutorial/index.html"
   ]
  },
  {
   "cell_type": "markdown",
   "id": "0703cc8b",
   "metadata": {},
   "source": [
    "_4.8.7. Documentation Strings\n"
   ]
  },
  {
   "cell_type": "markdown",
   "id": "e12e11ef",
   "metadata": {},
   "source": [
    "# 4.8.7. Documentation Strings\n",
    "Here are some conventions about the content and formatting of documentation strings.\n",
    "\n"
   ]
  },
  {
   "cell_type": "markdown",
   "id": "7f9787fe",
   "metadata": {},
   "source": [
    "The first line should always be a short, concise summary of the object’s purpose. For brevity, it should not explicitly state the object’s name or type, since these are available by other means (except if the name happens to be a verb describing a function’s operation). This line should begin with a capital letter and end with a period.\n",
    "\n"
   ]
  },
  {
   "cell_type": "markdown",
   "id": "7295d92f",
   "metadata": {},
   "source": [
    "If there are more lines in the documentation string, the second line should be blank, visually separating the summary from the rest of the description. The following lines should be one or more paragraphs describing the object’s calling conventions, its side effects, etc.\n",
    "\n"
   ]
  },
  {
   "cell_type": "markdown",
   "id": "b94ac342",
   "metadata": {},
   "source": [
    "The Python parser does not strip indentation from multi-line string literals in Python, so tools that process documentation have to strip indentation if desired. This is done using the following convention. The first non-blank line after the first line of the string determines the amount of indentation for the entire documentation string. (We can’t use the first line since it is generally adjacent to the string’s opening quotes so its indentation is not apparent in the string literal.) Whitespace “equivalent” to this indentation is then stripped from the start of all lines of the string. Lines that are indented less should not occur, but if they occur all their leading whitespace should be stripped. Equivalence of whitespace should be tested after expansion of tabs (to 8 spaces, normally).\n",
    "\n"
   ]
  },
  {
   "cell_type": "markdown",
   "id": "e1067c97",
   "metadata": {},
   "source": [
    "Here is an example of a multi-line docstring:\n",
    "\n"
   ]
  },
  {
   "cell_type": "code",
   "execution_count": 3,
   "id": "5bc72fef",
   "metadata": {},
   "outputs": [
    {
     "ename": "SyntaxError",
     "evalue": "unterminated string literal (detected at line 11) (2231702873.py, line 11)",
     "output_type": "error",
     "traceback": [
      "\u001b[1;36m  Cell \u001b[1;32mIn[3], line 11\u001b[1;36m\u001b[0m\n\u001b[1;33m    No, really, it doesn't do anything.\u001b[0m\n\u001b[1;37m                        ^\u001b[0m\n\u001b[1;31mSyntaxError\u001b[0m\u001b[1;31m:\u001b[0m unterminated string literal (detected at line 11)\n"
     ]
    }
   ],
   "source": [
    "def my_function():\n",
    "    \"\"\"Do nothing, but document it.\n",
    "\n",
    "    No, really, it doesn't do anything.\n",
    "    \"\"\"\n",
    "    pass\n",
    "\n",
    "print(my_function.__doc__)\n",
    "Do nothing, but document it.\n",
    "\n",
    "    No, really, it doesn't do anything."
   ]
  },
  {
   "cell_type": "code",
   "execution_count": null,
   "id": "f70e532b",
   "metadata": {},
   "outputs": [],
   "source": []
  }
 ],
 "metadata": {
  "kernelspec": {
   "display_name": "Python 3 (ipykernel)",
   "language": "python",
   "name": "python3"
  },
  "language_info": {
   "codemirror_mode": {
    "name": "ipython",
    "version": 3
   },
   "file_extension": ".py",
   "mimetype": "text/x-python",
   "name": "python",
   "nbconvert_exporter": "python",
   "pygments_lexer": "ipython3",
   "version": "3.11.4"
  }
 },
 "nbformat": 4,
 "nbformat_minor": 5
}
