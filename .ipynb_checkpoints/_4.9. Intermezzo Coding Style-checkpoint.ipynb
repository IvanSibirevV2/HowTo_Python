{
 "cells": [
  {
   "cell_type": "markdown",
   "id": "fdff30ef",
   "metadata": {},
   "source": [
    "https://docs.python.org/3/tutorial/index.html"
   ]
  },
  {
   "cell_type": "markdown",
   "id": "0fcfcf8e",
   "metadata": {},
   "source": [
    "_4.9. Intermezzo Coding Style"
   ]
  },
  {
   "cell_type": "markdown",
   "id": "1b134b9b",
   "metadata": {},
   "source": [
    "# 4.9. Intermezzo: Coding Style¶\n"
   ]
  },
  {
   "cell_type": "markdown",
   "id": "5c515578",
   "metadata": {},
   "source": [
    "Now that you are about to write longer, more complex pieces of Python, it is a good time to talk about coding style. Most languages can be written (or more concise, formatted) in different styles; some are more readable than others. Making it easy for others to read your code is always a good idea, and adopting a nice coding style helps tremendously for that.\n",
    "\n"
   ]
  },
  {
   "cell_type": "markdown",
   "id": "33792963",
   "metadata": {},
   "source": [
    "For Python, PEP 8 has emerged as the style guide that most projects adhere to; it promotes a very readable and eye-pleasing coding style. Every Python developer should read it at some point; here are the most important points extracted for you:\n",
    "\n"
   ]
  },
  {
   "cell_type": "markdown",
   "id": "52737e32",
   "metadata": {},
   "source": [
    "Use 4-space indentation, and no tabs.\n",
    "\n"
   ]
  },
  {
   "cell_type": "markdown",
   "id": "6f2cab28",
   "metadata": {},
   "source": [
    "4 spaces are a good compromise between small indentation (allows greater nesting depth) and large indentation (easier to read). Tabs introduce confusion, and are best left out.\n",
    "\n"
   ]
  },
  {
   "cell_type": "markdown",
   "id": "68d1d0d8",
   "metadata": {},
   "source": [
    "Wrap lines so that they don’t exceed 79 characters.\n",
    "\n"
   ]
  },
  {
   "cell_type": "markdown",
   "id": "e7e411eb",
   "metadata": {},
   "source": [
    "This helps users with small displays and makes it possible to have several code files side-by-side on larger displays.\n",
    "\n"
   ]
  },
  {
   "cell_type": "markdown",
   "id": "a6ec1f24",
   "metadata": {},
   "source": [
    "Use blank lines to separate functions and classes, and larger blocks of code inside functions.\n",
    "\n",
    "When possible, put comments on a line of their own.\n",
    "\n",
    "Use docstrings.\n",
    "\n",
    "Use spaces around operators and after commas, but not directly inside bracketing constructs: a = f(1, 2) + g(3, 4).\n",
    "\n",
    "Name your classes and functions consistently; the convention is to use UpperCamelCase for classes and lowercase_with_underscores for functions and methods. Always use self as the name for the first method argument (see A First Look at Classes for more on classes and methods).\n",
    "\n",
    "Don’t use fancy encodings if your code is meant to be used in international environments. Python’s default, UTF-8, or even plain ASCII work best in any case.\n",
    "\n",
    "Likewise, don’t use non-ASCII characters in identifiers if there is only the slightest chance people speaking a different language will read or maintain the code."
   ]
  },
  {
   "cell_type": "markdown",
   "id": "4f70b2d8",
   "metadata": {},
   "source": [
    "Footnotes\n",
    "\n",
    "1\n",
    "Actually, call by object reference would be a better description, since if a mutable object is passed, the caller will see any changes the callee makes to it (items inserted into a list).\n",
    "\n",
    "© Copyright 2001-2024, Python Software Foundation.\n",
    "This page is licensed under the Python Software Foundation License Version 2.\n",
    "Examples, recipes, and other code in the documentation are additionally licensed under the Zero Clause BSD License.\n",
    "See History and License for more information.\n",
    "\n",
    "The Python Software Foundation is a non-profit corporation. Please donate.\n",
    "\n",
    "Last updated on Jan 20, 2024 (16:15 UTC). Found a bug?\n",
    "Created using Sphinx 4.5.0."
   ]
  },
  {
   "cell_type": "code",
   "execution_count": null,
   "id": "291ed919",
   "metadata": {},
   "outputs": [],
   "source": []
  }
 ],
 "metadata": {
  "kernelspec": {
   "display_name": "Python 3 (ipykernel)",
   "language": "python",
   "name": "python3"
  },
  "language_info": {
   "codemirror_mode": {
    "name": "ipython",
    "version": 3
   },
   "file_extension": ".py",
   "mimetype": "text/x-python",
   "name": "python",
   "nbconvert_exporter": "python",
   "pygments_lexer": "ipython3",
   "version": "3.11.4"
  }
 },
 "nbformat": 4,
 "nbformat_minor": 5
}
