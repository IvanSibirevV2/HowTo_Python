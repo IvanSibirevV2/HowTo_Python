{
 "cells": [
  {
   "attachments": {},
   "cell_type": "markdown",
   "id": "41df24c4",
   "metadata": {},
   "source": [
    "https://docs.python.org/3/tutorial/interactive.html"
   ]
  },
  {
   "cell_type": "markdown",
   "id": "c93303b8",
   "metadata": {},
   "source": [
    "_14. Interactive Input Editing and History Substitution"
   ]
  },
  {
   "cell_type": "markdown",
   "id": "a38c508d",
   "metadata": {},
   "source": [
    "# 14. Interactive Input Editing and History Substitution\n"
   ]
  },
  {
   "cell_type": "markdown",
   "id": "74d89758",
   "metadata": {},
   "source": [
    "Some versions of the Python interpreter support editing of the current input line and history substitution, similar to facilities found in the Korn shell and the GNU Bash shell. This is implemented using the GNU Readline library, which supports various styles of editing. This library has its own documentation which we won’t duplicate here.\n",
    "\n"
   ]
  },
  {
   "cell_type": "markdown",
   "id": "95730105",
   "metadata": {},
   "source": [
    "# 14.1. Tab Completion and History Editing¶\n"
   ]
  },
  {
   "cell_type": "markdown",
   "id": "5b5ee9df",
   "metadata": {},
   "source": [
    "Completion of variable and module names is automatically enabled at interpreter startup so that the Tab key invokes the completion function; it looks at Python statement names, the current local variables, and the available module names. For dotted expressions such as string.a, it will evaluate the expression up to the final '.' and then suggest completions from the attributes of the resulting object. Note that this may execute application-defined code if an object with a __getattr__() method is part of the expression. The default configuration also saves your history into a file named .python_history in your user directory. The history will be available again during the next interactive interpreter session.\n",
    "\n",
    "\n"
   ]
  },
  {
   "cell_type": "markdown",
   "id": "464effed",
   "metadata": {},
   "source": [
    "# 14.2. Alternatives to the Interactive Interpreter\n"
   ]
  },
  {
   "cell_type": "markdown",
   "id": "6e58a241",
   "metadata": {},
   "source": [
    "This facility is an enormous step forward compared to earlier versions of the interpreter; however, some wishes are left: It would be nice if the proper indentation were suggested on continuation lines (the parser knows if an indent token is required next). The completion mechanism might use the interpreter’s symbol table. A command to check (or even suggest) matching parentheses, quotes, etc., would also be useful.\n",
    "\n"
   ]
  },
  {
   "cell_type": "markdown",
   "id": "6a1c7fde",
   "metadata": {},
   "source": [
    "One alternative enhanced interactive interpreter that has been around for quite some time is IPython, which features tab completion, object exploration and advanced history management. It can also be thoroughly customized and embedded into other applications. Another similar enhanced interactive environment is bpython.\n",
    "\n"
   ]
  },
  {
   "cell_type": "code",
   "execution_count": null,
   "id": "a35f79b3",
   "metadata": {},
   "outputs": [],
   "source": []
  }
 ],
 "metadata": {
  "kernelspec": {
   "display_name": "Python 3 (ipykernel)",
   "language": "python",
   "name": "python3"
  },
  "language_info": {
   "codemirror_mode": {
    "name": "ipython",
    "version": 3
   },
   "file_extension": ".py",
   "mimetype": "text/x-python",
   "name": "python",
   "nbconvert_exporter": "python",
   "pygments_lexer": "ipython3",
   "version": "3.11.4"
  }
 },
 "nbformat": 4,
 "nbformat_minor": 5
}
