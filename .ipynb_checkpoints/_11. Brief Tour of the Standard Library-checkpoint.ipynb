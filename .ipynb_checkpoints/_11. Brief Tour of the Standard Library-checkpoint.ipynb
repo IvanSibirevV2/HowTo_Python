{
 "cells": [
  {
   "cell_type": "markdown",
   "id": "521d2b40",
   "metadata": {},
   "source": [
    "https://docs.python.org/3/tutorial/index.html"
   ]
  },
  {
   "cell_type": "markdown",
   "id": "0b9930f0",
   "metadata": {},
   "source": [
    "_11. Brief Tour of the Standard Library\n"
   ]
  },
  {
   "cell_type": "markdown",
   "id": "2831fd5c",
   "metadata": {},
   "source": [
    "# 11. Brief Tour of the Standard Library — Part II"
   ]
  },
  {
   "cell_type": "markdown",
   "id": "42166150",
   "metadata": {},
   "source": [
    "This second tour covers more advanced modules that support professional programming needs. These modules rarely occur in small scripts.\n",
    "\n"
   ]
  },
  {
   "cell_type": "markdown",
   "id": "49a488c5",
   "metadata": {},
   "source": [
    "# 11.1. Output Formatting¶\n"
   ]
  },
  {
   "cell_type": "markdown",
   "id": "a19d13a9",
   "metadata": {},
   "source": [
    "The reprlib module provides a version of repr() customized for abbreviated displays of large or deeply nested containers:\n",
    "\n"
   ]
  },
  {
   "cell_type": "code",
   "execution_count": 1,
   "id": "f9c02a4e",
   "metadata": {},
   "outputs": [
    {
     "data": {
      "text/plain": [
       "\"{'a', 'c', 'd', 'e', 'f', 'g', ...}\""
      ]
     },
     "execution_count": 1,
     "metadata": {},
     "output_type": "execute_result"
    }
   ],
   "source": [
    "import reprlib\n",
    "reprlib.repr(set('supercalifragilisticexpialidocious'))\n",
    "\"{'a', 'c', 'd', 'e', 'f', 'g', ...}\""
   ]
  },
  {
   "cell_type": "markdown",
   "id": "54b8e7ca",
   "metadata": {},
   "source": [
    "The pprint module offers more sophisticated control over printing both built-in and user defined objects in a way that is readable by the interpreter. When the result is longer than one line, the “pretty printer” adds line breaks and indentation to more clearly reveal data structure:\n",
    "\n"
   ]
  },
  {
   "cell_type": "code",
   "execution_count": 2,
   "id": "9f05f57c",
   "metadata": {},
   "outputs": [
    {
     "name": "stdout",
     "output_type": "stream",
     "text": [
      "[[[['black', 'cyan'],\n",
      "   'white',\n",
      "   ['green', 'red']],\n",
      "  [['magenta', 'yellow'],\n",
      "   'blue']]]\n"
     ]
    },
    {
     "data": {
      "text/plain": [
       "[[[['black', 'cyan'], 'white', ['green', 'red']],\n",
       "  [['magenta', 'yellow'], 'blue']]]"
      ]
     },
     "execution_count": 2,
     "metadata": {},
     "output_type": "execute_result"
    }
   ],
   "source": [
    "import pprint\n",
    "t = [[[['black', 'cyan'], 'white', ['green', 'red']], [['magenta',\n",
    "    'yellow'], 'blue']]]\n",
    "\n",
    "pprint.pprint(t, width=30)\n",
    "[[[['black', 'cyan'],\n",
    "   'white',\n",
    "   ['green', 'red']],\n",
    "  [['magenta', 'yellow'],\n",
    "   'blue']]]"
   ]
  },
  {
   "cell_type": "markdown",
   "id": "9d72c12a",
   "metadata": {},
   "source": [
    "The textwrap module formats paragraphs of text to fit a given screen width:\n",
    "\n"
   ]
  },
  {
   "cell_type": "code",
   "execution_count": 3,
   "id": "9a72ba16",
   "metadata": {},
   "outputs": [
    {
     "ename": "SyntaxError",
     "evalue": "invalid syntax (531051691.py, line 7)",
     "output_type": "error",
     "traceback": [
      "\u001b[1;36m  Cell \u001b[1;32mIn[3], line 7\u001b[1;36m\u001b[0m\n\u001b[1;33m    The wrap() method is just like fill()\u001b[0m\n\u001b[1;37m        ^\u001b[0m\n\u001b[1;31mSyntaxError\u001b[0m\u001b[1;31m:\u001b[0m invalid syntax\n"
     ]
    }
   ],
   "source": [
    "import textwrap\n",
    "doc = \"\"\"The wrap() method is just like fill() except that it returns\n",
    "a list of strings instead of one big string with newlines to separate\n",
    "the wrapped lines.\"\"\"\n",
    "\n",
    "print(textwrap.fill(doc, width=40))\n",
    "The wrap() method is just like fill()\n",
    "except that it returns a list of strings\n",
    "instead of one big string with newlines\n",
    "to separate the wrapped lines."
   ]
  },
  {
   "cell_type": "markdown",
   "id": "45ae9698",
   "metadata": {},
   "source": [
    "The locale module accesses a database of culture specific data formats. The grouping attribute of locale’s format function provides a direct way of formatting numbers with group separators:\n",
    "\n"
   ]
  },
  {
   "cell_type": "code",
   "execution_count": 4,
   "id": "8d2bc29b",
   "metadata": {},
   "outputs": [
    {
     "data": {
      "text/plain": [
       "'$1,234,567.80'"
      ]
     },
     "execution_count": 4,
     "metadata": {},
     "output_type": "execute_result"
    }
   ],
   "source": [
    "import locale\n",
    "locale.setlocale(locale.LC_ALL, 'English_United States.1252')\n",
    "'English_United States.1252'\n",
    "conv = locale.localeconv()          # get a mapping of conventions\n",
    "x = 1234567.8\n",
    "locale.format_string(\"%d\", x, grouping=True)\n",
    "'1,234,567'\n",
    "locale.format_string(\"%s%.*f\", (conv['currency_symbol'],\n",
    "                     conv['frac_digits'], x), grouping=True)\n",
    "'$1,234,567.80'"
   ]
  },
  {
   "cell_type": "markdown",
   "id": "3989912d",
   "metadata": {},
   "source": [
    "# 11.2. Templating\n"
   ]
  },
  {
   "cell_type": "code",
   "execution_count": null,
   "id": "0a57273d",
   "metadata": {},
   "outputs": [],
   "source": []
  }
 ],
 "metadata": {
  "kernelspec": {
   "display_name": "Python 3 (ipykernel)",
   "language": "python",
   "name": "python3"
  },
  "language_info": {
   "codemirror_mode": {
    "name": "ipython",
    "version": 3
   },
   "file_extension": ".py",
   "mimetype": "text/x-python",
   "name": "python",
   "nbconvert_exporter": "python",
   "pygments_lexer": "ipython3",
   "version": "3.11.4"
  }
 },
 "nbformat": 4,
 "nbformat_minor": 5
}
