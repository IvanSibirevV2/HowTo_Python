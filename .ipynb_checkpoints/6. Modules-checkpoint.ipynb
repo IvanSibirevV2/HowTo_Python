{
 "cells": [
  {
   "cell_type": "markdown",
   "id": "c3a0f630",
   "metadata": {},
   "source": [
    "https://docs.python.org/3/tutorial/index.html"
   ]
  },
  {
   "cell_type": "markdown",
   "id": "e4f9274b",
   "metadata": {},
   "source": [
    "_6. Modules"
   ]
  },
  {
   "cell_type": "markdown",
   "id": "92c8a173",
   "metadata": {},
   "source": [
    "# 6. Modules¶\n"
   ]
  },
  {
   "cell_type": "markdown",
   "id": "0e01e8f7",
   "metadata": {},
   "source": [
    "Если вы выйдете из интерпретатора Python и войдете в него снова, сделанные вами определения (функции и переменные) будут потеряны. Поэтому, если вы хотите написать более длинную программу, вам лучше использовать текстовый редактор для подготовки входных данных для интерпретатора и запускать ее с этим файлом в качестве входных данных. Это называется созданием сценария. По мере увеличения объема вашей программы вы можете захотеть разделить ее на несколько файлов для упрощения обслуживания. Возможно, вы также захотите использовать удобную функцию, которую вы написали в нескольких программах, не копируя ее определение в каждую программу."
   ]
  },
  {
   "cell_type": "markdown",
   "id": "ff506983",
   "metadata": {},
   "source": [
    "Чтобы поддержать это, в Python есть способ помещать определения в файл и использовать их в скрипте или в интерактивном экземпляре интерпретатора. Такой файл называется модулем; определения из модуля могут быть импортированы в другие модули или в основной модуль (набор переменных, к которым у вас есть доступ в скрипте, выполняемом на верхнем уровне и в режиме калькулятора).\n"
   ]
  },
  {
   "cell_type": "markdown",
   "id": "f2e712c4",
   "metadata": {},
   "source": [
    "Модуль - это файл, содержащий определения и инструкции Python. Имя файла - это имя модуля с добавлением суффикса .py. Внутри модуля имя модуля (в виде строки) доступно в качестве значения глобальной переменной __name__. Например, с помощью вашего любимого текстового редактора создайте в текущем каталоге файл под названием fibo.py со следующим содержимым:\n"
   ]
  },
  {
   "cell_type": "code",
   "execution_count": 1,
   "id": "88afeb35",
   "metadata": {},
   "outputs": [],
   "source": [
    "# Fibonacci numbers module\n",
    "\n",
    "def fib(n):    # write Fibonacci series up to n\n",
    "    a, b = 0, 1\n",
    "    while a < n:\n",
    "        print(a, end=' ')\n",
    "        a, b = b, a+b\n",
    "    print()\n",
    "\n",
    "def fib2(n):   # return Fibonacci series up to n\n",
    "    result = []\n",
    "    a, b = 0, 1\n",
    "    while a < n:\n",
    "        result.append(a)\n",
    "        a, b = b, a+b\n",
    "    return result"
   ]
  },
  {
   "cell_type": "markdown",
   "id": "4f9d5ed1",
   "metadata": {},
   "source": [
    "\n",
    "Теперь войдите в интерпретатор Python и импортируйте этот модуль с помощью следующей команды:\n"
   ]
  },
  {
   "cell_type": "code",
   "execution_count": 2,
   "id": "a829895a",
   "metadata": {},
   "outputs": [
    {
     "ename": "ModuleNotFoundError",
     "evalue": "No module named 'fibo'",
     "output_type": "error",
     "traceback": [
      "\u001b[1;31m---------------------------------------------------------------------------\u001b[0m",
      "\u001b[1;31mModuleNotFoundError\u001b[0m                       Traceback (most recent call last)",
      "Cell \u001b[1;32mIn[2], line 1\u001b[0m\n\u001b[1;32m----> 1\u001b[0m \u001b[38;5;28;01mimport\u001b[39;00m \u001b[38;5;21;01mfibo\u001b[39;00m\n",
      "\u001b[1;31mModuleNotFoundError\u001b[0m: No module named 'fibo'"
     ]
    }
   ],
   "source": [
    "import fibo"
   ]
  },
  {
   "cell_type": "markdown",
   "id": "404ddfac",
   "metadata": {},
   "source": [
    "\n",
    "При этом имена функций, определенных в fibo, не добавляются непосредственно в текущее пространство имен (более подробную информацию смотрите в разделе Области и пространства имен Python); туда добавляется только имя модуля fibo. Используя имя модуля, вы можете получить доступ к функциям:\n"
   ]
  },
  {
   "cell_type": "code",
   "execution_count": 4,
   "id": "a0c379dd",
   "metadata": {},
   "outputs": [
    {
     "ename": "SyntaxError",
     "evalue": "invalid syntax (288760335.py, line 2)",
     "output_type": "error",
     "traceback": [
      "\u001b[1;36m  Cell \u001b[1;32mIn[4], line 2\u001b[1;36m\u001b[0m\n\u001b[1;33m    0 1 1 2 3 5 8 13 21 34 55 89 144 233 377 610 987\u001b[0m\n\u001b[1;37m      ^\u001b[0m\n\u001b[1;31mSyntaxError\u001b[0m\u001b[1;31m:\u001b[0m invalid syntax\n"
     ]
    }
   ],
   "source": [
    "fibo.fib(1000)\n",
    "0 1 1 2 3 5 8 13 21 34 55 89 144 233 377 610 987\n",
    "fibo.fib2(100)\n",
    "[0, 1, 1, 2, 3, 5, 8, 13, 21, 34, 55, 89]\n",
    "fibo.__name__\n",
    "'fibo'"
   ]
  },
  {
   "cell_type": "markdown",
   "id": "ff025d2e",
   "metadata": {},
   "source": [
    "Если вы собираетесь часто использовать какую-либо функцию, вы можете присвоить ей локальное имя:\n",
    "\n"
   ]
  },
  {
   "cell_type": "code",
   "execution_count": 6,
   "id": "8f5ed344",
   "metadata": {},
   "outputs": [
    {
     "ename": "SyntaxError",
     "evalue": "invalid syntax (1046930736.py, line 3)",
     "output_type": "error",
     "traceback": [
      "\u001b[1;36m  Cell \u001b[1;32mIn[6], line 3\u001b[1;36m\u001b[0m\n\u001b[1;33m    0 1 1 2 3 5 8 13 21 34 55 89 144 233 377\u001b[0m\n\u001b[1;37m      ^\u001b[0m\n\u001b[1;31mSyntaxError\u001b[0m\u001b[1;31m:\u001b[0m invalid syntax\n"
     ]
    }
   ],
   "source": [
    "fib = fibo.fib\n",
    "fib(500)\n",
    "0 1 1 2 3 5 8 13 21 34 55 89 144 233 377"
   ]
  },
  {
   "cell_type": "markdown",
   "id": "940a1f5d",
   "metadata": {},
   "source": [
    "# 6.1. More on Modules¶\n"
   ]
  },
  {
   "cell_type": "markdown",
   "id": "9d6e233a",
   "metadata": {},
   "source": [
    "Модуль может содержать как исполняемые инструкции, так и определения функций. Эти инструкции предназначены для инициализации модуля. Они выполняются только при первом появлении имени модуля в инструкции импорта. [1] (Они также выполняются, если файл выполняется как скрипт.)\n",
    "\n"
   ]
  },
  {
   "cell_type": "markdown",
   "id": "236aea5c",
   "metadata": {},
   "source": [
    "\n",
    "\n",
    "Каждый модуль имеет свое собственное частное пространство имен, которое используется в качестве глобального пространства имен всеми функциями, определенными в модуле. Таким образом, автор модуля может использовать глобальные переменные в модуле, не беспокоясь о случайных столкновениях с глобальными переменными пользователя. С другой стороны, если вы знаете, что делаете, вы можете использовать для глобальных переменных модуля те же обозначения, которые используются для обозначения его функций, modname.itemname."
   ]
  },
  {
   "cell_type": "markdown",
   "id": "0874ecff",
   "metadata": {},
   "source": [
    "\n",
    "Модули могут импортировать другие модули. Обычно, но не обязательно, все инструкции по импорту размещаются в начале модуля (или скрипта, если на то пошло). Импортированные имена модулей, если они размещены на верхнем уровне модуля (вне каких-либо функций или классов), добавляются в глобальное пространство имен модуля.\n"
   ]
  },
  {
   "cell_type": "markdown",
   "id": "d82a75ef",
   "metadata": {},
   "source": [
    "\n",
    "Существует вариант инструкции import, которая импортирует имена из модуля непосредственно в пространство имен импортирующего модуля. Например:\n"
   ]
  },
  {
   "cell_type": "code",
   "execution_count": 7,
   "id": "68de9c14",
   "metadata": {},
   "outputs": [
    {
     "ename": "SyntaxError",
     "evalue": "invalid syntax (616464140.py, line 3)",
     "output_type": "error",
     "traceback": [
      "\u001b[1;36m  Cell \u001b[1;32mIn[7], line 3\u001b[1;36m\u001b[0m\n\u001b[1;33m    0 1 1 2 3 5 8 13 21 34 55 89 144 233 377\u001b[0m\n\u001b[1;37m      ^\u001b[0m\n\u001b[1;31mSyntaxError\u001b[0m\u001b[1;31m:\u001b[0m invalid syntax\n"
     ]
    }
   ],
   "source": [
    "from fibo import fib, fib2\n",
    "fib(500)\n",
    "0 1 1 2 3 5 8 13 21 34 55 89 144 233 377"
   ]
  },
  {
   "cell_type": "markdown",
   "id": "3f0f6ac8",
   "metadata": {},
   "source": [
    "При этом имя модуля, из которого выполняется импорт, не отображается в локальном пространстве имен (поэтому в примере fibo не определен). Существует даже вариант импорта всех имен, определенных модулем:\n",
    "\n"
   ]
  },
  {
   "cell_type": "code",
   "execution_count": 8,
   "id": "3ef00f4e",
   "metadata": {},
   "outputs": [
    {
     "ename": "SyntaxError",
     "evalue": "invalid syntax (3424147759.py, line 3)",
     "output_type": "error",
     "traceback": [
      "\u001b[1;36m  Cell \u001b[1;32mIn[8], line 3\u001b[1;36m\u001b[0m\n\u001b[1;33m    0 1 1 2 3 5 8 13 21 34 55 89 144 233 377\u001b[0m\n\u001b[1;37m      ^\u001b[0m\n\u001b[1;31mSyntaxError\u001b[0m\u001b[1;31m:\u001b[0m invalid syntax\n"
     ]
    }
   ],
   "source": [
    "from fibo import *\n",
    "fib(500)\n",
    "0 1 1 2 3 5 8 13 21 34 55 89 144 233 377"
   ]
  },
  {
   "cell_type": "markdown",
   "id": "53a793ca",
   "metadata": {},
   "source": [
    "При этом импортируются все имена, кроме тех, которые начинаются со знака подчеркивания (_). В большинстве случаев программисты на Python не используют эту возможность, поскольку она вводит в интерпретатор неизвестный набор имен, возможно, скрывая некоторые вещи, которые вы уже определили.\n",
    "\n",
    "Обратите внимание, что в целом к практике импорта * из модуля или пакета относятся неодобрительно, поскольку это часто приводит к трудночитаемому коду. Однако это можно использовать для экономии ввода в интерактивных сессиях.\n",
    "\n",
    "Если за именем модуля следует as, то имя, следующее за as, привязывается непосредственно к импортированному модулю."
   ]
  },
  {
   "cell_type": "code",
   "execution_count": 10,
   "id": "8da6e176",
   "metadata": {},
   "outputs": [
    {
     "ename": "SyntaxError",
     "evalue": "invalid syntax (3388184843.py, line 3)",
     "output_type": "error",
     "traceback": [
      "\u001b[1;36m  Cell \u001b[1;32mIn[10], line 3\u001b[1;36m\u001b[0m\n\u001b[1;33m    0 1 1 2 3 5 8 13 21 34 55 89 144 233 377\u001b[0m\n\u001b[1;37m      ^\u001b[0m\n\u001b[1;31mSyntaxError\u001b[0m\u001b[1;31m:\u001b[0m invalid syntax\n"
     ]
    }
   ],
   "source": [
    "import fibo as fib\n",
    "fib.fib(500)\n",
    "0 1 1 2 3 5 8 13 21 34 55 89 144 233 377"
   ]
  },
  {
   "cell_type": "markdown",
   "id": "63512edb",
   "metadata": {},
   "source": [
    "По сути, это импорт модуля таким же образом, как и импорт fibo, с той лишь разницей, что он доступен как fib.\n",
    "\n",
    "Его также можно использовать при использовании from с аналогичными эффектами:"
   ]
  },
  {
   "cell_type": "code",
   "execution_count": 11,
   "id": "85bb54b0",
   "metadata": {},
   "outputs": [
    {
     "ename": "SyntaxError",
     "evalue": "invalid syntax (1621787296.py, line 3)",
     "output_type": "error",
     "traceback": [
      "\u001b[1;36m  Cell \u001b[1;32mIn[11], line 3\u001b[1;36m\u001b[0m\n\u001b[1;33m    0 1 1 2 3 5 8 13 21 34 55 89 144 233 377\u001b[0m\n\u001b[1;37m      ^\u001b[0m\n\u001b[1;31mSyntaxError\u001b[0m\u001b[1;31m:\u001b[0m invalid syntax\n"
     ]
    }
   ],
   "source": [
    "from fibo import fib as fibonacci\n",
    "fibonacci(500)\n",
    "0 1 1 2 3 5 8 13 21 34 55 89 144 233 377"
   ]
  },
  {
   "cell_type": "markdown",
   "id": "7b438b37",
   "metadata": {},
   "source": [
    "Обратите внимание, что в целях повышения эффективности каждый модуль импортируется только один раз за сеанс перевода. Поэтому, если вы меняете свои модули, вы должны перезапустить интерпретатор – или, если вы хотите протестировать в интерактивном режиме только один модуль, используйте importlib.reload(), например, import importlib; importlib.reload(имя_модуля)."
   ]
  },
  {
   "cell_type": "markdown",
   "id": "6c2a030b",
   "metadata": {},
   "source": [
    "# 6.1.1. Executing modules as scripts¶\n"
   ]
  },
  {
   "cell_type": "markdown",
   "id": "87e2c05d",
   "metadata": {},
   "source": [
    "\n",
    "Когда вы запускаете модуль Python с\n"
   ]
  },
  {
   "cell_type": "code",
   "execution_count": 12,
   "id": "36a269ea",
   "metadata": {},
   "outputs": [
    {
     "ename": "SyntaxError",
     "evalue": "invalid syntax (2964399417.py, line 1)",
     "output_type": "error",
     "traceback": [
      "\u001b[1;36m  Cell \u001b[1;32mIn[12], line 1\u001b[1;36m\u001b[0m\n\u001b[1;33m    python fibo.py <arguments>\u001b[0m\n\u001b[1;37m           ^\u001b[0m\n\u001b[1;31mSyntaxError\u001b[0m\u001b[1;31m:\u001b[0m invalid syntax\n"
     ]
    }
   ],
   "source": [
    "python fibo.py <arguments>"
   ]
  },
  {
   "cell_type": "markdown",
   "id": "e3b2d098",
   "metadata": {},
   "source": [
    "код в модуле будет выполнен так же, как если бы вы его импортировали, но с именем __name__, равным \"__main__\". Это означает, что при добавлении этого кода в конец вашего модуля:"
   ]
  },
  {
   "cell_type": "code",
   "execution_count": 13,
   "id": "2478e14a",
   "metadata": {},
   "outputs": [
    {
     "ename": "ValueError",
     "evalue": "invalid literal for int() with base 10: '-f'",
     "output_type": "error",
     "traceback": [
      "\u001b[1;31m---------------------------------------------------------------------------\u001b[0m",
      "\u001b[1;31mValueError\u001b[0m                                Traceback (most recent call last)",
      "Cell \u001b[1;32mIn[13], line 3\u001b[0m\n\u001b[0;32m      1\u001b[0m \u001b[38;5;28;01mif\u001b[39;00m \u001b[38;5;18m__name__\u001b[39m \u001b[38;5;241m==\u001b[39m \u001b[38;5;124m\"\u001b[39m\u001b[38;5;124m__main__\u001b[39m\u001b[38;5;124m\"\u001b[39m:\n\u001b[0;32m      2\u001b[0m     \u001b[38;5;28;01mimport\u001b[39;00m \u001b[38;5;21;01msys\u001b[39;00m\n\u001b[1;32m----> 3\u001b[0m     fib(\u001b[38;5;28mint\u001b[39m(sys\u001b[38;5;241m.\u001b[39margv[\u001b[38;5;241m1\u001b[39m]))\n",
      "\u001b[1;31mValueError\u001b[0m: invalid literal for int() with base 10: '-f'"
     ]
    }
   ],
   "source": [
    "if __name__ == \"__main__\":\n",
    "    import sys\n",
    "    fib(int(sys.argv[1]))"
   ]
  },
  {
   "cell_type": "markdown",
   "id": "64d1fc42",
   "metadata": {},
   "source": [
    "\n",
    "вы можете использовать этот файл как скрипт, а также как импортируемый модуль, поскольку код, который анализирует командную строку, запускается только в том случае, если модуль выполняется как “основной” файл:\n"
   ]
  },
  {
   "cell_type": "code",
   "execution_count": 14,
   "id": "557090d5",
   "metadata": {},
   "outputs": [
    {
     "ename": "SyntaxError",
     "evalue": "invalid syntax (3008668733.py, line 1)",
     "output_type": "error",
     "traceback": [
      "\u001b[1;36m  Cell \u001b[1;32mIn[14], line 1\u001b[1;36m\u001b[0m\n\u001b[1;33m    python fibo.py 50\u001b[0m\n\u001b[1;37m           ^\u001b[0m\n\u001b[1;31mSyntaxError\u001b[0m\u001b[1;31m:\u001b[0m invalid syntax\n"
     ]
    }
   ],
   "source": [
    "python fibo.py 50\n",
    "0 1 1 2 3 5 8 13 21 34"
   ]
  },
  {
   "cell_type": "markdown",
   "id": "05c45e2a",
   "metadata": {},
   "source": [
    "Если модуль импортирован, код не запускается:\n",
    "\n"
   ]
  },
  {
   "cell_type": "code",
   "execution_count": 15,
   "id": "36192608",
   "metadata": {},
   "outputs": [
    {
     "ename": "ModuleNotFoundError",
     "evalue": "No module named 'fibo'",
     "output_type": "error",
     "traceback": [
      "\u001b[1;31m---------------------------------------------------------------------------\u001b[0m",
      "\u001b[1;31mModuleNotFoundError\u001b[0m                       Traceback (most recent call last)",
      "Cell \u001b[1;32mIn[15], line 1\u001b[0m\n\u001b[1;32m----> 1\u001b[0m \u001b[38;5;28;01mimport\u001b[39;00m \u001b[38;5;21;01mfibo\u001b[39;00m\n",
      "\u001b[1;31mModuleNotFoundError\u001b[0m: No module named 'fibo'"
     ]
    }
   ],
   "source": [
    "import fibo"
   ]
  },
  {
   "cell_type": "markdown",
   "id": "f4121bac",
   "metadata": {},
   "source": [
    "Это часто используется либо для обеспечения удобного пользовательского интерфейса модуля, либо в целях тестирования (при запуске модуля в виде сценария выполняется набор тестов).\n",
    "\n"
   ]
  },
  {
   "cell_type": "markdown",
   "id": "e66e09cf",
   "metadata": {},
   "source": [
    "# 6.1.2. The Module Search Path\n",
    "\n",
    "Это часто используется либо для обеспечения удобного пользовательского интерфейса модуля, либо в целях тестирования (при запуске модуля в виде сценария выполняется набор тестов).\n",
    "\n",
    "PYTHONPATH (список имен каталогов с тем же синтаксисом, что и у переменных оболочки PATH).\n",
    "\n",
    "Значение по умолчанию, зависящее от установки (по соглашению, включая каталог пакетов сайта, обрабатываемый модулем сайта).\n",
    "\n",
    "Более подробная информация приведена при инициализации пути поиска модуля sys.path.\n",
    "\n",
    "Примечание. В файловых системах, поддерживающих символические ссылки, каталог, содержащий входной скрипт, вычисляется после перехода по символической ссылке. Другими словами, каталог, содержащий символическую ссылку, не добавляется в путь поиска модуля.\n",
    "После инициализации программы на Python могут изменять sys.path. Каталог, содержащий запускаемый скрипт, помещается в начале пути поиска, перед стандартным путем к библиотеке. Это означает, что скрипты из этого каталога будут загружены вместо одноименных модулей в каталоге библиотеки. Это ошибка, если только не предполагается замена. Дополнительную информацию смотрите в разделе Стандартные модули."
   ]
  },
  {
   "cell_type": "markdown",
   "id": "0b77c7c0",
   "metadata": {},
   "source": [
    "# 6.1.3. “Compiled” Python files\n"
   ]
  },
  {
   "cell_type": "markdown",
   "id": "b0f61f51",
   "metadata": {},
   "source": [
    "чтобы ускорить загрузку модулей, Python кэширует скомпилированную версию каждого модуля в каталоге __pycache__ под именем module.version.pyc, где версия кодирует формат скомпилированного файла; обычно она содержит номер версии Python. Например, в CPython версии 3.3 скомпилированная версия spam.py будет кэшироваться как __pikachu__/spam.cpython-33.pyc. Это соглашение об именовании позволяет скомпилированным модулям из разных выпусков и разных версий Python сосуществовать.\n",
    "\n",
    "Python проверяет дату изменения исходного кода по сравнению со скомпилированной версией, чтобы убедиться, что она устарела и нуждается в повторной компиляции. Это полностью автоматический процесс. Кроме того, скомпилированные модули не зависят от платформы, поэтому одна и та же библиотека может использоваться совместно системами с разной архитектурой.\n",
    "\n",
    "Python не проверяет кэш в двух случаях. Во-первых, он всегда перекомпилирует и не сохраняет результат для модуля, загруженного непосредственно из командной строки. Во-вторых, он не проверяет кэш, если нет исходного модуля. Чтобы поддерживать дистрибутив без исходного кода (только скомпилированный), скомпилированный модуль должен находиться в каталоге с исходным кодом, и в нем не должно быть модуля с исходным кодом.\n",
    "\n",
    "Несколько советов для экспертов:"
   ]
  },
  {
   "cell_type": "markdown",
   "id": "49b11226",
   "metadata": {},
   "source": [
    "Вы можете использовать переключатель -Moonroof в команде Python, чтобы уменьшить размер скомпилированного модуля. Переключатель -O удаляет операторы assert, переключатель -OO удаляет как операторы assert, так и строки __doc__. Поскольку некоторые программы могут полагаться на их доступность, вам следует использовать эту опцию, только если вы знаете, что делаете. “Оптимизированные” модули имеют опционный тег и обычно имеют меньший размер. В будущих версиях результаты оптимизации могут измениться.\n",
    "\n",
    "Программа не запускается быстрее, когда она считывается из файла .pyc, чем когда она считывается из файла .py; единственное, что в ней есть более быстрого.Файлы pyc - это скорость, с которой они загружаются.\n",
    "\n",
    "Модуль compileall может создавать .файлы pyc для всех модулей в каталоге.\n",
    "\n",
    "Более подробная информация об этом процессе, включая блок-схему принятия решений, содержится в PEP 3147."
   ]
  },
  {
   "cell_type": "markdown",
   "id": "310db144",
   "metadata": {},
   "source": [
    "# 6.2. Standard Modules\n"
   ]
  },
  {
   "cell_type": "markdown",
   "id": "c78c2516",
   "metadata": {},
   "source": [
    "Python поставляется с библиотекой стандартных модулей, описанных в отдельном документе - Справочнике по библиотеке Python (далее “Справочник по библиотеке”). В интерпретатор встроены некоторые модули; они предоставляют доступ к операциям, которые не являются частью ядра языка, но, тем не менее, встроены либо для повышения эффективности, либо для обеспечения доступа к примитивам операционной системы, таким как системные вызовы. Набор таких модулей является параметром конфигурации, который также зависит от базовой платформы. Например, модуль winreg доступен только в системах Windows. Особого внимания заслуживает один модуль: sys, который встроен в каждый интерпретатор Python. Переменные sys.ps1 и sys.ps2 определяют строки, используемые в качестве первичных и вторичных приглашений:"
   ]
  },
  {
   "cell_type": "code",
   "execution_count": 18,
   "id": "d7b8e7ee",
   "metadata": {},
   "outputs": [
    {
     "ename": "SyntaxError",
     "evalue": "invalid syntax (1114748812.py, line 8)",
     "output_type": "error",
     "traceback": [
      "\u001b[1;36m  Cell \u001b[1;32mIn[18], line 8\u001b[1;36m\u001b[0m\n\u001b[1;33m    Yuck!\u001b[0m\n\u001b[1;37m        ^\u001b[0m\n\u001b[1;31mSyntaxError\u001b[0m\u001b[1;31m:\u001b[0m invalid syntax\n"
     ]
    }
   ],
   "source": [
    "import sys\n",
    "sys.ps1\n",
    "'>>> '\n",
    "sys.ps2\n",
    "'... '\n",
    "sys.ps1 = 'C> '\n",
    "C> print('Yuck!')\n",
    "Yuck!\n",
    "C>"
   ]
  },
  {
   "cell_type": "markdown",
   "id": "0c282781",
   "metadata": {},
   "source": [
    "Эти две переменные определены только в том случае, если интерпретатор находится в интерактивном режиме.\n",
    "\n",
    "Переменная sys.path представляет собой список строк, который определяет путь поиска модулей интерпретатором. Он инициализируется путем по умолчанию, который берется из переменной среды PYTHONPATH или из встроенного значения по умолчанию, если PYTHONPATH не задан. Вы можете изменить его, используя стандартные операции со списком:"
   ]
  },
  {
   "cell_type": "code",
   "execution_count": 19,
   "id": "4072337f",
   "metadata": {},
   "outputs": [],
   "source": [
    "import sys\n",
    "sys.path.append('/ufs/guido/lib/python')"
   ]
  },
  {
   "cell_type": "markdown",
   "id": "136942ef",
   "metadata": {},
   "source": [
    "# 6.3. The dir() Function\n"
   ]
  },
  {
   "cell_type": "markdown",
   "id": "5711c29c",
   "metadata": {},
   "source": [
    "\n",
    "\n",
    "Встроенная функция dir() используется для определения имен, определенных модулем. Она возвращает отсортированный список строк:"
   ]
  },
  {
   "cell_type": "code",
   "execution_count": 20,
   "id": "537de2ba",
   "metadata": {},
   "outputs": [
    {
     "ename": "ModuleNotFoundError",
     "evalue": "No module named 'fibo'",
     "output_type": "error",
     "traceback": [
      "\u001b[1;31m---------------------------------------------------------------------------\u001b[0m",
      "\u001b[1;31mModuleNotFoundError\u001b[0m                       Traceback (most recent call last)",
      "Cell \u001b[1;32mIn[20], line 1\u001b[0m\n\u001b[1;32m----> 1\u001b[0m \u001b[38;5;28;01mimport\u001b[39;00m \u001b[38;5;21;01mfibo\u001b[39;00m\u001b[38;5;241m,\u001b[39m \u001b[38;5;21;01msys\u001b[39;00m\n\u001b[0;32m      2\u001b[0m \u001b[38;5;28mdir\u001b[39m(fibo)\n\u001b[0;32m      3\u001b[0m [\u001b[38;5;124m'\u001b[39m\u001b[38;5;124m__name__\u001b[39m\u001b[38;5;124m'\u001b[39m, \u001b[38;5;124m'\u001b[39m\u001b[38;5;124mfib\u001b[39m\u001b[38;5;124m'\u001b[39m, \u001b[38;5;124m'\u001b[39m\u001b[38;5;124mfib2\u001b[39m\u001b[38;5;124m'\u001b[39m]\n",
      "\u001b[1;31mModuleNotFoundError\u001b[0m: No module named 'fibo'"
     ]
    }
   ],
   "source": [
    "import fibo, sys\n",
    "dir(fibo)\n",
    "['__name__', 'fib', 'fib2']\n",
    "dir(sys)  \n",
    "['__breakpointhook__', '__displayhook__', '__doc__', '__excepthook__',\n",
    " '__interactivehook__', '__loader__', '__name__', '__package__', '__spec__',\n",
    " '__stderr__', '__stdin__', '__stdout__', '__unraisablehook__',\n",
    " '_clear_type_cache', '_current_frames', '_debugmallocstats', '_framework',\n",
    " '_getframe', '_git', '_home', '_xoptions', 'abiflags', 'addaudithook',\n",
    " 'api_version', 'argv', 'audit', 'base_exec_prefix', 'base_prefix',\n",
    " 'breakpointhook', 'builtin_module_names', 'byteorder', 'call_tracing',\n",
    " 'callstats', 'copyright', 'displayhook', 'dont_write_bytecode', 'exc_info',\n",
    " 'excepthook', 'exec_prefix', 'executable', 'exit', 'flags', 'float_info',\n",
    " 'float_repr_style', 'get_asyncgen_hooks', 'get_coroutine_origin_tracking_depth',\n",
    " 'getallocatedblocks', 'getdefaultencoding', 'getdlopenflags',\n",
    " 'getfilesystemencodeerrors', 'getfilesystemencoding', 'getprofile',\n",
    " 'getrecursionlimit', 'getrefcount', 'getsizeof', 'getswitchinterval',\n",
    " 'gettrace', 'hash_info', 'hexversion', 'implementation', 'int_info',\n",
    " 'intern', 'is_finalizing', 'last_traceback', 'last_type', 'last_value',\n",
    " 'maxsize', 'maxunicode', 'meta_path', 'modules', 'path', 'path_hooks',\n",
    " 'path_importer_cache', 'platform', 'prefix', 'ps1', 'ps2', 'pycache_prefix',\n",
    " 'set_asyncgen_hooks', 'set_coroutine_origin_tracking_depth', 'setdlopenflags',\n",
    " 'setprofile', 'setrecursionlimit', 'setswitchinterval', 'settrace', 'stderr',\n",
    " 'stdin', 'stdout', 'thread_info', 'unraisablehook', 'version', 'version_info',\n",
    " 'warnoptions']"
   ]
  },
  {
   "cell_type": "markdown",
   "id": "30a8d2a3",
   "metadata": {},
   "source": [
    "\n",
    "Без аргументов функция dir() выводит список имен, которые вы определили в данный момент:\n"
   ]
  },
  {
   "cell_type": "code",
   "execution_count": 21,
   "id": "60874cde",
   "metadata": {},
   "outputs": [
    {
     "ename": "ModuleNotFoundError",
     "evalue": "No module named 'fibo'",
     "output_type": "error",
     "traceback": [
      "\u001b[1;31m---------------------------------------------------------------------------\u001b[0m",
      "\u001b[1;31mModuleNotFoundError\u001b[0m                       Traceback (most recent call last)",
      "Cell \u001b[1;32mIn[21], line 2\u001b[0m\n\u001b[0;32m      1\u001b[0m a \u001b[38;5;241m=\u001b[39m [\u001b[38;5;241m1\u001b[39m, \u001b[38;5;241m2\u001b[39m, \u001b[38;5;241m3\u001b[39m, \u001b[38;5;241m4\u001b[39m, \u001b[38;5;241m5\u001b[39m]\n\u001b[1;32m----> 2\u001b[0m \u001b[38;5;28;01mimport\u001b[39;00m \u001b[38;5;21;01mfibo\u001b[39;00m\n\u001b[0;32m      3\u001b[0m fib \u001b[38;5;241m=\u001b[39m fibo\u001b[38;5;241m.\u001b[39mfib\n\u001b[0;32m      4\u001b[0m \u001b[38;5;28mdir\u001b[39m()\n",
      "\u001b[1;31mModuleNotFoundError\u001b[0m: No module named 'fibo'"
     ]
    }
   ],
   "source": [
    "a = [1, 2, 3, 4, 5]\n",
    "import fibo\n",
    "fib = fibo.fib\n",
    "dir()\n",
    "['__builtins__', '__name__', 'a', 'fib', 'fibo', 'sys']"
   ]
  },
  {
   "cell_type": "markdown",
   "id": "630ff3e3",
   "metadata": {},
   "source": [
    "Обратите внимание, что в нем перечислены все типы имен: переменные, модули, функции и т.д.\n",
    "\n",
    "функция dir() не содержит списка имен встроенных функций и переменных. Если вам нужен их список, они определены в стандартных компонентах модуля:"
   ]
  },
  {
   "cell_type": "code",
   "execution_count": 22,
   "id": "f265a348",
   "metadata": {},
   "outputs": [
    {
     "data": {
      "text/plain": [
       "['ArithmeticError',\n",
       " 'AssertionError',\n",
       " 'AttributeError',\n",
       " 'BaseException',\n",
       " 'BlockingIOError',\n",
       " 'BrokenPipeError',\n",
       " 'BufferError',\n",
       " 'BytesWarning',\n",
       " 'ChildProcessError',\n",
       " 'ConnectionAbortedError',\n",
       " 'ConnectionError',\n",
       " 'ConnectionRefusedError',\n",
       " 'ConnectionResetError',\n",
       " 'DeprecationWarning',\n",
       " 'EOFError',\n",
       " 'Ellipsis',\n",
       " 'EnvironmentError',\n",
       " 'Exception',\n",
       " 'False',\n",
       " 'FileExistsError',\n",
       " 'FileNotFoundError',\n",
       " 'FloatingPointError',\n",
       " 'FutureWarning',\n",
       " 'GeneratorExit',\n",
       " 'IOError',\n",
       " 'ImportError',\n",
       " 'ImportWarning',\n",
       " 'IndentationError',\n",
       " 'IndexError',\n",
       " 'InterruptedError',\n",
       " 'IsADirectoryError',\n",
       " 'KeyError',\n",
       " 'KeyboardInterrupt',\n",
       " 'LookupError',\n",
       " 'MemoryError',\n",
       " 'NameError',\n",
       " 'None',\n",
       " 'NotADirectoryError',\n",
       " 'NotImplemented',\n",
       " 'NotImplementedError',\n",
       " 'OSError',\n",
       " 'OverflowError',\n",
       " 'PendingDeprecationWarning',\n",
       " 'PermissionError',\n",
       " 'ProcessLookupError',\n",
       " 'ReferenceError',\n",
       " 'ResourceWarning',\n",
       " 'RuntimeError',\n",
       " 'RuntimeWarning',\n",
       " 'StopIteration',\n",
       " 'SyntaxError',\n",
       " 'SyntaxWarning',\n",
       " 'SystemError',\n",
       " 'SystemExit',\n",
       " 'TabError',\n",
       " 'TimeoutError',\n",
       " 'True',\n",
       " 'TypeError',\n",
       " 'UnboundLocalError',\n",
       " 'UnicodeDecodeError',\n",
       " 'UnicodeEncodeError',\n",
       " 'UnicodeError',\n",
       " 'UnicodeTranslateError',\n",
       " 'UnicodeWarning',\n",
       " 'UserWarning',\n",
       " 'ValueError',\n",
       " 'Warning',\n",
       " 'ZeroDivisionError',\n",
       " '_',\n",
       " '__build_class__',\n",
       " '__debug__',\n",
       " '__doc__',\n",
       " '__import__',\n",
       " '__name__',\n",
       " '__package__',\n",
       " 'abs',\n",
       " 'all',\n",
       " 'any',\n",
       " 'ascii',\n",
       " 'bin',\n",
       " 'bool',\n",
       " 'bytearray',\n",
       " 'bytes',\n",
       " 'callable',\n",
       " 'chr',\n",
       " 'classmethod',\n",
       " 'compile',\n",
       " 'complex',\n",
       " 'copyright',\n",
       " 'credits',\n",
       " 'delattr',\n",
       " 'dict',\n",
       " 'dir',\n",
       " 'divmod',\n",
       " 'enumerate',\n",
       " 'eval',\n",
       " 'exec',\n",
       " 'exit',\n",
       " 'filter',\n",
       " 'float',\n",
       " 'format',\n",
       " 'frozenset',\n",
       " 'getattr',\n",
       " 'globals',\n",
       " 'hasattr',\n",
       " 'hash',\n",
       " 'help',\n",
       " 'hex',\n",
       " 'id',\n",
       " 'input',\n",
       " 'int',\n",
       " 'isinstance',\n",
       " 'issubclass',\n",
       " 'iter',\n",
       " 'len',\n",
       " 'license',\n",
       " 'list',\n",
       " 'locals',\n",
       " 'map',\n",
       " 'max',\n",
       " 'memoryview',\n",
       " 'min',\n",
       " 'next',\n",
       " 'object',\n",
       " 'oct',\n",
       " 'open',\n",
       " 'ord',\n",
       " 'pow',\n",
       " 'print',\n",
       " 'property',\n",
       " 'quit',\n",
       " 'range',\n",
       " 'repr',\n",
       " 'reversed',\n",
       " 'round',\n",
       " 'set',\n",
       " 'setattr',\n",
       " 'slice',\n",
       " 'sorted',\n",
       " 'staticmethod',\n",
       " 'str',\n",
       " 'sum',\n",
       " 'super',\n",
       " 'tuple',\n",
       " 'type',\n",
       " 'vars',\n",
       " 'zip']"
      ]
     },
     "execution_count": 22,
     "metadata": {},
     "output_type": "execute_result"
    }
   ],
   "source": [
    "import builtins\n",
    "dir(builtins)  \n",
    "['ArithmeticError', 'AssertionError', 'AttributeError', 'BaseException',\n",
    " 'BlockingIOError', 'BrokenPipeError', 'BufferError', 'BytesWarning',\n",
    " 'ChildProcessError', 'ConnectionAbortedError', 'ConnectionError',\n",
    " 'ConnectionRefusedError', 'ConnectionResetError', 'DeprecationWarning',\n",
    " 'EOFError', 'Ellipsis', 'EnvironmentError', 'Exception', 'False',\n",
    " 'FileExistsError', 'FileNotFoundError', 'FloatingPointError',\n",
    " 'FutureWarning', 'GeneratorExit', 'IOError', 'ImportError',\n",
    " 'ImportWarning', 'IndentationError', 'IndexError', 'InterruptedError',\n",
    " 'IsADirectoryError', 'KeyError', 'KeyboardInterrupt', 'LookupError',\n",
    " 'MemoryError', 'NameError', 'None', 'NotADirectoryError', 'NotImplemented',\n",
    " 'NotImplementedError', 'OSError', 'OverflowError',\n",
    " 'PendingDeprecationWarning', 'PermissionError', 'ProcessLookupError',\n",
    " 'ReferenceError', 'ResourceWarning', 'RuntimeError', 'RuntimeWarning',\n",
    " 'StopIteration', 'SyntaxError', 'SyntaxWarning', 'SystemError',\n",
    " 'SystemExit', 'TabError', 'TimeoutError', 'True', 'TypeError',\n",
    " 'UnboundLocalError', 'UnicodeDecodeError', 'UnicodeEncodeError',\n",
    " 'UnicodeError', 'UnicodeTranslateError', 'UnicodeWarning', 'UserWarning',\n",
    " 'ValueError', 'Warning', 'ZeroDivisionError', '_', '__build_class__',\n",
    " '__debug__', '__doc__', '__import__', '__name__', '__package__', 'abs',\n",
    " 'all', 'any', 'ascii', 'bin', 'bool', 'bytearray', 'bytes', 'callable',\n",
    " 'chr', 'classmethod', 'compile', 'complex', 'copyright', 'credits',\n",
    " 'delattr', 'dict', 'dir', 'divmod', 'enumerate', 'eval', 'exec', 'exit',\n",
    " 'filter', 'float', 'format', 'frozenset', 'getattr', 'globals', 'hasattr',\n",
    " 'hash', 'help', 'hex', 'id', 'input', 'int', 'isinstance', 'issubclass',\n",
    " 'iter', 'len', 'license', 'list', 'locals', 'map', 'max', 'memoryview',\n",
    " 'min', 'next', 'object', 'oct', 'open', 'ord', 'pow', 'print', 'property',\n",
    " 'quit', 'range', 'repr', 'reversed', 'round', 'set', 'setattr', 'slice',\n",
    " 'sorted', 'staticmethod', 'str', 'sum', 'super', 'tuple', 'type', 'vars',\n",
    " 'zip']"
   ]
  },
  {
   "cell_type": "markdown",
   "id": "0bda89ac",
   "metadata": {},
   "source": [
    "# 6.4. Packages\n"
   ]
  },
  {
   "cell_type": "markdown",
   "id": "dd960dd8",
   "metadata": {},
   "source": [
    "Пакеты - это способ структурирования пространства имен модулей Python с помощью “точечных имен модулей”. Например, имя модуля A.B обозначает подмодуль с именем B в пакете с именем A. Точно так же, как использование модулей избавляет авторов разных модулей от необходимости беспокоиться об именах глобальных переменных друг друга, использование точечных имен модулей избавляет авторов многомодульных пакетов, таких как NumPy или Pillow от необходимости беспокоиться об именах модулей друг друга.\n",
    "\n",
    "Предположим, вы хотите разработать набор модулей (“пакет”) для единообразной обработки звуковых файлов и звуковых данных. Существует множество различных форматов звуковых файлов (обычно распознаваемых по их расширению, например: .wav, .aiff, .au), поэтому вам может потребоваться создать и поддерживать постоянно растущую коллекцию модулей для преобразования между различными форматами файлов. Существует также множество различных операций, которые вы, возможно, захотите выполнить со звуковыми данными (например, микширование, добавление эха, применение функции эквалайзера, создание искусственного стереоэффекта), поэтому, кроме того, вам придется писать бесконечный поток модулей для выполнения этих операций. Вот возможная структура вашего пакета (выраженная в терминах иерархической файловой системы).:"
   ]
  },
  {
   "cell_type": "code",
   "execution_count": 23,
   "id": "74348a0f",
   "metadata": {},
   "outputs": [
    {
     "ename": "SyntaxError",
     "evalue": "invalid syntax (2735550917.py, line 1)",
     "output_type": "error",
     "traceback": [
      "\u001b[1;36m  Cell \u001b[1;32mIn[23], line 1\u001b[1;36m\u001b[0m\n\u001b[1;33m    sound/                          Top-level package\u001b[0m\n\u001b[1;37m                                              ^\u001b[0m\n\u001b[1;31mSyntaxError\u001b[0m\u001b[1;31m:\u001b[0m invalid syntax\n"
     ]
    }
   ],
   "source": [
    "sound/                          Top-level package\n",
    "      __init__.py               Initialize the sound package\n",
    "      formats/                  Subpackage for file format conversions\n",
    "              __init__.py\n",
    "              wavread.py\n",
    "              wavwrite.py\n",
    "              aiffread.py\n",
    "              aiffwrite.py\n",
    "              auread.py\n",
    "              auwrite.py\n",
    "              ...\n",
    "      effects/                  Subpackage for sound effects\n",
    "              __init__.py\n",
    "              echo.py\n",
    "              surround.py\n",
    "              reverse.py\n",
    "              ...\n",
    "      filters/                  Subpackage for filters\n",
    "              __init__.py\n",
    "              equalizer.py\n",
    "              vocoder.py\n",
    "              karaoke.py\n",
    "              ..."
   ]
  },
  {
   "cell_type": "markdown",
   "id": "383efb6f",
   "metadata": {},
   "source": [
    "При импорте пакета Python выполняет поиск по каталогам в sys.path в поисках подкаталога пакета.\n",
    "\n",
    "Файлы __init__.py Необходимы для того, чтобы заставить Python рассматривать каталоги, содержащие файл, как пакеты (если только не используется пространство имен package, что является относительно расширенной функцией). Это предотвращает непреднамеренное сокрытие каталогами с общим именем, например string, допустимых модулей, которые встречаются позже в пути поиска модуля. В простейшем случае __init__.py может быть просто пустым файлом, но он также может выполнять код инициализации пакета или устанавливать переменную __all__, описанную ниже.\n",
    "\n",
    "Пользователи пакета могут импортировать отдельные модули из пакета, например:"
   ]
  },
  {
   "cell_type": "code",
   "execution_count": 24,
   "id": "46bf7ccd",
   "metadata": {},
   "outputs": [
    {
     "ename": "ModuleNotFoundError",
     "evalue": "No module named 'sound'",
     "output_type": "error",
     "traceback": [
      "\u001b[1;31m---------------------------------------------------------------------------\u001b[0m",
      "\u001b[1;31mModuleNotFoundError\u001b[0m                       Traceback (most recent call last)",
      "Cell \u001b[1;32mIn[24], line 1\u001b[0m\n\u001b[1;32m----> 1\u001b[0m \u001b[38;5;28;01mimport\u001b[39;00m \u001b[38;5;21;01msound\u001b[39;00m\u001b[38;5;21;01m.\u001b[39;00m\u001b[38;5;21;01meffects\u001b[39;00m\u001b[38;5;21;01m.\u001b[39;00m\u001b[38;5;21;01mecho\u001b[39;00m\n",
      "\u001b[1;31mModuleNotFoundError\u001b[0m: No module named 'sound'"
     ]
    }
   ],
   "source": [
    "import sound.effects.echo\n"
   ]
  },
  {
   "cell_type": "markdown",
   "id": "3ca48f9e",
   "metadata": {},
   "source": [
    "\n",
    "При этом загружается подмодуль sound.effects.echo. Для ссылки на него необходимо указать его полное название.\n"
   ]
  },
  {
   "cell_type": "code",
   "execution_count": 25,
   "id": "2e0c632d",
   "metadata": {},
   "outputs": [
    {
     "ename": "NameError",
     "evalue": "name 'sound' is not defined",
     "output_type": "error",
     "traceback": [
      "\u001b[1;31m---------------------------------------------------------------------------\u001b[0m",
      "\u001b[1;31mNameError\u001b[0m                                 Traceback (most recent call last)",
      "Cell \u001b[1;32mIn[25], line 1\u001b[0m\n\u001b[1;32m----> 1\u001b[0m sound\u001b[38;5;241m.\u001b[39meffects\u001b[38;5;241m.\u001b[39mecho\u001b[38;5;241m.\u001b[39mechofilter(\u001b[38;5;28minput\u001b[39m, output, delay\u001b[38;5;241m=\u001b[39m\u001b[38;5;241m0.7\u001b[39m, atten\u001b[38;5;241m=\u001b[39m\u001b[38;5;241m4\u001b[39m)\n",
      "\u001b[1;31mNameError\u001b[0m: name 'sound' is not defined"
     ]
    }
   ],
   "source": [
    "sound.effects.echo.echofilter(input, output, delay=0.7, atten=4)\n"
   ]
  },
  {
   "cell_type": "markdown",
   "id": "e7cfeefe",
   "metadata": {},
   "source": [
    "\n",
    "Альтернативным способом импорта подмодуля является:\n"
   ]
  },
  {
   "cell_type": "code",
   "execution_count": 26,
   "id": "674bccac",
   "metadata": {},
   "outputs": [
    {
     "ename": "ModuleNotFoundError",
     "evalue": "No module named 'sound'",
     "output_type": "error",
     "traceback": [
      "\u001b[1;31m---------------------------------------------------------------------------\u001b[0m",
      "\u001b[1;31mModuleNotFoundError\u001b[0m                       Traceback (most recent call last)",
      "Cell \u001b[1;32mIn[26], line 1\u001b[0m\n\u001b[1;32m----> 1\u001b[0m \u001b[38;5;28;01mfrom\u001b[39;00m \u001b[38;5;21;01msound\u001b[39;00m\u001b[38;5;21;01m.\u001b[39;00m\u001b[38;5;21;01meffects\u001b[39;00m \u001b[38;5;28;01mimport\u001b[39;00m echo\n",
      "\u001b[1;31mModuleNotFoundError\u001b[0m: No module named 'sound'"
     ]
    }
   ],
   "source": [
    "from sound.effects import echo\n"
   ]
  },
  {
   "cell_type": "markdown",
   "id": "8d911072",
   "metadata": {},
   "source": [
    "Это также загружает подмодуль echo и делает его доступным без префикса пакета, поэтому его можно использовать следующим образом:"
   ]
  },
  {
   "cell_type": "code",
   "execution_count": 28,
   "id": "e5657789",
   "metadata": {},
   "outputs": [
    {
     "ename": "NameError",
     "evalue": "name 'echo' is not defined",
     "output_type": "error",
     "traceback": [
      "\u001b[1;31m---------------------------------------------------------------------------\u001b[0m",
      "\u001b[1;31mNameError\u001b[0m                                 Traceback (most recent call last)",
      "Cell \u001b[1;32mIn[28], line 1\u001b[0m\n\u001b[1;32m----> 1\u001b[0m echo\u001b[38;5;241m.\u001b[39mechofilter(\u001b[38;5;28minput\u001b[39m, output, delay\u001b[38;5;241m=\u001b[39m\u001b[38;5;241m0.7\u001b[39m, atten\u001b[38;5;241m=\u001b[39m\u001b[38;5;241m4\u001b[39m)\n",
      "\u001b[1;31mNameError\u001b[0m: name 'echo' is not defined"
     ]
    }
   ],
   "source": [
    "echo.echofilter(input, output, delay=0.7, atten=4)\n"
   ]
  },
  {
   "cell_type": "markdown",
   "id": "4c94af21",
   "metadata": {},
   "source": [
    "\n",
    "Еще одним вариантом является прямой импорт нужной функции или переменной:\n"
   ]
  },
  {
   "cell_type": "code",
   "execution_count": 29,
   "id": "ed728cbd",
   "metadata": {},
   "outputs": [
    {
     "ename": "ModuleNotFoundError",
     "evalue": "No module named 'sound'",
     "output_type": "error",
     "traceback": [
      "\u001b[1;31m---------------------------------------------------------------------------\u001b[0m",
      "\u001b[1;31mModuleNotFoundError\u001b[0m                       Traceback (most recent call last)",
      "Cell \u001b[1;32mIn[29], line 1\u001b[0m\n\u001b[1;32m----> 1\u001b[0m \u001b[38;5;28;01mfrom\u001b[39;00m \u001b[38;5;21;01msound\u001b[39;00m\u001b[38;5;21;01m.\u001b[39;00m\u001b[38;5;21;01meffects\u001b[39;00m\u001b[38;5;21;01m.\u001b[39;00m\u001b[38;5;21;01mecho\u001b[39;00m \u001b[38;5;28;01mimport\u001b[39;00m echofilter\n",
      "\u001b[1;31mModuleNotFoundError\u001b[0m: No module named 'sound'"
     ]
    }
   ],
   "source": [
    "from sound.effects.echo import echofilter\n"
   ]
  },
  {
   "cell_type": "markdown",
   "id": "afedf154",
   "metadata": {},
   "source": [
    "Опять же, это загружает подмодуль echo, но делает его функцию echo filter() доступной напрямую:\n",
    "\n"
   ]
  },
  {
   "cell_type": "code",
   "execution_count": 30,
   "id": "0384a01c",
   "metadata": {},
   "outputs": [
    {
     "ename": "NameError",
     "evalue": "name 'echofilter' is not defined",
     "output_type": "error",
     "traceback": [
      "\u001b[1;31m---------------------------------------------------------------------------\u001b[0m",
      "\u001b[1;31mNameError\u001b[0m                                 Traceback (most recent call last)",
      "Cell \u001b[1;32mIn[30], line 1\u001b[0m\n\u001b[1;32m----> 1\u001b[0m echofilter(\u001b[38;5;28minput\u001b[39m, output, delay\u001b[38;5;241m=\u001b[39m\u001b[38;5;241m0.7\u001b[39m, atten\u001b[38;5;241m=\u001b[39m\u001b[38;5;241m4\u001b[39m)\n",
      "\u001b[1;31mNameError\u001b[0m: name 'echofilter' is not defined"
     ]
    }
   ],
   "source": [
    "echofilter(input, output, delay=0.7, atten=4)\n"
   ]
  },
  {
   "cell_type": "markdown",
   "id": "8734964c",
   "metadata": {},
   "source": [
    "Обратите внимание, что при использовании элемента импорта из пакета элемент может быть либо подмодулем (или подпакетом) пакета, либо каким-либо другим именем, определенным в пакете, например функцией, классом или переменной. Оператор import сначала проверяет, определен ли элемент в пакете; если нет, он предполагает, что это модуль, и пытается загрузить его. Если ему не удается его найти, возникает исключение ImportError.\n",
    "\n",
    "Напротив, при использовании синтаксиса, подобного import item.subitem.subsubitem, каждый элемент, за исключением последнего, должен быть пакетом; последний элемент может быть модулем или пакетом, но не может быть классом, функцией или переменной, определенными в предыдущем элементе."
   ]
  },
  {
   "cell_type": "markdown",
   "id": "7da25546",
   "metadata": {},
   "source": [
    "# 6.4.1. Importing * From a Package\n"
   ]
  },
  {
   "cell_type": "markdown",
   "id": "ae7f2819",
   "metadata": {},
   "source": [
    "Теперь, что происходит, когда пользователь записывает данные из sound.effects import *? В идеале, можно было бы надеяться, что это каким-то образом доберется до файловой системы, найдет, какие подмодули присутствуют в пакете, и импортирует их все. Это может занять много времени, а импорт подмодулей может привести к нежелательным побочным эффектам, которые должны возникать только при явном импорте подмодуля.\n",
    "\n"
   ]
  },
  {
   "cell_type": "markdown",
   "id": "6e1a124b",
   "metadata": {},
   "source": [
    "Единственное решение для автора пакета состоит в том, чтобы указать явный индекс пакета. В инструкции import используется следующее соглашение: если код пакета __init__.py определяет список с именем __all__, то он принимается за список имен модулей, которые должны быть импортированы при обнаружении from package import *. Автор пакета обязан обновлять этот список при выпуске новой версии пакета. Авторы пакета также могут отказаться от его поддержки, если они не видят смысла в импорте * из своего пакета. Например, файл sound/effects/__init__.py может содержать следующий код:\n"
   ]
  },
  {
   "cell_type": "code",
   "execution_count": 31,
   "id": "a60ffc55",
   "metadata": {},
   "outputs": [],
   "source": [
    "__all__ = [\"echo\", \"surround\", \"reverse\"]\n"
   ]
  },
  {
   "cell_type": "markdown",
   "id": "accf2fb0",
   "metadata": {},
   "source": [
    "Это означало бы, что из sound.effects import * будут импортированы три именованных подмодуля пакета sound.effects.\n",
    "\n",
    "Имейте в виду, что подмодули могут быть скрыты локально определенными именами. Например, если вы добавили функцию reverse в файл sound/effects/__init__.py, импорт из sound.effects * приведет только к импорту двух подмодулей echo и surround, но не к импорту reverse, поскольку он затенен локально определенной функцией reverse:"
   ]
  },
  {
   "cell_type": "code",
   "execution_count": 32,
   "id": "379929fe",
   "metadata": {},
   "outputs": [],
   "source": [
    "__all__ = [\n",
    "    \"echo\",      # refers to the 'echo.py' file\n",
    "    \"surround\",  # refers to the 'surround.py' file\n",
    "    \"reverse\",   # !!! refers to the 'reverse' function now !!!\n",
    "]\n",
    "\n",
    "def reverse(msg: str):  # <-- this name shadows the 'reverse.py' submodule\n",
    "    return msg[::-1]    #     in the case of a 'from sound.effects import *'"
   ]
  },
  {
   "cell_type": "markdown",
   "id": "08e16590",
   "metadata": {},
   "source": [
    "Если __all__ не определено, инструкция из sound.effects import * не импортирует все подмодули из пакета sound.effects в текущее пространство имен; она только гарантирует, что пакет sound.effects был импортирован (возможно, выполняется какой-либо код инициализации в __init__.py ), а затем импортирует любые имена, определенные в пакете. Это включает в себя любые имена, определенные (и явно загруженные подмодули) с помощью __init__.py. Это также включает в себя любые подмодули пакета, которые были явно загружены предыдущими инструкциями import. Рассмотрим этот код:"
   ]
  },
  {
   "cell_type": "code",
   "execution_count": 33,
   "id": "8e64c345",
   "metadata": {},
   "outputs": [
    {
     "ename": "ModuleNotFoundError",
     "evalue": "No module named 'sound'",
     "output_type": "error",
     "traceback": [
      "\u001b[1;31m---------------------------------------------------------------------------\u001b[0m",
      "\u001b[1;31mModuleNotFoundError\u001b[0m                       Traceback (most recent call last)",
      "Cell \u001b[1;32mIn[33], line 1\u001b[0m\n\u001b[1;32m----> 1\u001b[0m \u001b[38;5;28;01mimport\u001b[39;00m \u001b[38;5;21;01msound\u001b[39;00m\u001b[38;5;21;01m.\u001b[39;00m\u001b[38;5;21;01meffects\u001b[39;00m\u001b[38;5;21;01m.\u001b[39;00m\u001b[38;5;21;01mecho\u001b[39;00m\n\u001b[0;32m      2\u001b[0m \u001b[38;5;28;01mimport\u001b[39;00m \u001b[38;5;21;01msound\u001b[39;00m\u001b[38;5;21;01m.\u001b[39;00m\u001b[38;5;21;01meffects\u001b[39;00m\u001b[38;5;21;01m.\u001b[39;00m\u001b[38;5;21;01msurround\u001b[39;00m\n\u001b[0;32m      3\u001b[0m \u001b[38;5;28;01mfrom\u001b[39;00m \u001b[38;5;21;01msound\u001b[39;00m\u001b[38;5;21;01m.\u001b[39;00m\u001b[38;5;21;01meffects\u001b[39;00m \u001b[38;5;28;01mimport\u001b[39;00m \u001b[38;5;241m*\u001b[39m\n",
      "\u001b[1;31mModuleNotFoundError\u001b[0m: No module named 'sound'"
     ]
    }
   ],
   "source": [
    "import sound.effects.echo\n",
    "import sound.effects.surround\n",
    "from sound.effects import *"
   ]
  },
  {
   "cell_type": "markdown",
   "id": "de8766f1",
   "metadata": {},
   "source": [
    "В этом примере модули echo и surround импортируются в текущее пространство имен, поскольку они определены в пакете sound.effects при выполнении инструкции from...import. (Это также работает, когда определено значение __all__).\n",
    "\n",
    "Хотя некоторые модули предназначены для экспорта только имен, которые соответствуют определенным шаблонам, когда вы используете import *, это по-прежнему считается плохой практикой в производственном коде.\n",
    "\n",
    "Помните, что нет ничего плохого в использовании параметра from package import specific_submodule! На самом деле, это рекомендуемое обозначение, если только импортирующему модулю не нужно использовать подмодули с одинаковыми именами из разных пакетов."
   ]
  },
  {
   "cell_type": "markdown",
   "id": "a5320428",
   "metadata": {},
   "source": [
    "# 6.4.2. Intra-package References\n"
   ]
  },
  {
   "cell_type": "markdown",
   "id": "0931a77a",
   "metadata": {},
   "source": [
    "Когда пакеты структурированы в подпакеты (как в примере с пакетом sound), вы можете использовать абсолютный импорт для ссылки на подмодули пакетов-аналогов. Например, если модуль sound.filters.vocoder должен использовать модуль echo в пакете sound.effects, он может использовать функцию from sound.effects import echo.\n",
    "\n",
    "Вы также можете ввести относительный импорт, указав в инструкции import название from module import. При таком импорте начальные точки используются для обозначения текущего и родительского пакетов, участвующих в соответствующем импорте. Например, в модуле surround вы можете использовать:"
   ]
  },
  {
   "cell_type": "code",
   "execution_count": 35,
   "id": "4ab7ff44",
   "metadata": {},
   "outputs": [
    {
     "ename": "ImportError",
     "evalue": "attempted relative import with no known parent package",
     "output_type": "error",
     "traceback": [
      "\u001b[1;31m---------------------------------------------------------------------------\u001b[0m",
      "\u001b[1;31mImportError\u001b[0m                               Traceback (most recent call last)",
      "Cell \u001b[1;32mIn[35], line 1\u001b[0m\n\u001b[1;32m----> 1\u001b[0m \u001b[38;5;28;01mfrom\u001b[39;00m \u001b[38;5;21;01m.\u001b[39;00m \u001b[38;5;28;01mimport\u001b[39;00m echo\n\u001b[0;32m      2\u001b[0m \u001b[38;5;28;01mfrom\u001b[39;00m \u001b[38;5;21;01m.\u001b[39;00m\u001b[38;5;21;01m.\u001b[39;00m \u001b[38;5;28;01mimport\u001b[39;00m formats\n\u001b[0;32m      3\u001b[0m \u001b[38;5;28;01mfrom\u001b[39;00m \u001b[38;5;21;01m.\u001b[39;00m\u001b[38;5;21;01m.\u001b[39;00m\u001b[38;5;21;01mfilters\u001b[39;00m \u001b[38;5;28;01mimport\u001b[39;00m equalizer\n",
      "\u001b[1;31mImportError\u001b[0m: attempted relative import with no known parent package"
     ]
    }
   ],
   "source": [
    "from . import echo\n",
    "from .. import formats\n",
    "from ..filters import equalizer"
   ]
  },
  {
   "cell_type": "markdown",
   "id": "d196b6f8",
   "metadata": {},
   "source": [
    "Обратите внимание, что относительный импорт основан на имени текущего модуля. Поскольку имя основного модуля всегда \"__main__\", модули, предназначенные для использования в качестве основного модуля приложения на Python, всегда должны использовать абсолютный импорт.\n",
    "\n"
   ]
  },
  {
   "cell_type": "markdown",
   "id": "0a2a79da",
   "metadata": {},
   "source": [
    "6.4.3. Пакеты в нескольких каталогах\n",
    "Пакеты поддерживают еще один специальный атрибут, __path__. Этот атрибут инициализируется как список, содержащий имя каталога, в котором находится ___ пакетаinit__.py перед выполнением кода в этом файле. Эту переменную можно изменить; это повлияет на дальнейший поиск модулей и подпакетов, содержащихся в пакете.\n",
    "\n",
    "Хотя эта функция не часто требуется, ее можно использовать для расширения набора модулей, найденных в пакете.\n",
    "\n",
    "Примечания\n",
    "\n",
    "[1]\n",
    "На самом деле определения функций также являются \"операторами\", которые \"выполняются\"; выполнение определения функции на уровне модуля добавляет имя функции в глобальное пространство имен модуля."
   ]
  },
  {
   "cell_type": "code",
   "execution_count": null,
   "id": "958ac0cb",
   "metadata": {},
   "outputs": [],
   "source": []
  }
 ],
 "metadata": {
  "kernelspec": {
   "display_name": "Python 3 (ipykernel)",
   "language": "python",
   "name": "python3"
  },
  "language_info": {
   "codemirror_mode": {
    "name": "ipython",
    "version": 3
   },
   "file_extension": ".py",
   "mimetype": "text/x-python",
   "name": "python",
   "nbconvert_exporter": "python",
   "pygments_lexer": "ipython3",
   "version": "3.11.4"
  }
 },
 "nbformat": 4,
 "nbformat_minor": 5
}
