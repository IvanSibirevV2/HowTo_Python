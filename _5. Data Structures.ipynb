{
 "cells": [
  {
   "cell_type": "markdown",
   "id": "2ee8c1ed",
   "metadata": {},
   "source": [
    "https://docs.python.org/3/tutorial/index.html"
   ]
  },
  {
   "cell_type": "markdown",
   "id": "9a22f5e5",
   "metadata": {},
   "source": [
    "_5. Data Structures\n"
   ]
  },
  {
   "cell_type": "markdown",
   "id": "02f6d9f8",
   "metadata": {},
   "source": [
    "# 5. Data Structures¶\n"
   ]
  },
  {
   "cell_type": "markdown",
   "id": "44640966",
   "metadata": {},
   "source": [
    "This chapter describes some things you’ve learned about already in more detail, and adds some new things as well.\n",
    "\n"
   ]
  },
  {
   "cell_type": "markdown",
   "id": "7a2da6c2",
   "metadata": {},
   "source": [
    "# 5.1. More on Lists¶\n"
   ]
  },
  {
   "cell_type": "markdown",
   "id": "7fc6cb43",
   "metadata": {},
   "source": [
    "The list data type has some more methods. Here are all of the methods of list objects:\n",
    "\n"
   ]
  },
  {
   "cell_type": "markdown",
   "id": "cb59a010",
   "metadata": {},
   "source": [
    "- list.append(x)\n",
    "\n",
    "Add an item to the end of the list. Equivalent to a[len(a):] = [x].\n",
    "\n",
    "- list.extend(iterable)\n",
    "\n",
    "Extend the list by appending all the items from the iterable. Equivalent to a[len(a):] = iterable.\n",
    "\n",
    "- list.insert(i, x)\n",
    "\n",
    "Insert an item at a given position. The first argument is the index of the element before which to insert, so a.insert(0, x) inserts at the front of the list, and a.insert(len(a), x) is equivalent to a.append(x).\n",
    "\n",
    "- list.remove(x)\n",
    "\n",
    "Remove the first item from the list whose value is equal to x. It raises a ValueError if there is no such item.\n",
    "\n",
    "- list.pop([i])\n",
    "\n",
    "Remove the item at the given position in the list, and return it. If no index is specified, a.pop() removes and returns the last item in the list. (The square brackets around the i in the method signature denote that the parameter is optional, not that you should type square brackets at that position. You will see this notation frequently in the Python Library Reference.)\n",
    "\n",
    "- list.clear()\n",
    "\n",
    "Remove all items from the list. Equivalent to del a[:].\n",
    "\n",
    "- list.index(x[, start[, end]])\n",
    "\n",
    "Return zero-based index in the list of the first item whose value is equal to x. Raises a ValueError if there is no such item.\n",
    "\n",
    "The optional arguments start and end are interpreted as in the slice notation and are used to limit the search to a particular subsequence of the list. The returned index is computed relative to the beginning of the full sequence rather than the start argument.\n",
    "\n",
    "- list.count(x)\n",
    "\n",
    "Return the number of times x appears in the list.\n",
    "\n",
    "- list.sort(*, key=None, reverse=False)\n",
    "\n",
    "Sort the items of the list in place (the arguments can be used for sort customization, see sorted() for their explanation).\n",
    "\n",
    "- list.reverse()\n",
    "\n",
    "Reverse the elements of the list in place.\n",
    "\n",
    "- list.copy()\n",
    "\n",
    "Return a shallow copy of the list. Equivalent to a[:].\n",
    "\n",
    "An example that uses most of the list methods:"
   ]
  },
  {
   "cell_type": "code",
   "execution_count": 1,
   "id": "7bd27be1",
   "metadata": {},
   "outputs": [
    {
     "data": {
      "text/plain": [
       "'pear'"
      ]
     },
     "execution_count": 1,
     "metadata": {},
     "output_type": "execute_result"
    }
   ],
   "source": [
    "fruits = ['orange', 'apple', 'pear', 'banana', 'kiwi', 'apple', 'banana']\n",
    "fruits.count('apple')\n",
    "2\n",
    "fruits.count('tangerine')\n",
    "0\n",
    "fruits.index('banana')\n",
    "3\n",
    "fruits.index('banana', 4)  # Find next banana starting at position 4\n",
    "6\n",
    "fruits.reverse()\n",
    "fruits\n",
    "['banana', 'apple', 'kiwi', 'banana', 'pear', 'apple', 'orange']\n",
    "fruits.append('grape')\n",
    "fruits\n",
    "['banana', 'apple', 'kiwi', 'banana', 'pear', 'apple', 'orange', 'grape']\n",
    "fruits.sort()\n",
    "fruits\n",
    "['apple', 'apple', 'banana', 'banana', 'grape', 'kiwi', 'orange', 'pear']\n",
    "fruits.pop()\n",
    "'pear'"
   ]
  },
  {
   "cell_type": "markdown",
   "id": "791805c3",
   "metadata": {},
   "source": [
    "You might have noticed that methods like insert, remove or sort that only modify the list have no return value printed – they return the default None. [1] This is a design principle for all mutable data structures in Python.\n",
    "\n",
    "Another thing you might notice is that not all data can be sorted or compared. For instance, [None, 'hello', 10] doesn’t sort because integers can’t be compared to strings and None can’t be compared to other types. Also, there are some types that don’t have a defined ordering relation. For example, 3+4j < 5+7j isn’t a valid comparison."
   ]
  },
  {
   "cell_type": "markdown",
   "id": "3e383538",
   "metadata": {},
   "source": [
    "# 5.1.1. Using Lists as Stacks¶\n"
   ]
  },
  {
   "cell_type": "markdown",
   "id": "8845efb6",
   "metadata": {},
   "source": [
    "The list methods make it very easy to use a list as a stack, where the last element added is the first element retrieved (“last-in, first-out”). To add an item to the top of the stack, use append(). To retrieve an item from the top of the stack, use pop() without an explicit index. For example:\n",
    "\n"
   ]
  },
  {
   "cell_type": "code",
   "execution_count": 2,
   "id": "f0371f97",
   "metadata": {},
   "outputs": [
    {
     "data": {
      "text/plain": [
       "[3, 4]"
      ]
     },
     "execution_count": 2,
     "metadata": {},
     "output_type": "execute_result"
    }
   ],
   "source": [
    "stack = [3, 4, 5]\n",
    "stack.append(6)\n",
    "stack.append(7)\n",
    "stack\n",
    "[3, 4, 5, 6, 7]\n",
    "stack.pop()\n",
    "7\n",
    "stack\n",
    "[3, 4, 5, 6]\n",
    "stack.pop()\n",
    "6\n",
    "stack.pop()\n",
    "5\n",
    "stack\n",
    "[3, 4]"
   ]
  },
  {
   "cell_type": "markdown",
   "id": "3d8f1b3e",
   "metadata": {},
   "source": [
    "# 5.1.2. Using Lists as Queues¶\n"
   ]
  },
  {
   "cell_type": "markdown",
   "id": "298bf2ac",
   "metadata": {},
   "source": [
    "It is also possible to use a list as a queue, where the first element added is the first element retrieved (“first-in, first-out”); however, lists are not efficient for this purpose. While appends and pops from the end of list are fast, doing inserts or pops from the beginning of a list is slow (because all of the other elements have to be shifted by one).\n",
    "\n"
   ]
  },
  {
   "cell_type": "markdown",
   "id": "87c74e4f",
   "metadata": {},
   "source": [
    "To implement a queue, use collections.deque which was designed to have fast appends and pops from both ends. For example:\n",
    "\n"
   ]
  },
  {
   "cell_type": "code",
   "execution_count": 3,
   "id": "14b1cc9d",
   "metadata": {},
   "outputs": [
    {
     "data": {
      "text/plain": [
       "deque(['Michael', 'Terry', 'Graham'])"
      ]
     },
     "execution_count": 3,
     "metadata": {},
     "output_type": "execute_result"
    }
   ],
   "source": [
    "from collections import deque\n",
    "queue = deque([\"Eric\", \"John\", \"Michael\"])\n",
    "queue.append(\"Terry\")           # Terry arrives\n",
    "queue.append(\"Graham\")          # Graham arrives\n",
    "queue.popleft()                 # The first to arrive now leaves\n",
    "'Eric'\n",
    "queue.popleft()                 # The second to arrive now leaves\n",
    "'John'\n",
    "queue                           # Remaining queue in order of arrival\n",
    "deque(['Michael', 'Terry', 'Graham'])"
   ]
  },
  {
   "cell_type": "markdown",
   "id": "a62700a3",
   "metadata": {},
   "source": [
    "# 5.1.3. List Comprehensions¶\n"
   ]
  },
  {
   "cell_type": "markdown",
   "id": "fb056593",
   "metadata": {},
   "source": [
    "List comprehensions provide a concise way to create lists. Common applications are to make new lists where each element is the result of some operations applied to each member of another sequence or iterable, or to create a subsequence of those elements that satisfy a certain condition.\n",
    "\n"
   ]
  },
  {
   "cell_type": "markdown",
   "id": "1af60bc4",
   "metadata": {},
   "source": [
    "For example, assume we want to create a list of squares, like:\n",
    "\n"
   ]
  },
  {
   "cell_type": "code",
   "execution_count": 4,
   "id": "5862bdc5",
   "metadata": {},
   "outputs": [
    {
     "data": {
      "text/plain": [
       "[0, 1, 4, 9, 16, 25, 36, 49, 64, 81]"
      ]
     },
     "execution_count": 4,
     "metadata": {},
     "output_type": "execute_result"
    }
   ],
   "source": [
    "squares = []\n",
    "for x in range(10):\n",
    "    squares.append(x**2)\n",
    "\n",
    "squares\n",
    "[0, 1, 4, 9, 16, 25, 36, 49, 64, 81]"
   ]
  },
  {
   "cell_type": "markdown",
   "id": "b625ed75",
   "metadata": {},
   "source": [
    "Note that this creates (or overwrites) a variable named x that still exists after the loop completes. We can calculate the list of squares without any side effects using:\n",
    "\n"
   ]
  },
  {
   "cell_type": "code",
   "execution_count": 5,
   "id": "f3eb2619",
   "metadata": {},
   "outputs": [],
   "source": [
    "squares = list(map(lambda x: x**2, range(10)))\n"
   ]
  },
  {
   "cell_type": "markdown",
   "id": "03e8a28a",
   "metadata": {},
   "source": [
    "or, equivalently:\n",
    "\n"
   ]
  },
  {
   "cell_type": "code",
   "execution_count": 6,
   "id": "78017893",
   "metadata": {},
   "outputs": [],
   "source": [
    "squares = [x**2 for x in range(10)]\n"
   ]
  },
  {
   "cell_type": "markdown",
   "id": "8f4e75fe",
   "metadata": {},
   "source": [
    "which is more concise and readable.\n",
    "\n",
    "A list comprehension consists of brackets containing an expression followed by a for clause, then zero or more for or if clauses. The result will be a new list resulting from evaluating the expression in the context of the for and if clauses which follow it. For example, this listcomp combines the elements of two lists if they are not equal:"
   ]
  },
  {
   "cell_type": "code",
   "execution_count": 7,
   "id": "01b5e918",
   "metadata": {},
   "outputs": [
    {
     "data": {
      "text/plain": [
       "[(1, 3), (1, 4), (2, 3), (2, 1), (2, 4), (3, 1), (3, 4)]"
      ]
     },
     "execution_count": 7,
     "metadata": {},
     "output_type": "execute_result"
    }
   ],
   "source": [
    "[(x, y) for x in [1,2,3] for y in [3,1,4] if x != y]\n",
    "[(1, 3), (1, 4), (2, 3), (2, 1), (2, 4), (3, 1), (3, 4)]"
   ]
  },
  {
   "cell_type": "markdown",
   "id": "a85076e8",
   "metadata": {},
   "source": [
    "and it’s equivalent to:\n",
    "\n"
   ]
  },
  {
   "cell_type": "code",
   "execution_count": 8,
   "id": "f9e6e409",
   "metadata": {},
   "outputs": [
    {
     "data": {
      "text/plain": [
       "[(1, 3), (1, 4), (2, 3), (2, 1), (2, 4), (3, 1), (3, 4)]"
      ]
     },
     "execution_count": 8,
     "metadata": {},
     "output_type": "execute_result"
    }
   ],
   "source": [
    "combs = []\n",
    "for x in [1,2,3]:\n",
    "    for y in [3,1,4]:\n",
    "        if x != y:\n",
    "            combs.append((x, y))\n",
    "\n",
    "combs\n",
    "[(1, 3), (1, 4), (2, 3), (2, 1), (2, 4), (3, 1), (3, 4)]"
   ]
  },
  {
   "cell_type": "markdown",
   "id": "83223974",
   "metadata": {},
   "source": [
    "Note how the order of the for and if statements is the same in both these snippets.\n",
    "\n",
    "If the expression is a tuple (e.g. the (x, y) in the previous example), it must be parenthesized.\n",
    "\n"
   ]
  },
  {
   "cell_type": "code",
   "execution_count": 9,
   "id": "f924ed74",
   "metadata": {},
   "outputs": [
    {
     "ename": "SyntaxError",
     "evalue": "did you forget parentheses around the comprehension target? (3091641547.py, line 19)",
     "output_type": "error",
     "traceback": [
      "\u001b[1;36m  Cell \u001b[1;32mIn[9], line 19\u001b[1;36m\u001b[0m\n\u001b[1;33m    [x, x**2 for x in range(6)]\u001b[0m\n\u001b[1;37m     ^\u001b[0m\n\u001b[1;31mSyntaxError\u001b[0m\u001b[1;31m:\u001b[0m did you forget parentheses around the comprehension target?\n"
     ]
    }
   ],
   "source": [
    "vec = [-4, -2, 0, 2, 4]\n",
    "# create a new list with the values doubled\n",
    "[x*2 for x in vec]\n",
    "[-8, -4, 0, 4, 8]\n",
    "# filter the list to exclude negative numbers\n",
    "[x for x in vec if x >= 0]\n",
    "[0, 2, 4]\n",
    "# apply a function to all the elements\n",
    "[abs(x) for x in vec]\n",
    "[4, 2, 0, 2, 4]\n",
    "# call a method on each element\n",
    "freshfruit = ['  banana', '  loganberry ', 'passion fruit  ']\n",
    "[weapon.strip() for weapon in freshfruit]\n",
    "['banana', 'loganberry', 'passion fruit']\n",
    "# create a list of 2-tuples like (number, square)\n",
    "[(x, x**2) for x in range(6)]\n",
    "[(0, 0), (1, 1), (2, 4), (3, 9), (4, 16), (5, 25)]\n",
    "# the tuple must be parenthesized, otherwise an error is raised\n",
    "[x, x**2 for x in range(6)]\n",
    "  File \"<stdin>\", line 1\n",
    "    [x, x**2 for x in range(6)]\n",
    "     ^^^^^^^\n",
    "SyntaxError: did you forget parentheses around the comprehension target?\n",
    "# flatten a list using a listcomp with two 'for'\n",
    "vec = [[1,2,3], [4,5,6], [7,8,9]]\n",
    "[num for elem in vec for num in elem]\n",
    "[1, 2, 3, 4, 5, 6, 7, 8, 9]"
   ]
  },
  {
   "cell_type": "markdown",
   "id": "5c2f9bdd",
   "metadata": {},
   "source": [
    "List comprehensions can contain complex expressions and nested functions:\n",
    "\n"
   ]
  },
  {
   "cell_type": "code",
   "execution_count": 10,
   "id": "8a55775b",
   "metadata": {},
   "outputs": [
    {
     "data": {
      "text/plain": [
       "['3.1', '3.14', '3.142', '3.1416', '3.14159']"
      ]
     },
     "execution_count": 10,
     "metadata": {},
     "output_type": "execute_result"
    }
   ],
   "source": [
    "from math import pi\n",
    "[str(round(pi, i)) for i in range(1, 6)]\n",
    "['3.1', '3.14', '3.142', '3.1416', '3.14159']"
   ]
  },
  {
   "cell_type": "markdown",
   "id": "e0d0d0db",
   "metadata": {},
   "source": [
    "5.1.4. Nested List Comprehensions¶\n"
   ]
  }
 ],
 "metadata": {
  "kernelspec": {
   "display_name": "Python 3 (ipykernel)",
   "language": "python",
   "name": "python3"
  },
  "language_info": {
   "codemirror_mode": {
    "name": "ipython",
    "version": 3
   },
   "file_extension": ".py",
   "mimetype": "text/x-python",
   "name": "python",
   "nbconvert_exporter": "python",
   "pygments_lexer": "ipython3",
   "version": "3.11.4"
  }
 },
 "nbformat": 4,
 "nbformat_minor": 5
}
